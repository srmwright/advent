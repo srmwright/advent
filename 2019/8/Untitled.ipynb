{
 "cells": [
  {
   "cell_type": "code",
   "execution_count": 33,
   "metadata": {},
   "outputs": [],
   "source": []
  },
  {
   "cell_type": "code",
   "execution_count": 9,
   "metadata": {},
   "outputs": [
    {
     "name": "stdout",
     "output_type": "stream",
     "text": [
      "15000\n"
     ]
    }
   ],
   "source": [
    "with open('input.txt') as f:\n",
    "    input = f.read().strip()\n",
    "print(len(input))"
   ]
  },
  {
   "cell_type": "code",
   "execution_count": 7,
   "metadata": {},
   "outputs": [
    {
     "data": {
      "text/plain": [
       "'2'"
      ]
     },
     "execution_count": 7,
     "metadata": {},
     "output_type": "execute_result"
    }
   ],
   "source": [
    "tmp = '123456789012'"
   ]
  },
  {
   "cell_type": "code",
   "execution_count": 17,
   "metadata": {},
   "outputs": [
    {
     "data": {
      "text/plain": [
       "2064"
      ]
     },
     "execution_count": 17,
     "metadata": {},
     "output_type": "execute_result"
    }
   ],
   "source": [
    "zeroes = []\n",
    "ones = []\n",
    "twos = []\n",
    "width = 25\n",
    "height = 6\n",
    "page_dim = width * height\n",
    "page_no = 0\n",
    "i = 0\n",
    "while i < len(input):\n",
    "    j = 0\n",
    "    zeroes.append(0)\n",
    "    ones.append(0)\n",
    "    twos.append(0)\n",
    "    while j < page_dim:\n",
    "        if(input[i] == '0'):\n",
    "            zeroes[page_no] += 1\n",
    "        if(input[i] == '1'):\n",
    "            ones[page_no] += 1\n",
    "        if(input[i] == '2'):\n",
    "            twos[page_no] += 1\n",
    "        i += 1\n",
    "        j += 1\n",
    "    page_no += 1\n",
    "idx = zeroes.index(min(zeroes))\n",
    "ones[idx]*twos[idx]"
   ]
  },
  {
   "cell_type": "code",
   "execution_count": 22,
   "metadata": {},
   "outputs": [],
   "source": [
    "output = []\n",
    "width = 25\n",
    "height = 6\n",
    "page_dim = width * height\n",
    "page_no = 0\n",
    "for i in range(0, page_dim):\n",
    "    top_pixel = input[i]\n",
    "    j = 1\n",
    "    while top_pixel == '2':\n",
    "        top_pixel = input[i + page_dim*j]\n",
    "        j += 1\n",
    "    output.append(top_pixel)"
   ]
  },
  {
   "cell_type": "code",
   "execution_count": 35,
   "metadata": {},
   "outputs": [
    {
     "data": {
      "text/plain": [
       "matrix([['1', '0', '0', '1', '0', '0', '1', '1', '0', '0', '1', '0', '0', '1', '0', '1', '1', '1', '1', '0', '0', '1', '1', '0', '0'],\n",
       "        ['1', '0', '1', '0', '0', '1', '0', '0', '1', '0', '1', '0', '0', '1', '0', '0', '0', '0', '1', '0', '1', '0', '0', '1', '0'],\n",
       "        ['1', '1', '0', '0', '0', '1', '0', '0', '1', '0', '1', '0', '0', '1', '0', '0', '0', '1', '0', '0', '1', '0', '0', '1', '0'],\n",
       "        ['1', '0', '1', '0', '0', '1', '1', '1', '1', '0', '1', '0', '0', '1', '0', '0', '1', '0', '0', '0', '1', '1', '1', '1', '0'],\n",
       "        ['1', '0', '1', '0', '0', '1', '0', '0', '1', '0', '1', '0', '0', '1', '0', '1', '0', '0', '0', '0', '1', '0', '0', '1', '0'],\n",
       "        ['1', '0', '0', '1', '0', '1', '0', '0', '1', '0', '0', '1', '1', '0', '0', '1', '1', '1', '1', '0', '1', '0', '0', '1', '0']], dtype='<U1')"
      ]
     },
     "execution_count": 35,
     "metadata": {},
     "output_type": "execute_result"
    }
   ],
   "source": [
    "import numpy as np\n",
    "np.set_printoptions(linewidth = 250)\n",
    "np.matrix(np.array(output).reshape(6,25))"
   ]
  },
  {
   "cell_type": "code",
   "execution_count": null,
   "metadata": {},
   "outputs": [],
   "source": []
  }
 ],
 "metadata": {
  "kernelspec": {
   "display_name": "Python 3",
   "language": "python",
   "name": "python3"
  },
  "language_info": {
   "codemirror_mode": {
    "name": "ipython",
    "version": 3
   },
   "file_extension": ".py",
   "mimetype": "text/x-python",
   "name": "python",
   "nbconvert_exporter": "python",
   "pygments_lexer": "ipython3",
   "version": "3.7.4"
  }
 },
 "nbformat": 4,
 "nbformat_minor": 4
}
