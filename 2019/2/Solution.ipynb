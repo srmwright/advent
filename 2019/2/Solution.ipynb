{
 "cells": [
  {
   "cell_type": "code",
   "execution_count": 109,
   "metadata": {},
   "outputs": [],
   "source": [
    "with open('input.txt') as f:\n",
    "    input = f.read()\n",
    "command_string = list(map(int, input.split(','))) #map to integers"
   ]
  },
  {
   "cell_type": "code",
   "execution_count": 110,
   "metadata": {},
   "outputs": [],
   "source": [
    "test_string = \"1,0,0,0,99\""
   ]
  },
  {
   "cell_type": "code",
   "execution_count": 111,
   "metadata": {},
   "outputs": [],
   "source": [
    "#command_string = list(map(int, test_string.split(',')))"
   ]
  },
  {
   "cell_type": "code",
   "execution_count": 112,
   "metadata": {},
   "outputs": [],
   "source": [
    "def op1(inputs,x,y):\n",
    "    return inputs[x] + inputs[y]"
   ]
  },
  {
   "cell_type": "code",
   "execution_count": 113,
   "metadata": {},
   "outputs": [],
   "source": [
    "def op2(inputs,x,y):\n",
    "    return inputs[x] * inputs[y]"
   ]
  },
  {
   "cell_type": "code",
   "execution_count": 121,
   "metadata": {},
   "outputs": [],
   "source": [
    "def computer(noun,verb):\n",
    "    i = 0\n",
    "    ans = command_string.copy()\n",
    "    ans[1] = noun\n",
    "    ans[2] = verb\n",
    "    while i < len(command_string):\n",
    "        operator = ans[i]\n",
    "        if(operator == 1):\n",
    "            x = op1(ans,ans[i+1],ans[i+2])\n",
    "            #print(x)  \n",
    "            ans[ans[i+3]] = x\n",
    "        if(operator == 2):\n",
    "            x = op2(ans,ans[i+1],ans[i+2])\n",
    "            #print(x)  \n",
    "            ans[ans[i+3]] = x\n",
    "        if(operator == 99):\n",
    "            break\n",
    "        i = i + 4\n",
    "    return(ans)"
   ]
  },
  {
   "cell_type": "code",
   "execution_count": 122,
   "metadata": {},
   "outputs": [],
   "source": [
    "ans = computer(12,2)"
   ]
  },
  {
   "cell_type": "code",
   "execution_count": 123,
   "metadata": {},
   "outputs": [
    {
     "name": "stdout",
     "output_type": "stream",
     "text": [
      "6087827\n"
     ]
    }
   ],
   "source": [
    "answer = ans[0]\n",
    "print(answer)"
   ]
  },
  {
   "cell_type": "code",
   "execution_count": 132,
   "metadata": {},
   "outputs": [
    {
     "name": "stdout",
     "output_type": "stream",
     "text": [
      "53 79\n",
      "5379\n"
     ]
    }
   ],
   "source": [
    "for i in range(0,len(command_string)):\n",
    "    for j in range(0,len(command_string)):\n",
    "        answer = computer(i,j)[0]\n",
    "        if(answer) == 19690720:\n",
    "            print(i,j)\n",
    "            print(100*i+j)\n",
    "            break"
   ]
  },
  {
   "cell_type": "markdown",
   "metadata": {},
   "source": [
    "An aside on breaking: turns out you can't break from two loops that easily (so this actually ran to completion on the outer loop despite the break). There's a neater way to do this using \"pairs\":"
   ]
  },
  {
   "cell_type": "code",
   "execution_count": null,
   "metadata": {},
   "outputs": [],
   "source": []
  }
 ],
 "metadata": {
  "kernelspec": {
   "display_name": "Python 3",
   "language": "python",
   "name": "python3"
  },
  "language_info": {
   "codemirror_mode": {
    "name": "ipython",
    "version": 3
   },
   "file_extension": ".py",
   "mimetype": "text/x-python",
   "name": "python",
   "nbconvert_exporter": "python",
   "pygments_lexer": "ipython3",
   "version": "3.7.4"
  }
 },
 "nbformat": 4,
 "nbformat_minor": 4
}
