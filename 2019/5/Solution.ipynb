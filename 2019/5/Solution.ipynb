{
 "cells": [
  {
   "cell_type": "code",
   "execution_count": 175,
   "metadata": {},
   "outputs": [],
   "source": [
    "with open('input.txt') as f:\n",
    "    input = f.read()\n",
    "command_string = list(map(int, input.split(','))) #map to integers"
   ]
  },
  {
   "cell_type": "code",
   "execution_count": 153,
   "metadata": {},
   "outputs": [],
   "source": [
    "test_string = \"3,3,1107,-1,8,3,4,3,99\""
   ]
  },
  {
   "cell_type": "code",
   "execution_count": 161,
   "metadata": {},
   "outputs": [],
   "source": [
    "test_string = \"3,21,1008,21,8,20,1005,20,22,107,8,21,20,1006,20,31,1106,0,36,98,0,0,1002,21,125,20,4,20,1105,1,46,104,999,1105,1,46,1101,1000,1,20,4,20,1105,1,46,98,99\""
   ]
  },
  {
   "cell_type": "code",
   "execution_count": 162,
   "metadata": {},
   "outputs": [],
   "source": [
    "command_string = list(map(int, test_string.split(',')))"
   ]
  },
  {
   "cell_type": "code",
   "execution_count": 163,
   "metadata": {},
   "outputs": [],
   "source": [
    "def op1(inputs,x,y):\n",
    "    return inputs[x] + inputs[y]"
   ]
  },
  {
   "cell_type": "code",
   "execution_count": 164,
   "metadata": {},
   "outputs": [],
   "source": [
    "def op2(inputs,x,y):\n",
    "    return inputs[x] * inputs[y]"
   ]
  },
  {
   "cell_type": "code",
   "execution_count": 172,
   "metadata": {},
   "outputs": [],
   "source": [
    "def computer(input_int):\n",
    "    i = 0\n",
    "    ans = command_string.copy()\n",
    " #   ans[1] = noun\n",
    " #   ans[2] = verb\n",
    "    while i < len(command_string):\n",
    "        instruction = str(ans[i]).zfill(5)\n",
    "        operator = (int(str(instruction)[-2:]))\n",
    "        mode1 = int((str(instruction)[-3:-2]))\n",
    "        mode2 = int((str(instruction)[-4:-3]))\n",
    "        mode3 = int((str(instruction)[-5:-4]))\n",
    "#         print(ans[i],ans[i+1],ans[i+2],ans[i+3])\n",
    "#         print(i)\n",
    "#         print(operator)\n",
    "#         print(mode1)\n",
    "#         print(mode2)\n",
    "        if(operator == 1):\n",
    "            if(mode1 == 0):\n",
    "                x1 = ans[ans[i+1]]\n",
    "            else:\n",
    "                x1 = ans[i+1]\n",
    "            if(mode2 == 0):\n",
    "                x2 = ans[ans[i+2]]\n",
    "            else:\n",
    "                x2 = ans[i+2]\n",
    "#             print(x1, x2, x1*x2)\n",
    "#             print(ans[ans[i+3]])\n",
    "            ans[ans[i+3]] = x1 + x2\n",
    "            i = i + 4\n",
    "        if(operator == 2):\n",
    "            if(mode1 == 0):\n",
    "                x1 = ans[ans[i+1]]\n",
    "            else:\n",
    "                x1 = ans[i+1]\n",
    "            if(mode2 == 0):\n",
    "                x2 = ans[ans[i+2]]\n",
    "            else:\n",
    "                x2 = ans[i+2]\n",
    "            ans[ans[i+3]] = x1 * x2\n",
    "            i = i + 4\n",
    "        if(operator == 3):\n",
    "            if(mode1 == 0):\n",
    "                ans[ans[i+1]] = input_int\n",
    "            else:\n",
    "                ans[i+1] = input_int\n",
    "            i = i + 2\n",
    "        if(operator == 4):\n",
    "            if(mode1 == 0):\n",
    "                print(ans[ans[i+1]])\n",
    "            else:\n",
    "                print(ans[i+1])\n",
    "            i = i + 2\n",
    "        if(operator == 5):\n",
    "            if(mode1 == 0):\n",
    "                param1 = ans[ans[i+1]]\n",
    "            else:\n",
    "                param1 = ans[i+1]\n",
    "            if(mode2 == 0):\n",
    "                param2 = ans[ans[i+2]]\n",
    "            else:\n",
    "                param2 = ans[i+2]\n",
    "            if(param1 != 0):\n",
    "                i = param2\n",
    "            else:\n",
    "                i = i + 3\n",
    "        if(operator == 6):\n",
    "            if(mode1 == 0):\n",
    "                param1 = ans[ans[i+1]]\n",
    "            else:\n",
    "                param1 = ans[i+1]\n",
    "            if(mode2 == 0):\n",
    "                param2 = ans[ans[i+2]]\n",
    "            else:\n",
    "                param2 = ans[i+2]\n",
    "            if(param1 == 0):\n",
    "                i = param2\n",
    "            else:\n",
    "                i = i + 3\n",
    "        if(operator == 7):\n",
    "            if(mode1 == 0):\n",
    "                param1 = ans[ans[i+1]]\n",
    "            else:\n",
    "                param1 = ans[i+1]\n",
    "            if(mode2 == 0):\n",
    "                param2 = ans[ans[i+2]]\n",
    "            else:\n",
    "                param2 = ans[i+2]\n",
    "#            if(mode3 == 0):\n",
    "#                 param3 = ans[ans[i+3]]\n",
    "#             else:\n",
    "            param3 = ans[i+3]\n",
    "            if(param1 < param2):\n",
    "                ans[param3] = 1\n",
    "            else:\n",
    "                ans[param3] = 0\n",
    "            i = i + 4\n",
    "        if(operator == 8):\n",
    "            if(mode1 == 0):\n",
    "                param1 = ans[ans[i+1]]\n",
    "            else:\n",
    "                param1 = ans[i+1]\n",
    "            if(mode2 == 0):\n",
    "                param2 = ans[ans[i+2]]\n",
    "            else:\n",
    "                param2 = ans[i+2]\n",
    "#             if(mode3 == 0):\n",
    "#                 param3 = ans[ans[i+3]]\n",
    "#             else:\n",
    "            param3 = ans[i+3]\n",
    "#            print(i, ans[i+1], ans[ans[i+1]], ans[ans[i+2]], param1, param2, param3)\n",
    "            if(param1 == param2):\n",
    "                ans[param3] = 1\n",
    "            else:\n",
    "                ans[param3] = 0\n",
    "            i = i + 4\n",
    "        if(operator == 99):\n",
    "            break\n",
    "    return(ans)"
   ]
  },
  {
   "cell_type": "code",
   "execution_count": 177,
   "metadata": {},
   "outputs": [
    {
     "name": "stdout",
     "output_type": "stream",
     "text": [
      "7704130\n"
     ]
    }
   ],
   "source": [
    "ans = computer(5)"
   ]
  }
 ],
 "metadata": {
  "kernelspec": {
   "display_name": "Python 3",
   "language": "python",
   "name": "python3"
  },
  "language_info": {
   "codemirror_mode": {
    "name": "ipython",
    "version": 3
   },
   "file_extension": ".py",
   "mimetype": "text/x-python",
   "name": "python",
   "nbconvert_exporter": "python",
   "pygments_lexer": "ipython3",
   "version": "3.7.4"
  }
 },
 "nbformat": 4,
 "nbformat_minor": 4
}
