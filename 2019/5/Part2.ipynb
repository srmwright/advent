{
 "cells": [
  {
   "cell_type": "code",
   "execution_count": 12,
   "metadata": {},
   "outputs": [],
   "source": [
    "with open('input.txt') as f:\n",
    "    input = f.read()\n",
    "command_string = list(map(int, input.split(','))) #map to integers"
   ]
  },
  {
   "cell_type": "code",
   "execution_count": 110,
   "metadata": {},
   "outputs": [],
   "source": [
    "test_string = \"1,0,0,0,99\""
   ]
  },
  {
   "cell_type": "code",
   "execution_count": 111,
   "metadata": {},
   "outputs": [],
   "source": [
    "#command_string = list(map(int, test_string.split(',')))"
   ]
  },
  {
   "cell_type": "code",
   "execution_count": 112,
   "metadata": {},
   "outputs": [],
   "source": [
    "def op1(inputs,x,y):\n",
    "    return inputs[x] + inputs[y]"
   ]
  },
  {
   "cell_type": "code",
   "execution_count": 113,
   "metadata": {},
   "outputs": [],
   "source": [
    "def op2(inputs,x,y):\n",
    "    return inputs[x] * inputs[y]"
   ]
  },
  {
   "cell_type": "code",
   "execution_count": 47,
   "metadata": {},
   "outputs": [],
   "source": [
    "def computer(input_int):\n",
    "    i = 0\n",
    "    ans = command_string.copy()\n",
    " #   ans[1] = noun\n",
    " #   ans[2] = verb\n",
    "    while i < len(command_string):\n",
    "        instruction = str(ans[i]).zfill(5)\n",
    "        operator = (int(str(instruction)[-2:]))\n",
    "        mode1 = int((str(instruction)[-3:-2]))\n",
    "        mode2 = int((str(instruction)[-4:-3]))\n",
    "        mode3 = int((str(instruction)[-5:-4]))\n",
    "#         print(ans[i],ans[i+1],ans[i+2],ans[i+3])\n",
    "#         print(i)\n",
    "#         print(operator)\n",
    "#         print(mode1)\n",
    "#         print(mode2)\n",
    "        if(operator == 1):\n",
    "            if(mode1 == 0):\n",
    "                x1 = ans[ans[i+1]]\n",
    "            else:\n",
    "                x1 = ans[i+1]\n",
    "            if(mode2 == 0):\n",
    "                x2 = ans[ans[i+2]]\n",
    "            else:\n",
    "                x2 = ans[i+2]\n",
    "#             print(x1, x2, x1*x2)\n",
    "#             print(ans[ans[i+3]])\n",
    "            ans[ans[i+3]] = x1 + x2\n",
    "            i = i + 4\n",
    "        if(operator == 2):\n",
    "            if(mode1 == 0):\n",
    "                x1 = ans[ans[i+1]]\n",
    "            else:\n",
    "                x1 = ans[i+1]\n",
    "            if(mode2 == 0):\n",
    "                x2 = ans[ans[i+2]]\n",
    "            else:\n",
    "                x2 = ans[i+2]\n",
    "            ans[ans[i+3]] = x1 * x2\n",
    "            i = i + 4\n",
    "        if(operator == 3):\n",
    "            if(mode1 == 0):\n",
    "                ans[ans[i+1]] = input_int\n",
    "            else:\n",
    "                ans[i+1] = input_int\n",
    "            i = i + 2\n",
    "        if(operator == 4):\n",
    "            if(mode1 == 0):\n",
    "                print(ans[ans[i+1]])\n",
    "            else:\n",
    "                print(ans[i+1])\n",
    "            i = i + 2\n",
    "        if(operator == 99):\n",
    "            break\n",
    "    return(ans)"
   ]
  },
  {
   "cell_type": "code",
   "execution_count": 48,
   "metadata": {},
   "outputs": [
    {
     "name": "stdout",
     "output_type": "stream",
     "text": [
      "0\n",
      "0\n",
      "0\n",
      "0\n",
      "0\n",
      "0\n",
      "0\n",
      "0\n",
      "0\n",
      "12896948\n"
     ]
    }
   ],
   "source": [
    "ans = computer(1)"
   ]
  },
  {
   "cell_type": "code",
   "execution_count": 27,
   "metadata": {},
   "outputs": [
    {
     "data": {
      "text/plain": [
       "'01100'"
      ]
     },
     "execution_count": 27,
     "metadata": {},
     "output_type": "execute_result"
    }
   ],
   "source": [
    "int(str(1100).zfill(5)"
   ]
  },
  {
   "cell_type": "code",
   "execution_count": 132,
   "metadata": {},
   "outputs": [
    {
     "name": "stdout",
     "output_type": "stream",
     "text": [
      "53 79\n",
      "5379\n"
     ]
    }
   ],
   "source": [
    "for i in range(0,len(command_string)):\n",
    "    for j in range(0,len(command_string)):\n",
    "        answer = computer(i,j)[0]\n",
    "        if(answer) == 19690720:\n",
    "            print(i,j)\n",
    "            print(100*i+j)\n",
    "            break"
   ]
  },
  {
   "cell_type": "markdown",
   "metadata": {},
   "source": [
    "An aside on breaking: turns out you can't break from two loops that easily (so this actually ran to completion on the outer loop despite the break). There's a neater way to do this using \"pairs\":"
   ]
  },
  {
   "cell_type": "code",
   "execution_count": 10,
   "metadata": {},
   "outputs": [
    {
     "name": "stdout",
     "output_type": "stream",
     "text": [
      "1\n"
     ]
    }
   ],
   "source": [
    "a = 1032\n",
    "print(int(str(a)[-4:-3]))"
   ]
  },
  {
   "cell_type": "code",
   "execution_count": null,
   "metadata": {},
   "outputs": [],
   "source": []
  }
 ],
 "metadata": {
  "kernelspec": {
   "display_name": "Python 3",
   "language": "python",
   "name": "python3"
  },
  "language_info": {
   "codemirror_mode": {
    "name": "ipython",
    "version": 3
   },
   "file_extension": ".py",
   "mimetype": "text/x-python",
   "name": "python",
   "nbconvert_exporter": "python",
   "pygments_lexer": "ipython3",
   "version": "3.7.4"
  }
 },
 "nbformat": 4,
 "nbformat_minor": 4
}
