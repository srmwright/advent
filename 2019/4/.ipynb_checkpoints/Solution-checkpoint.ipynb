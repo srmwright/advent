{
 "cells": [
  {
   "cell_type": "markdown",
   "metadata": {},
   "source": [
    "### Part 1"
   ]
  },
  {
   "cell_type": "markdown",
   "metadata": {},
   "source": [
    "Fairly simple today. I'm sure there's a faster way to do part 2, but this was the quickest way to write!"
   ]
  },
  {
   "cell_type": "code",
   "execution_count": 1,
   "metadata": {},
   "outputs": [],
   "source": [
    "start = 128392\n",
    "end = 643281"
   ]
  },
  {
   "cell_type": "code",
   "execution_count": 12,
   "metadata": {},
   "outputs": [],
   "source": [
    "def password1(i):\n",
    "    doubles = 0\n",
    "    decreases = 0\n",
    "    for j in range(0, len(str(i))-1):\n",
    "        if(int(str(i)[j]) == int(str(i)[j+1])):\n",
    "            doubles += 1\n",
    "        if(int(str(i)[j]) > int(str(i)[j+1])):\n",
    "            decreases += 1\n",
    "    if(doubles > 0 and decreases == 0):\n",
    "        return(1)\n",
    "    else:\n",
    "        return(0)"
   ]
  },
  {
   "cell_type": "code",
   "execution_count": 5,
   "metadata": {},
   "outputs": [
    {
     "name": "stdout",
     "output_type": "stream",
     "text": [
      "2050\n"
     ]
    }
   ],
   "source": [
    "ans = 0\n",
    "for i in range(start, end+1):\n",
    "    doubles = 0\n",
    "    decreases = 0\n",
    "    for j in range(0, len(str(i))-1):\n",
    "        if(int(str(i)[j]) == int(str(i)[j+1])):\n",
    "            doubles += 1\n",
    "        if(int(str(i)[j]) > int(str(i)[j+1])):\n",
    "            decreases += 1\n",
    "    if(doubles > 0 and decreases == 0):\n",
    "        ans += 1\n",
    "print(ans)"
   ]
  },
  {
   "cell_type": "markdown",
   "metadata": {
    "jupyter": {
     "source_hidden": true
    }
   },
   "source": [
    "### Part 2"
   ]
  },
  {
   "cell_type": "code",
   "execution_count": 52,
   "metadata": {},
   "outputs": [],
   "source": [
    "def password(i):\n",
    "    lengths = []\n",
    "    decreases = 0\n",
    "    for j in range(0, len(str(i))-1):\n",
    "        if(int(str(i)[j]) > int(str(i)[j+1])):\n",
    "            decreases += 1\n",
    "    k = 0\n",
    "    while k < len(str(i))-1:\n",
    "        a = 0\n",
    "        while(int(str(i)[k+1]) == int(str(i)[k])):\n",
    "            a += 1\n",
    "            k += 1\n",
    "            if(k > 4):\n",
    "                break\n",
    "       # print(a,k)\n",
    "        k += 1\n",
    "        lengths.append(a)\n",
    "    #print(lengths)\n",
    "    if(1 in lengths and decreases == 0):\n",
    "        return(1)\n",
    "    else:\n",
    "        return(0)"
   ]
  },
  {
   "cell_type": "code",
   "execution_count": 54,
   "metadata": {},
   "outputs": [
    {
     "name": "stdout",
     "output_type": "stream",
     "text": [
      "1390\n"
     ]
    }
   ],
   "source": [
    "ans = 0\n",
    "for i in range(start, end+1):\n",
    "    ans += password(i)\n",
    "print(ans)"
   ]
  },
  {
   "cell_type": "code",
   "execution_count": 53,
   "metadata": {},
   "outputs": [
    {
     "data": {
      "text/plain": [
       "1"
      ]
     },
     "execution_count": 53,
     "metadata": {},
     "output_type": "execute_result"
    }
   ],
   "source": [
    "password(111122)"
   ]
  },
  {
   "cell_type": "code",
   "execution_count": null,
   "metadata": {},
   "outputs": [],
   "source": []
  }
 ],
 "metadata": {
  "kernelspec": {
   "display_name": "Python 3",
   "language": "python",
   "name": "python3"
  },
  "language_info": {
   "codemirror_mode": {
    "name": "ipython",
    "version": 3
   },
   "file_extension": ".py",
   "mimetype": "text/x-python",
   "name": "python",
   "nbconvert_exporter": "python",
   "pygments_lexer": "ipython3",
   "version": "3.7.4"
  }
 },
 "nbformat": 4,
 "nbformat_minor": 4
}
