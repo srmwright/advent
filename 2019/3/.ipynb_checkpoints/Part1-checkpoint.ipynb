{
 "cells": [
  {
   "cell_type": "markdown",
   "metadata": {},
   "source": [
    "## Day 3"
   ]
  },
  {
   "cell_type": "markdown",
   "metadata": {},
   "source": [
    "### Part 1"
   ]
  },
  {
   "cell_type": "markdown",
   "metadata": {},
   "source": [
    "Decided the approach would be to define a class for each wire to hold the coordinates. Decided to write separate operators for x and y coordinates and zip them later (which almost caused problems, see below)."
   ]
  },
  {
   "cell_type": "code",
   "execution_count": 104,
   "metadata": {},
   "outputs": [],
   "source": [
    "### Input file into lines\n",
    "with open('input.txt') as f:\n",
    "    input = f.read()\n",
    "\n",
    "lines = input.strip().split('\\n')"
   ]
  },
  {
   "cell_type": "code",
   "execution_count": 93,
   "metadata": {},
   "outputs": [],
   "source": [
    "class Wire:\n",
    "    def __init__(self):\n",
    "        self.coord_x = []\n",
    "        self.coord_y = []\n",
    "        self.coords = []\n",
    "        \n",
    "    def add_coord_x(self, coord):\n",
    "        self.coord_x.append(coord)\n",
    "        \n",
    "    def add_coord_y(self, coord):\n",
    "        self.coord_y.append(coord)\n",
    "    \n",
    "    def zip_coords(self):\n",
    "        self.coords = zip(self.coord_x, self.coord_y)"
   ]
  },
  {
   "cell_type": "code",
   "execution_count": 94,
   "metadata": {},
   "outputs": [],
   "source": [
    "def connection(cmd, wire, coord0, coord1):\n",
    "    distance = int(cmd[1:])\n",
    "    if(cmd[0]=='U'):\n",
    "        for i in range(1,distance+1):\n",
    "            wire.add_coord(array[coord0,coord1+i])\n",
    "        return(zip(coord0,coord1+distance))\n",
    "    elif(cmd[0]=='D'):\n",
    "        for i in range(1,distance+1):\n",
    "            wire.add_coord(array[coord0,coord1-i])\n",
    "        return(zip(coord0,coord1-distance))\n",
    "    elif(cmd[0]=='L'):\n",
    "        for i in range(1,distance+1):\n",
    "            wire.add_coord(array[coord0-i,coord1])\n",
    "        return(zip(coord0-distance,coord1))\n",
    "    elif(cmd[0]=='R'):\n",
    "        for i in range(1,distance+1):\n",
    "            wire.add_coord(array[coord0+i,coord1])\n",
    "        return(array[coord0+distance,coord1])"
   ]
  },
  {
   "cell_type": "code",
   "execution_count": 95,
   "metadata": {},
   "outputs": [],
   "source": [
    "def connection_x(cmd, wire, coord0):\n",
    "    distance = int(cmd[1:])\n",
    "    if(cmd[0] == 'U' or cmd[0] == 'D'):\n",
    "        for i in range(1,distance+1):\n",
    "            wire.add_coord_x(coord0)\n",
    "        return(coord0)\n",
    "    elif(cmd[0]=='L'):\n",
    "        for i in range(1,distance+1):\n",
    "            wire.add_coord_x(coord0-i)\n",
    "        return(coord0-distance)\n",
    "    elif(cmd[0]=='R'):\n",
    "        for i in range(1,distance+1):\n",
    "            wire.add_coord_x(coord0+i)\n",
    "        return(coord0+distance)"
   ]
  },
  {
   "cell_type": "code",
   "execution_count": 96,
   "metadata": {},
   "outputs": [],
   "source": [
    "def connection_y(cmd, wire, coord1):\n",
    "    distance = int(cmd[1:])\n",
    "    if(cmd[0] == 'L' or cmd[0] == 'R'):\n",
    "        for i in range(1,distance+1):\n",
    "            wire.add_coord_y(coord1)\n",
    "        return(coord1)\n",
    "    elif(cmd[0]=='D'):\n",
    "        for i in range(1,distance+1):\n",
    "            wire.add_coord_y(coord1-i)\n",
    "        return(coord1-distance)\n",
    "    elif(cmd[0]=='U'):\n",
    "        for i in range(1,distance+1):\n",
    "            wire.add_coord_y(coord1+i)\n",
    "        return(coord1+distance)"
   ]
  },
  {
   "cell_type": "code",
   "execution_count": 97,
   "metadata": {},
   "outputs": [],
   "source": [
    "wire1 = Wire()\n",
    "input_string = lines[0].strip().split(',')\n",
    "coord0 = 0\n",
    "coord1 = 0\n",
    "for i in input_string:\n",
    "    coord0 = connection_x(i,wire1,coord0)\n",
    "    coord1 = connection_y(i,wire1,coord1)\n",
    "wire1.zip_coords()\n",
    "list1 = list(wire1.coords)"
   ]
  },
  {
   "cell_type": "code",
   "execution_count": 98,
   "metadata": {},
   "outputs": [],
   "source": [
    "wire2 = Wire()\n",
    "input_string = lines[1].strip().split(',')\n",
    "coord0 = 0\n",
    "coord1 = 0\n",
    "for i in input_string:\n",
    "    coord0 = connection_x(i,wire2,coord0)\n",
    "    coord1 = connection_y(i,wire2,coord1)\n",
    "wire2.zip_coords()\n",
    "list2 = list(wire2.coords)"
   ]
  },
  {
   "cell_type": "markdown",
   "metadata": {},
   "source": [
    "This was a handy way of finding the intersections!"
   ]
  },
  {
   "cell_type": "code",
   "execution_count": 99,
   "metadata": {},
   "outputs": [],
   "source": [
    "intersections = list(set(list1).intersection(list2))"
   ]
  },
  {
   "cell_type": "code",
   "execution_count": 100,
   "metadata": {},
   "outputs": [
    {
     "name": "stdout",
     "output_type": "stream",
     "text": [
      "651\n"
     ]
    }
   ],
   "source": [
    "ans = 1e6\n",
    "for i in intersections:\n",
    "    if(abs(i[0]) + abs(i[1]) < ans):\n",
    "        ans = abs(i[0]) + abs(i[1])\n",
    "print(ans)"
   ]
  },
  {
   "cell_type": "markdown",
   "metadata": {},
   "source": [
    "### Part 2"
   ]
  },
  {
   "cell_type": "markdown",
   "metadata": {},
   "source": [
    "Just use the index! A point of note here is how \"zip\" works. It creates an object for iterating **once** (and only once!) over the results. So to use the list twice (like we have to), you need to save it to an object the first time you use it. (This is different to python2, where it returned a list of tuples, as explained [here](https://stackoverflow.com/questions/28390354/python-zip-object-disappears-after-iterating-through))\n",
    "\n",
    "NB - this implicitly uses the fact that we only look for the first time we find each point in the list. How would you approach this if we wanted the latest time each wire passed each point?"
   ]
  },
  {
   "cell_type": "code",
   "execution_count": 102,
   "metadata": {},
   "outputs": [
    {
     "name": "stdout",
     "output_type": "stream",
     "text": [
      "7534\n"
     ]
    }
   ],
   "source": [
    "ans2 = 1e6\n",
    "for i in intersections:\n",
    "    time1 = list1.index(i)+1\n",
    "    time2 = list2.index(i)+1\n",
    "    if(time1 + time2 < ans2):\n",
    "        ans2 = time1 + time2\n",
    "print(ans2)"
   ]
  },
  {
   "cell_type": "code",
   "execution_count": null,
   "metadata": {},
   "outputs": [],
   "source": []
  }
 ],
 "metadata": {
  "kernelspec": {
   "display_name": "Python 3",
   "language": "python",
   "name": "python3"
  },
  "language_info": {
   "codemirror_mode": {
    "name": "ipython",
    "version": 3
   },
   "file_extension": ".py",
   "mimetype": "text/x-python",
   "name": "python",
   "nbconvert_exporter": "python",
   "pygments_lexer": "ipython3",
   "version": "3.7.4"
  }
 },
 "nbformat": 4,
 "nbformat_minor": 4
}
