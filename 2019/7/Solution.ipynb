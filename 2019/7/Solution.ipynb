{
 "cells": [
  {
   "cell_type": "code",
   "execution_count": 55,
   "metadata": {},
   "outputs": [],
   "source": [
    "with open('input.txt') as f:\n",
    "    input = f.read()\n",
    "command_string = list(map(int, input.split(','))) #map to integers"
   ]
  },
  {
   "cell_type": "code",
   "execution_count": 47,
   "metadata": {},
   "outputs": [],
   "source": [
    "test_string = \"3,31,3,32,1002,32,10,32,1001,31,-2,31,1007,31,0,33,1002,33,7,33,1,33,31,31,1,32,31,31,4,31,99,0,0,0\""
   ]
  },
  {
   "cell_type": "code",
   "execution_count": 48,
   "metadata": {},
   "outputs": [],
   "source": [
    "command_string = list(map(int, test_string.split(',')))"
   ]
  },
  {
   "cell_type": "code",
   "execution_count": 56,
   "metadata": {},
   "outputs": [],
   "source": [
    "def op1(inputs,x,y):\n",
    "    return inputs[x] + inputs[y]"
   ]
  },
  {
   "cell_type": "code",
   "execution_count": 57,
   "metadata": {},
   "outputs": [],
   "source": [
    "def op2(inputs,x,y):\n",
    "    return inputs[x] * inputs[y]"
   ]
  },
  {
   "cell_type": "code",
   "execution_count": 58,
   "metadata": {},
   "outputs": [],
   "source": [
    "def computer(input_int, phase_int):\n",
    "    i = 0\n",
    "    ans = command_string.copy()\n",
    "    phase = True\n",
    " #   ans[1] = noun\n",
    " #   ans[2] = verb\n",
    "    while i < len(command_string):\n",
    "        instruction = str(ans[i]).zfill(5)\n",
    "        operator = (int(str(instruction)[-2:]))\n",
    "        mode1 = int((str(instruction)[-3:-2]))\n",
    "        mode2 = int((str(instruction)[-4:-3]))\n",
    "        mode3 = int((str(instruction)[-5:-4]))\n",
    "#         print(ans[i],ans[i+1],ans[i+2],ans[i+3])\n",
    "#         print(i)\n",
    "#         print(operator)\n",
    "#         print(mode1)\n",
    "#         print(mode2)\n",
    "        if(operator == 1):\n",
    "            if(mode1 == 0):\n",
    "                x1 = ans[ans[i+1]]\n",
    "            else:\n",
    "                x1 = ans[i+1]\n",
    "            if(mode2 == 0):\n",
    "                x2 = ans[ans[i+2]]\n",
    "            else:\n",
    "                x2 = ans[i+2]\n",
    "#             print(x1, x2, x1*x2)\n",
    "#             print(ans[ans[i+3]])\n",
    "            ans[ans[i+3]] = x1 + x2\n",
    "            i = i + 4\n",
    "        if(operator == 2):\n",
    "            if(mode1 == 0):\n",
    "                x1 = ans[ans[i+1]]\n",
    "            else:\n",
    "                x1 = ans[i+1]\n",
    "            if(mode2 == 0):\n",
    "                x2 = ans[ans[i+2]]\n",
    "            else:\n",
    "                x2 = ans[i+2]\n",
    "            ans[ans[i+3]] = x1 * x2\n",
    "            i = i + 4\n",
    "        if(operator == 3):\n",
    "            i1 = phase_int if phase else input_int\n",
    "            if(mode1 == 0):\n",
    "                ans[ans[i+1]] = i1\n",
    "            else:\n",
    "                ans[i+1] = i1\n",
    "            phase = False\n",
    "            i = i + 2\n",
    "        if(operator == 4):\n",
    "            if(mode1 == 0):\n",
    "                return(ans[ans[i+1]])\n",
    "            else:\n",
    "                return(ans[i+1])\n",
    "            i = i + 2\n",
    "        if(operator == 5):\n",
    "            if(mode1 == 0):\n",
    "                param1 = ans[ans[i+1]]\n",
    "            else:\n",
    "                param1 = ans[i+1]\n",
    "            if(mode2 == 0):\n",
    "                param2 = ans[ans[i+2]]\n",
    "            else:\n",
    "                param2 = ans[i+2]\n",
    "            if(param1 != 0):\n",
    "                i = param2\n",
    "            else:\n",
    "                i = i + 3\n",
    "        if(operator == 6):\n",
    "            if(mode1 == 0):\n",
    "                param1 = ans[ans[i+1]]\n",
    "            else:\n",
    "                param1 = ans[i+1]\n",
    "            if(mode2 == 0):\n",
    "                param2 = ans[ans[i+2]]\n",
    "            else:\n",
    "                param2 = ans[i+2]\n",
    "            if(param1 == 0):\n",
    "                i = param2\n",
    "            else:\n",
    "                i = i + 3\n",
    "        if(operator == 7):\n",
    "            if(mode1 == 0):\n",
    "                param1 = ans[ans[i+1]]\n",
    "            else:\n",
    "                param1 = ans[i+1]\n",
    "            if(mode2 == 0):\n",
    "                param2 = ans[ans[i+2]]\n",
    "            else:\n",
    "                param2 = ans[i+2]\n",
    "#            if(mode3 == 0):\n",
    "#                 param3 = ans[ans[i+3]]\n",
    "#             else:\n",
    "            param3 = ans[i+3]\n",
    "            if(param1 < param2):\n",
    "                ans[param3] = 1\n",
    "            else:\n",
    "                ans[param3] = 0\n",
    "            i = i + 4\n",
    "        if(operator == 8):\n",
    "            if(mode1 == 0):\n",
    "                param1 = ans[ans[i+1]]\n",
    "            else:\n",
    "                param1 = ans[i+1]\n",
    "            if(mode2 == 0):\n",
    "                param2 = ans[ans[i+2]]\n",
    "            else:\n",
    "                param2 = ans[i+2]\n",
    "#             if(mode3 == 0):\n",
    "#                 param3 = ans[ans[i+3]]\n",
    "#             else:\n",
    "            param3 = ans[i+3]\n",
    "#            print(i, ans[i+1], ans[ans[i+1]], ans[ans[i+2]], param1, param2, param3)\n",
    "            if(param1 == param2):\n",
    "                ans[param3] = 1\n",
    "            else:\n",
    "                ans[param3] = 0\n",
    "            i = i + 4\n",
    "        if(operator == 99):\n",
    "            break\n",
    "    #return(ans)"
   ]
  },
  {
   "cell_type": "code",
   "execution_count": 59,
   "metadata": {},
   "outputs": [],
   "source": [
    "def iterator(phase_list):\n",
    "    input_int = 0\n",
    "    i = 0\n",
    "    while i < len(phase_list):\n",
    "        input_int = computer(input_int, phase_list[i])\n",
    "        i += 1\n",
    "    return(input_int)"
   ]
  },
  {
   "cell_type": "code",
   "execution_count": 60,
   "metadata": {},
   "outputs": [
    {
     "name": "stdout",
     "output_type": "stream",
     "text": [
      "880726\n"
     ]
    }
   ],
   "source": [
    "outputs = []\n",
    "import itertools\n",
    "phase_lists = itertools.permutations([0, 1, 2, 3, 4])\n",
    "for phase_list in phase_lists:\n",
    "    outputs.append(iterator(phase_list))\n",
    "print(max(outputs))"
   ]
  },
  {
   "cell_type": "code",
   "execution_count": null,
   "metadata": {},
   "outputs": [],
   "source": []
  }
 ],
 "metadata": {
  "kernelspec": {
   "display_name": "Python 3",
   "language": "python",
   "name": "python3"
  },
  "language_info": {
   "codemirror_mode": {
    "name": "ipython",
    "version": 3
   },
   "file_extension": ".py",
   "mimetype": "text/x-python",
   "name": "python",
   "nbconvert_exporter": "python",
   "pygments_lexer": "ipython3",
   "version": "3.7.4"
  }
 },
 "nbformat": 4,
 "nbformat_minor": 4
}
