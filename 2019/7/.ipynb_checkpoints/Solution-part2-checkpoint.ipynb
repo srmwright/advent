{
 "cells": [
  {
   "cell_type": "code",
   "execution_count": 55,
   "metadata": {},
   "outputs": [],
   "source": [
    "with open('input.txt') as f:\n",
    "    input = f.read()\n",
    "command_string = list(map(int, input.split(','))) #map to integers"
   ]
  },
  {
   "cell_type": "code",
   "execution_count": 8,
   "metadata": {},
   "outputs": [],
   "source": [
    "test_string = \"3,26,1001,26,-4,26,3,27,1002,27,2,27,1,27,26,27,4,27,1001,28,-1,28,1005,28,6,99,0,0,5\""
   ]
  },
  {
   "cell_type": "code",
   "execution_count": 9,
   "metadata": {},
   "outputs": [],
   "source": [
    "command_string = list(map(int, test_string.split(',')))"
   ]
  },
  {
   "cell_type": "code",
   "execution_count": 56,
   "metadata": {},
   "outputs": [],
   "source": [
    "def op1(inputs,x,y):\n",
    "    return inputs[x] + inputs[y]"
   ]
  },
  {
   "cell_type": "code",
   "execution_count": 57,
   "metadata": {},
   "outputs": [],
   "source": [
    "def op2(inputs,x,y):\n",
    "    return inputs[x] * inputs[y]"
   ]
  },
  {
   "cell_type": "code",
   "execution_count": 10,
   "metadata": {},
   "outputs": [],
   "source": [
    "def computer(input_int, phase_int):\n",
    "    i = 0\n",
    "    ans = command_string.copy()\n",
    "    phase = True\n",
    " #   ans[1] = noun\n",
    " #   ans[2] = verb\n",
    "    while i < len(command_string):\n",
    "        instruction = str(ans[i]).zfill(5)\n",
    "        operator = (int(str(instruction)[-2:]))\n",
    "        mode1 = int((str(instruction)[-3:-2]))\n",
    "        mode2 = int((str(instruction)[-4:-3]))\n",
    "        mode3 = int((str(instruction)[-5:-4]))\n",
    "#         print(ans[i],ans[i+1],ans[i+2],ans[i+3])\n",
    "#         print(i)\n",
    "#         print(operator)\n",
    "#         print(mode1)\n",
    "#         print(mode2)\n",
    "        if(operator == 1):\n",
    "            if(mode1 == 0):\n",
    "                x1 = ans[ans[i+1]]\n",
    "            else:\n",
    "                x1 = ans[i+1]\n",
    "            if(mode2 == 0):\n",
    "                x2 = ans[ans[i+2]]\n",
    "            else:\n",
    "                x2 = ans[i+2]\n",
    "#             print(x1, x2, x1*x2)\n",
    "#             print(ans[ans[i+3]])\n",
    "            ans[ans[i+3]] = x1 + x2\n",
    "            i = i + 4\n",
    "        if(operator == 2):\n",
    "            if(mode1 == 0):\n",
    "                x1 = ans[ans[i+1]]\n",
    "            else:\n",
    "                x1 = ans[i+1]\n",
    "            if(mode2 == 0):\n",
    "                x2 = ans[ans[i+2]]\n",
    "            else:\n",
    "                x2 = ans[i+2]\n",
    "            ans[ans[i+3]] = x1 * x2\n",
    "            i = i + 4\n",
    "        if(operator == 3):\n",
    "            i1 = phase_int if phase else input_int\n",
    "            if(mode1 == 0):\n",
    "                ans[ans[i+1]] = i1\n",
    "            else:\n",
    "                ans[i+1] = i1\n",
    "            phase = False\n",
    "            i = i + 2\n",
    "        if(operator == 4):\n",
    "            if(mode1 == 0):\n",
    "                return([ans[ans[i+1]],4])\n",
    "            else:\n",
    "                return([ans[i+1],4])\n",
    "            i = i + 2\n",
    "        if(operator == 5):\n",
    "            if(mode1 == 0):\n",
    "                param1 = ans[ans[i+1]]\n",
    "            else:\n",
    "                param1 = ans[i+1]\n",
    "            if(mode2 == 0):\n",
    "                param2 = ans[ans[i+2]]\n",
    "            else:\n",
    "                param2 = ans[i+2]\n",
    "            if(param1 != 0):\n",
    "                i = param2\n",
    "            else:\n",
    "                i = i + 3\n",
    "        if(operator == 6):\n",
    "            if(mode1 == 0):\n",
    "                param1 = ans[ans[i+1]]\n",
    "            else:\n",
    "                param1 = ans[i+1]\n",
    "            if(mode2 == 0):\n",
    "                param2 = ans[ans[i+2]]\n",
    "            else:\n",
    "                param2 = ans[i+2]\n",
    "            if(param1 == 0):\n",
    "                i = param2\n",
    "            else:\n",
    "                i = i + 3\n",
    "        if(operator == 7):\n",
    "            if(mode1 == 0):\n",
    "                param1 = ans[ans[i+1]]\n",
    "            else:\n",
    "                param1 = ans[i+1]\n",
    "            if(mode2 == 0):\n",
    "                param2 = ans[ans[i+2]]\n",
    "            else:\n",
    "                param2 = ans[i+2]\n",
    "#            if(mode3 == 0):\n",
    "#                 param3 = ans[ans[i+3]]\n",
    "#             else:\n",
    "            param3 = ans[i+3]\n",
    "            if(param1 < param2):\n",
    "                ans[param3] = 1\n",
    "            else:\n",
    "                ans[param3] = 0\n",
    "            i = i + 4\n",
    "        if(operator == 8):\n",
    "            if(mode1 == 0):\n",
    "                param1 = ans[ans[i+1]]\n",
    "            else:\n",
    "                param1 = ans[i+1]\n",
    "            if(mode2 == 0):\n",
    "                param2 = ans[ans[i+2]]\n",
    "            else:\n",
    "                param2 = ans[i+2]\n",
    "#             if(mode3 == 0):\n",
    "#                 param3 = ans[ans[i+3]]\n",
    "#             else:\n",
    "            param3 = ans[i+3]\n",
    "#            print(i, ans[i+1], ans[ans[i+1]], ans[ans[i+2]], param1, param2, param3)\n",
    "            if(param1 == param2):\n",
    "                ans[param3] = 1\n",
    "            else:\n",
    "                ans[param3] = 0\n",
    "            i = i + 4\n",
    "        if(operator == 99):\n",
    "            return(-1, 99)\n",
    "    #return(ans)"
   ]
  },
  {
   "cell_type": "code",
   "execution_count": 11,
   "metadata": {},
   "outputs": [],
   "source": [
    "def iterator(phase_list):\n",
    "    input_int = 0\n",
    "    i = 0\n",
    "    out_operator = 0\n",
    "    while out_operator != 99:\n",
    "        out_operator = computer(input_int, phase_list[i])[1]\n",
    "        if(out_operator != 99):\n",
    "            input_int = computer(input_int, phase_list[i])[0]\n",
    "        i += 1\n",
    "        if(i > 4):\n",
    "            i = 0\n",
    "    return(input_int)"
   ]
  },
  {
   "cell_type": "code",
   "execution_count": 12,
   "metadata": {},
   "outputs": [
    {
     "ename": "KeyboardInterrupt",
     "evalue": "",
     "output_type": "error",
     "traceback": [
      "\u001b[0;31m---------------------------------------------------------------------------\u001b[0m",
      "\u001b[0;31mKeyboardInterrupt\u001b[0m                         Traceback (most recent call last)",
      "\u001b[0;32m<ipython-input-12-6ec0008fa77e>\u001b[0m in \u001b[0;36m<module>\u001b[0;34m\u001b[0m\n\u001b[1;32m      3\u001b[0m \u001b[0mphase_lists\u001b[0m \u001b[0;34m=\u001b[0m \u001b[0mitertools\u001b[0m\u001b[0;34m.\u001b[0m\u001b[0mpermutations\u001b[0m\u001b[0;34m(\u001b[0m\u001b[0;34m[\u001b[0m\u001b[0;36m5\u001b[0m\u001b[0;34m,\u001b[0m\u001b[0;36m6\u001b[0m\u001b[0;34m,\u001b[0m\u001b[0;36m7\u001b[0m\u001b[0;34m,\u001b[0m\u001b[0;36m8\u001b[0m\u001b[0;34m,\u001b[0m\u001b[0;36m9\u001b[0m\u001b[0;34m]\u001b[0m\u001b[0;34m)\u001b[0m\u001b[0;34m\u001b[0m\u001b[0;34m\u001b[0m\u001b[0m\n\u001b[1;32m      4\u001b[0m \u001b[0;32mfor\u001b[0m \u001b[0mphase_list\u001b[0m \u001b[0;32min\u001b[0m \u001b[0mphase_lists\u001b[0m\u001b[0;34m:\u001b[0m\u001b[0;34m\u001b[0m\u001b[0;34m\u001b[0m\u001b[0m\n\u001b[0;32m----> 5\u001b[0;31m     \u001b[0moutputs\u001b[0m\u001b[0;34m.\u001b[0m\u001b[0mappend\u001b[0m\u001b[0;34m(\u001b[0m\u001b[0miterator\u001b[0m\u001b[0;34m(\u001b[0m\u001b[0mphase_list\u001b[0m\u001b[0;34m)\u001b[0m\u001b[0;34m)\u001b[0m\u001b[0;34m\u001b[0m\u001b[0;34m\u001b[0m\u001b[0m\n\u001b[0m\u001b[1;32m      6\u001b[0m \u001b[0mprint\u001b[0m\u001b[0;34m(\u001b[0m\u001b[0mmax\u001b[0m\u001b[0;34m(\u001b[0m\u001b[0moutputs\u001b[0m\u001b[0;34m)\u001b[0m\u001b[0;34m)\u001b[0m\u001b[0;34m\u001b[0m\u001b[0;34m\u001b[0m\u001b[0m\n",
      "\u001b[0;32m<ipython-input-11-f4895c8f6a29>\u001b[0m in \u001b[0;36miterator\u001b[0;34m(phase_list)\u001b[0m\n\u001b[1;32m      6\u001b[0m         \u001b[0mout_operator\u001b[0m \u001b[0;34m=\u001b[0m \u001b[0mcomputer\u001b[0m\u001b[0;34m(\u001b[0m\u001b[0minput_int\u001b[0m\u001b[0;34m,\u001b[0m \u001b[0mphase_list\u001b[0m\u001b[0;34m[\u001b[0m\u001b[0mi\u001b[0m\u001b[0;34m]\u001b[0m\u001b[0;34m)\u001b[0m\u001b[0;34m[\u001b[0m\u001b[0;36m1\u001b[0m\u001b[0;34m]\u001b[0m\u001b[0;34m\u001b[0m\u001b[0;34m\u001b[0m\u001b[0m\n\u001b[1;32m      7\u001b[0m         \u001b[0;32mif\u001b[0m\u001b[0;34m(\u001b[0m\u001b[0mout_operator\u001b[0m \u001b[0;34m!=\u001b[0m \u001b[0;36m99\u001b[0m\u001b[0;34m)\u001b[0m\u001b[0;34m:\u001b[0m\u001b[0;34m\u001b[0m\u001b[0;34m\u001b[0m\u001b[0m\n\u001b[0;32m----> 8\u001b[0;31m             \u001b[0minput_int\u001b[0m \u001b[0;34m=\u001b[0m \u001b[0mcomputer\u001b[0m\u001b[0;34m(\u001b[0m\u001b[0minput_int\u001b[0m\u001b[0;34m,\u001b[0m \u001b[0mphase_list\u001b[0m\u001b[0;34m[\u001b[0m\u001b[0mi\u001b[0m\u001b[0;34m]\u001b[0m\u001b[0;34m)\u001b[0m\u001b[0;34m[\u001b[0m\u001b[0;36m0\u001b[0m\u001b[0;34m]\u001b[0m\u001b[0;34m\u001b[0m\u001b[0;34m\u001b[0m\u001b[0m\n\u001b[0m\u001b[1;32m      9\u001b[0m         \u001b[0mi\u001b[0m \u001b[0;34m+=\u001b[0m \u001b[0;36m1\u001b[0m\u001b[0;34m\u001b[0m\u001b[0;34m\u001b[0m\u001b[0m\n\u001b[1;32m     10\u001b[0m         \u001b[0;32mif\u001b[0m\u001b[0;34m(\u001b[0m\u001b[0mi\u001b[0m \u001b[0;34m>\u001b[0m \u001b[0;36m4\u001b[0m\u001b[0;34m)\u001b[0m\u001b[0;34m:\u001b[0m\u001b[0;34m\u001b[0m\u001b[0;34m\u001b[0m\u001b[0m\n",
      "\u001b[0;32m<ipython-input-10-739bd34178e0>\u001b[0m in \u001b[0;36mcomputer\u001b[0;34m(input_int, phase_int)\u001b[0m\n\u001b[1;32m     38\u001b[0m             \u001b[0;32melse\u001b[0m\u001b[0;34m:\u001b[0m\u001b[0;34m\u001b[0m\u001b[0;34m\u001b[0m\u001b[0m\n\u001b[1;32m     39\u001b[0m                 \u001b[0mx2\u001b[0m \u001b[0;34m=\u001b[0m \u001b[0mans\u001b[0m\u001b[0;34m[\u001b[0m\u001b[0mi\u001b[0m\u001b[0;34m+\u001b[0m\u001b[0;36m2\u001b[0m\u001b[0;34m]\u001b[0m\u001b[0;34m\u001b[0m\u001b[0;34m\u001b[0m\u001b[0m\n\u001b[0;32m---> 40\u001b[0;31m             \u001b[0mans\u001b[0m\u001b[0;34m[\u001b[0m\u001b[0mans\u001b[0m\u001b[0;34m[\u001b[0m\u001b[0mi\u001b[0m\u001b[0;34m+\u001b[0m\u001b[0;36m3\u001b[0m\u001b[0;34m]\u001b[0m\u001b[0;34m]\u001b[0m \u001b[0;34m=\u001b[0m \u001b[0mx1\u001b[0m \u001b[0;34m*\u001b[0m \u001b[0mx2\u001b[0m\u001b[0;34m\u001b[0m\u001b[0;34m\u001b[0m\u001b[0m\n\u001b[0m\u001b[1;32m     41\u001b[0m             \u001b[0mi\u001b[0m \u001b[0;34m=\u001b[0m \u001b[0mi\u001b[0m \u001b[0;34m+\u001b[0m \u001b[0;36m4\u001b[0m\u001b[0;34m\u001b[0m\u001b[0;34m\u001b[0m\u001b[0m\n\u001b[1;32m     42\u001b[0m         \u001b[0;32mif\u001b[0m\u001b[0;34m(\u001b[0m\u001b[0moperator\u001b[0m \u001b[0;34m==\u001b[0m \u001b[0;36m3\u001b[0m\u001b[0;34m)\u001b[0m\u001b[0;34m:\u001b[0m\u001b[0;34m\u001b[0m\u001b[0;34m\u001b[0m\u001b[0m\n",
      "\u001b[0;31mKeyboardInterrupt\u001b[0m: "
     ]
    }
   ],
   "source": [
    "outputs = []\n",
    "import itertools\n",
    "phase_lists = itertools.permutations([5,6,7,8,9])\n",
    "for phase_list in phase_lists:\n",
    "    outputs.append(iterator(phase_list))\n",
    "print(max(outputs))"
   ]
  },
  {
   "cell_type": "code",
   "execution_count": 5,
   "metadata": {},
   "outputs": [
    {
     "data": {
      "text/plain": [
       "[2, 4]"
      ]
     },
     "execution_count": 5,
     "metadata": {},
     "output_type": "execute_result"
    }
   ],
   "source": [
    "computer(0,4)"
   ]
  },
  {
   "cell_type": "code",
   "execution_count": null,
   "metadata": {},
   "outputs": [],
   "source": []
  }
 ],
 "metadata": {
  "kernelspec": {
   "display_name": "Python 3",
   "language": "python",
   "name": "python3"
  },
  "language_info": {
   "codemirror_mode": {
    "name": "ipython",
    "version": 3
   },
   "file_extension": ".py",
   "mimetype": "text/x-python",
   "name": "python",
   "nbconvert_exporter": "python",
   "pygments_lexer": "ipython3",
   "version": "3.7.4"
  }
 },
 "nbformat": 4,
 "nbformat_minor": 4
}
