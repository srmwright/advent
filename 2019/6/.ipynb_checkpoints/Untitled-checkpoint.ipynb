{
 "cells": [
  {
   "cell_type": "code",
   "execution_count": 16,
   "metadata": {},
   "outputs": [],
   "source": [
    "### Input file into lines\n",
    "with open('test2.txt') as f:\n",
    "    input = f.read()\n",
    "\n",
    "lines = input.strip().split('\\n')"
   ]
  },
  {
   "cell_type": "markdown",
   "metadata": {},
   "source": [
    "### Not efficient!!!"
   ]
  },
  {
   "cell_type": "code",
   "execution_count": 15,
   "metadata": {},
   "outputs": [
    {
     "name": "stdout",
     "output_type": "stream",
     "text": [
      "130681\n"
     ]
    }
   ],
   "source": [
    "orbits = 0\n",
    "for i in lines:\n",
    "    planets = i.split(')')\n",
    "    orbits += 1\n",
    "    orbited_planet = planets[0]\n",
    "    #print(orbited_planet)\n",
    "    while(orbited_planet != 'COM'):\n",
    "        for j in lines:\n",
    "            planets2 = j.split(')')\n",
    "            #print(planets2)\n",
    "            if(planets2[1] == orbited_planet):\n",
    "                orbits += 1\n",
    "                orbited_planet = planets2[0]\n",
    "                #print(orbited_planet)\n",
    "                break\n",
    "print(orbits)\n",
    "        "
   ]
  },
  {
   "cell_type": "markdown",
   "metadata": {},
   "source": [
    "#### Part 2"
   ]
  },
  {
   "cell_type": "code",
   "execution_count": 22,
   "metadata": {},
   "outputs": [],
   "source": [
    "all_planets = [i.split(')')[1] for i in lines]\n",
    "orbit_dict = {}\n",
    "for planet in all_planets:\n",
    "    orbit_dict[planet] = []\n",
    "\n",
    "for i in lines:\n",
    "    planets = i.split(')')\n",
    "    orbit_dict[planets[1]].append(planets[0])\n",
    "    while(orbited_planet != 'COM'):\n",
    "        for j in lines:\n",
    "            planets2 = j.split(')')\n",
    "            #print(planets2)\n",
    "            if(planets2[1] == orbited_planet):\n",
    "                orbits += 1\n",
    "                orbit_dict[planets2[1]].append(planets2[0])"
   ]
  },
  {
   "cell_type": "code",
   "execution_count": 23,
   "metadata": {},
   "outputs": [
    {
     "data": {
      "text/plain": [
       "{'B': ['COM'],\n",
       " 'C': ['B'],\n",
       " 'D': ['C'],\n",
       " 'E': ['D'],\n",
       " 'F': ['E'],\n",
       " 'G': ['B'],\n",
       " 'H': ['G'],\n",
       " 'I': ['D'],\n",
       " 'J': ['E'],\n",
       " 'K': ['J'],\n",
       " 'L': ['K'],\n",
       " 'YOU': ['K'],\n",
       " 'SAN': ['I']}"
      ]
     },
     "execution_count": 23,
     "metadata": {},
     "output_type": "execute_result"
    }
   ],
   "source": [
    "orbit_dict"
   ]
  },
  {
   "cell_type": "code",
   "execution_count": null,
   "metadata": {},
   "outputs": [],
   "source": []
  }
 ],
 "metadata": {
  "kernelspec": {
   "display_name": "Python 3",
   "language": "python",
   "name": "python3"
  },
  "language_info": {
   "codemirror_mode": {
    "name": "ipython",
    "version": 3
   },
   "file_extension": ".py",
   "mimetype": "text/x-python",
   "name": "python",
   "nbconvert_exporter": "python",
   "pygments_lexer": "ipython3",
   "version": "3.7.4"
  }
 },
 "nbformat": 4,
 "nbformat_minor": 4
}
