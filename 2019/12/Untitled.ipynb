{
 "cells": [
  {
   "cell_type": "code",
   "execution_count": 106,
   "metadata": {},
   "outputs": [],
   "source": [
    "with open('input.txt') as f:\n",
    "    input = f.read()\n",
    "pos_string = input.strip().split('\\n')"
   ]
  },
  {
   "cell_type": "code",
   "execution_count": 107,
   "metadata": {},
   "outputs": [
    {
     "data": {
      "text/plain": [
       "['<x=-10, y=-10, z=-13>',\n",
       " '<x=5, y=5, z=-9>',\n",
       " '<x=3, y=8, z=-16>',\n",
       " '<x=1, y=3, z=-3>']"
      ]
     },
     "execution_count": 107,
     "metadata": {},
     "output_type": "execute_result"
    }
   ],
   "source": [
    "pos_string"
   ]
  },
  {
   "cell_type": "code",
   "execution_count": 108,
   "metadata": {},
   "outputs": [
    {
     "data": {
      "text/plain": [
       "'-9'"
      ]
     },
     "execution_count": 108,
     "metadata": {},
     "output_type": "execute_result"
    }
   ],
   "source": [
    "pos_string[1].split(',')[2][3:-1]"
   ]
  },
  {
   "cell_type": "code",
   "execution_count": 109,
   "metadata": {},
   "outputs": [],
   "source": [
    "x = []\n",
    "y = []\n",
    "z = []\n",
    "x_v = []\n",
    "y_v = []\n",
    "z_v = []\n",
    "for i in pos_string:\n",
    "    x.append(int(i.split(',')[0][3:]))\n",
    "    y.append(int(i.split(',')[1][3:]))\n",
    "    z.append(int(i.split(',')[2][3:-1]))\n",
    "    x_v.append(0)\n",
    "    y_v.append(0)\n",
    "    z_v.append(0)"
   ]
  },
  {
   "cell_type": "code",
   "execution_count": 110,
   "metadata": {},
   "outputs": [],
   "source": [
    "def gravity(x1, x2, x1_v, x2_v):\n",
    "    if(x1 > x2):\n",
    "        return(x1_v - 1, x2_v + 1)\n",
    "    elif(x1 < x2):\n",
    "        return(x1_v + 1, x2_v - 1)\n",
    "    else:\n",
    "        return(x1_v, x2_v)"
   ]
  },
  {
   "cell_type": "code",
   "execution_count": 111,
   "metadata": {},
   "outputs": [],
   "source": [
    "def move(x, x_v):\n",
    "    return(x + x_v)"
   ]
  },
  {
   "cell_type": "code",
   "execution_count": 112,
   "metadata": {},
   "outputs": [],
   "source": [
    "def step(x,y,z,x_v,y_v,z_v):\n",
    "    for i in range(0,len(x)):\n",
    "        for j in range(i,len(x)):\n",
    "            x_v[i], x_v[j] = gravity(x[i],x[j],x_v[i],x_v[j])\n",
    "            y_v[i], y_v[j] = gravity(y[i],y[j],y_v[i],y_v[j])\n",
    "            z_v[i], z_v[j] = gravity(z[i],z[j],z_v[i],z_v[j])\n",
    "        x[i] = move(x[i], x_v[i])\n",
    "        y[i] = move(y[i], y_v[i])\n",
    "        z[i] = move(z[i], z_v[i])\n",
    "    #print(x,y,z,x_v,y_v,z_v)\n",
    "    return(x,y,z,x_v,y_v,z_v)"
   ]
  },
  {
   "cell_type": "code",
   "execution_count": 113,
   "metadata": {},
   "outputs": [],
   "source": [
    "i = 0\n",
    "while i < 1000:\n",
    "    x,y,z,x_v,y_v,z_v = step(x,y,z,x_v,y_v,z_v)\n",
    "    i += 1"
   ]
  },
  {
   "cell_type": "code",
   "execution_count": 114,
   "metadata": {},
   "outputs": [],
   "source": [
    "energy = 0\n",
    "for i in range(0, len(x)):\n",
    "    pe = abs(x[i]) + abs(y[i]) + abs(z[i])\n",
    "    ke = abs(x_v[i]) + abs(y_v[i]) + abs(z_v[i])\n",
    "    energy += pe * ke"
   ]
  },
  {
   "cell_type": "code",
   "execution_count": 115,
   "metadata": {},
   "outputs": [
    {
     "data": {
      "text/plain": [
       "6678"
      ]
     },
     "execution_count": 115,
     "metadata": {},
     "output_type": "execute_result"
    }
   ],
   "source": [
    "energy"
   ]
  },
  {
   "cell_type": "code",
   "execution_count": null,
   "metadata": {},
   "outputs": [],
   "source": []
  }
 ],
 "metadata": {
  "kernelspec": {
   "display_name": "Python 3",
   "language": "python",
   "name": "python3"
  },
  "language_info": {
   "codemirror_mode": {
    "name": "ipython",
    "version": 3
   },
   "file_extension": ".py",
   "mimetype": "text/x-python",
   "name": "python",
   "nbconvert_exporter": "python",
   "pygments_lexer": "ipython3",
   "version": "3.7.4"
  }
 },
 "nbformat": 4,
 "nbformat_minor": 4
}
