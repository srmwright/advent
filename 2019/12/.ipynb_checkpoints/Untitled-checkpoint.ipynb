{
 "cells": [
  {
   "cell_type": "code",
   "execution_count": 7,
   "metadata": {},
   "outputs": [],
   "source": [
    "with open('test1.txt') as f:\n",
    "    input = f.read()\n",
    "pos_string = input.strip().split('\\n')"
   ]
  },
  {
   "cell_type": "code",
   "execution_count": 26,
   "metadata": {},
   "outputs": [
    {
     "data": {
      "text/plain": [
       "['<x=-1, y=0, z=2>',\n",
       " '<x=2, y=-10, z=-7>',\n",
       " '<x=4, y=-8, z=8>',\n",
       " '<x=3, y=5, z=-1>']"
      ]
     },
     "execution_count": 26,
     "metadata": {},
     "output_type": "execute_result"
    }
   ],
   "source": [
    "pos_string"
   ]
  },
  {
   "cell_type": "code",
   "execution_count": 29,
   "metadata": {},
   "outputs": [
    {
     "data": {
      "text/plain": [
       "'-7'"
      ]
     },
     "execution_count": 29,
     "metadata": {},
     "output_type": "execute_result"
    }
   ],
   "source": [
    "pos_string[1].split(',')[2][3:-1]"
   ]
  },
  {
   "cell_type": "code",
   "execution_count": 78,
   "metadata": {},
   "outputs": [],
   "source": [
    "x = []\n",
    "y = []\n",
    "z = []\n",
    "x_v = []\n",
    "y_v = []\n",
    "z_v = []\n",
    "for i in pos_string:\n",
    "    x.append(int(i.split(',')[0][3:]))\n",
    "    y.append(int(i.split(',')[1][3:]))\n",
    "    z.append(int(i.split(',')[2][3:-1]))\n",
    "    x_v.append(0)\n",
    "    y_v.append(0)\n",
    "    z_v.append(0)"
   ]
  },
  {
   "cell_type": "code",
   "execution_count": 79,
   "metadata": {},
   "outputs": [],
   "source": [
    "def gravity(x1, x2, x1_v, x2_v):\n",
    "    if(x1 > x2):\n",
    "        return(x1_v - 1, x2_v + 1)\n",
    "    elif(x1 < x2):\n",
    "        return(x1_v + 1, x2_v - 1)\n",
    "    else:\n",
    "        return(x1_v, x2_v)"
   ]
  },
  {
   "cell_type": "code",
   "execution_count": 80,
   "metadata": {},
   "outputs": [],
   "source": [
    "def move(x, x_v):\n",
    "    return(x + x_v)"
   ]
  },
  {
   "cell_type": "code",
   "execution_count": 81,
   "metadata": {},
   "outputs": [],
   "source": [
    "def step(x,y,z,x_v,y_v,z_v):\n",
    "    for i in range(0,len(x)):\n",
    "        for j in range(i,len(x)):\n",
    "            x_v[i], x_v[j] = gravity(x[i],x[j],x_v[i],x_v[j])\n",
    "            y_v[i], y_v[j] = gravity(y[i],y[j],y_v[i],y_v[j])\n",
    "            z_v[i], z_v[j] = gravity(z[i],z[j],z_v[i],z_v[j])\n",
    "        x[i] = move(x[i], x_v[i])\n",
    "        y[i] = move(y[i], y_v[i])\n",
    "        z[i] = move(z[i], z_v[i])\n",
    "    print(x,y,z,x_v,y_v,z_v)\n",
    "    return(x,y,z,x_v,y_v,z_v)"
   ]
  },
  {
   "cell_type": "code",
   "execution_count": 82,
   "metadata": {},
   "outputs": [
    {
     "name": "stdout",
     "output_type": "stream",
     "text": [
      "[2, 3, 1, 2] [-1, -7, -7, 2] [1, -4, 5, 0] [3, 1, -3, -1] [-1, 3, 1, -3] [-1, 3, -3, 1]\n",
      "[5, 1, 1, 1] [-3, -2, -4, -4] [-1, 2, -1, 2] [3, -2, 0, -1] [-2, 5, 3, -6] [-2, 6, -6, 2]\n",
      "[5, 0, 2, 1] [-6, 0, 1, -8] [-1, 6, -5, 2] [0, -1, 1, 0] [-3, 2, 5, -4] [0, 4, -4, 0]\n",
      "[2, 2, 2, 2] [-8, 1, 3, -9] [0, 7, -6, 1] [-3, 2, 0, 1] [-2, 1, 2, -1] [1, 1, -1, -1]\n",
      "[-1, 4, 2, 3] [-9, 1, 2, -7] [2, 5, -4, -1] [-3, 2, 0, 1] [-1, 0, -1, 2] [2, -2, 2, -2]\n",
      "[-1, 3, 3, 3] [-7, 0, -2, -4] [3, 0, 1, -2] [0, -1, 1, 0] [2, -1, -4, 3] [1, -5, 5, -1]\n",
      "[2, 1, 3, 2] [-2, -4, -7, 0] [1, -4, 5, 0] [3, -2, 0, -1] [5, -4, -5, 4] [-2, -4, 4, 2]\n",
      "[5, 2, 0, 1] [2, -7, -9, 1] [-2, -5, 6, 3] [3, 1, -3, -1] [4, -3, -2, 1] [-3, -1, 1, 3]\n",
      "[5, 2, 0, 1] [3, -9, -8, 1] [-4, -3, 4, 5] [0, 0, 0, 0] [1, -2, 1, 0] [-2, 2, -2, 2]\n",
      "[2, 1, 3, 2] [1, -8, -6, 0] [-3, 0, 1, 4] [-3, -1, 3, 1] [-2, 1, 2, -1] [1, 3, -3, -1]\n"
     ]
    }
   ],
   "source": [
    "i = 0\n",
    "while i < 10:\n",
    "    x,y,z,x_v,y_v,z_v = step(x,y,z,x_v,y_v,z_v)\n",
    "    i += 1"
   ]
  },
  {
   "cell_type": "code",
   "execution_count": null,
   "metadata": {},
   "outputs": [],
   "source": []
  }
 ],
 "metadata": {
  "kernelspec": {
   "display_name": "Python 3",
   "language": "python",
   "name": "python3"
  },
  "language_info": {
   "codemirror_mode": {
    "name": "ipython",
    "version": 3
   },
   "file_extension": ".py",
   "mimetype": "text/x-python",
   "name": "python",
   "nbconvert_exporter": "python",
   "pygments_lexer": "ipython3",
   "version": "3.7.4"
  }
 },
 "nbformat": 4,
 "nbformat_minor": 4
}
