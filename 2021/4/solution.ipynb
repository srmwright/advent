{
 "cells": [
  {
   "cell_type": "code",
   "execution_count": 433,
   "id": "f3df9742-c67d-4f58-8e04-296244b0b7a4",
   "metadata": {},
   "outputs": [],
   "source": [
    "import numpy as np\n",
    "### Input file into lines\n",
    "with open('input.txt') as f:\n",
    "    input = f.read()\n",
    "\n",
    "lines = input.strip().split('\\n')"
   ]
  },
  {
   "cell_type": "code",
   "execution_count": 434,
   "id": "64a55287-78d0-4897-9147-974da3c07db9",
   "metadata": {},
   "outputs": [
    {
     "data": {
      "text/plain": [
       "601"
      ]
     },
     "execution_count": 434,
     "metadata": {},
     "output_type": "execute_result"
    }
   ],
   "source": [
    "len(lines)"
   ]
  },
  {
   "cell_type": "code",
   "execution_count": 435,
   "id": "a6c21a36-f2fc-41e9-ad5f-ed06fd2b4f2d",
   "metadata": {},
   "outputs": [],
   "source": [
    "calls = [int(i) for i in lines[0].split(',')]"
   ]
  },
  {
   "cell_type": "code",
   "execution_count": 436,
   "id": "77b00063-faca-4aae-ba4f-33018f5e584d",
   "metadata": {},
   "outputs": [],
   "source": [
    "grids = []\n",
    "i = 2\n",
    "grid_size = 5\n",
    "while i < len(lines):\n",
    "    a = lines[i:i+grid_size]\n",
    "    for j in range(len(a)):\n",
    "        a[j] = [int(k) for k  in a[j].split()]\n",
    "    grids.append(a)\n",
    "    i += grid_size + 1"
   ]
  },
  {
   "cell_type": "code",
   "execution_count": 437,
   "id": "a3d355fa-55f2-471e-8e07-088d4ad2295d",
   "metadata": {},
   "outputs": [],
   "source": [
    "marker_grids = np.array([[[0] * 5]*5]*int((len(lines)-1)/6))"
   ]
  },
  {
   "cell_type": "code",
   "execution_count": 438,
   "id": "c52803aa-7b00-4b4e-8d35-8b32f48a2744",
   "metadata": {},
   "outputs": [],
   "source": [
    "def grid_checker(grids):\n",
    "    for idx, i in enumerate(grids):\n",
    "        check_horiz = np.sum(i, axis = 0)\n",
    "        check_vert = np.sum(i, axis = 1)\n",
    "        if any(check_horiz == 5) or any(check_vert == 5):\n",
    "            return idx\n",
    "    return(-1)"
   ]
  },
  {
   "cell_type": "code",
   "execution_count": 439,
   "id": "e49180fc-ae3a-4e16-9131-affdd26eecb8",
   "metadata": {},
   "outputs": [],
   "source": [
    "card_no = -1\n",
    "final_call = 0\n",
    "for call in calls:\n",
    "    final_call = call\n",
    "    for idx, i in enumerate(grids):\n",
    "        for idx2, j in enumerate(i):\n",
    "            for idx3, k in enumerate(j):\n",
    "                if k == call:\n",
    "                    marker_grids[idx][idx2][idx3] = 1\n",
    "    card_no = grid_checker(marker_grids)\n",
    "    if card_no >= 0:\n",
    "        break\n"
   ]
  },
  {
   "cell_type": "code",
   "execution_count": 440,
   "id": "44f621b7-183e-4c8b-86cb-2218c48db7e7",
   "metadata": {},
   "outputs": [
    {
     "data": {
      "text/plain": [
       "39984"
      ]
     },
     "execution_count": 440,
     "metadata": {},
     "output_type": "execute_result"
    }
   ],
   "source": [
    "(sum(sum(np.array(grids[card_no])))- sum(sum(grids[card_no]*marker_grids[card_no]))) * final_call"
   ]
  },
  {
   "cell_type": "markdown",
   "id": "c1f16def-26bc-43b0-a92f-d2ca36d98ba2",
   "metadata": {},
   "source": [
    "### Part 2"
   ]
  },
  {
   "cell_type": "code",
   "execution_count": 441,
   "id": "6a6965d9-48a9-418c-a754-d8fb8d1de9ac",
   "metadata": {},
   "outputs": [],
   "source": [
    "def grid_checker1(i):\n",
    "    check_horiz = np.sum(i, axis = 0)\n",
    "    check_vert = np.sum(i, axis = 1)\n",
    "    if any(check_horiz == 5) or any(check_vert == 5):\n",
    "        return idx\n",
    "    return(-1)"
   ]
  },
  {
   "cell_type": "code",
   "execution_count": 442,
   "id": "63ab84bd-68d2-4288-9a2e-98ecfa9be89c",
   "metadata": {},
   "outputs": [],
   "source": [
    "cards = []\n",
    "final_call = 0\n",
    "for call in calls:\n",
    "    final_call = call\n",
    "    for idx, i in enumerate(grids):\n",
    "        for idx2, j in enumerate(i):\n",
    "            for idx3, k in enumerate(j):\n",
    "                if k == call:\n",
    "                    marker_grids[idx][idx2][idx3] = 1\n",
    "        card_no = grid_checker1(marker_grids[idx])\n",
    "        if card_no not in cards:\n",
    "            cards.append(card_no)\n",
    "    if len(cards) == len(grids) + 1:\n",
    "        break"
   ]
  },
  {
   "cell_type": "code",
   "execution_count": 443,
   "id": "254240f2-c9d7-45e9-98b3-0a3b9fbbb5d4",
   "metadata": {},
   "outputs": [
    {
     "data": {
      "text/plain": [
       "43"
      ]
     },
     "execution_count": 443,
     "metadata": {},
     "output_type": "execute_result"
    }
   ],
   "source": [
    "cards[-1]"
   ]
  },
  {
   "cell_type": "code",
   "execution_count": 444,
   "id": "1b5ee2b7-4dba-47ee-b144-7d691ed2450e",
   "metadata": {},
   "outputs": [
    {
     "data": {
      "text/plain": [
       "73"
      ]
     },
     "execution_count": 444,
     "metadata": {},
     "output_type": "execute_result"
    }
   ],
   "source": [
    "final_call"
   ]
  },
  {
   "cell_type": "code",
   "execution_count": 445,
   "id": "f450568a-9afd-46fb-a078-5ead8dec9c6f",
   "metadata": {},
   "outputs": [
    {
     "data": {
      "text/plain": [
       "8468"
      ]
     },
     "execution_count": 445,
     "metadata": {},
     "output_type": "execute_result"
    }
   ],
   "source": [
    "(sum(sum(np.array(grids[cards[-1]])))- sum(sum(grids[cards[-1]]*marker_grids[cards[-1]]))) * final_call"
   ]
  },
  {
   "cell_type": "markdown",
   "id": "c171ac5e-cbd5-4150-ac93-21e2b2c87899",
   "metadata": {},
   "source": [
    "### What went wrong?"
   ]
  },
  {
   "cell_type": "code",
   "execution_count": 567,
   "id": "f9b427b8-b57e-4e0c-960f-a9e737a6e7bc",
   "metadata": {},
   "outputs": [],
   "source": [
    "grid = [[[1,2,3],[4,5,6],[7,8,9]],[[10,2,30],[4,5,6],[7,8,9]],[[1,2,35],[4,5,6],[7,8,9]]]"
   ]
  },
  {
   "cell_type": "code",
   "execution_count": 568,
   "id": "a66562fd-a0a0-45bc-888e-77d060f43b20",
   "metadata": {},
   "outputs": [],
   "source": [
    "marker_grid = [[[0]*3]*3]*3"
   ]
  },
  {
   "cell_type": "code",
   "execution_count": 569,
   "id": "77d4e8d4-090b-4401-9508-6972810b961f",
   "metadata": {},
   "outputs": [
    {
     "data": {
      "text/plain": [
       "[[[0, 0, 0], [0, 0, 0], [0, 0, 0]],\n",
       " [[0, 0, 0], [0, 0, 0], [0, 0, 0]],\n",
       " [[0, 0, 0], [0, 0, 0], [0, 0, 0]]]"
      ]
     },
     "execution_count": 569,
     "metadata": {},
     "output_type": "execute_result"
    }
   ],
   "source": [
    "marker_grid"
   ]
  },
  {
   "cell_type": "code",
   "execution_count": 570,
   "id": "49fb7233-608d-4720-9a6a-4e74f7eabccc",
   "metadata": {},
   "outputs": [
    {
     "name": "stdout",
     "output_type": "stream",
     "text": [
      "0 0 0\n",
      "[[[0, 0, 0], [0, 0, 0], [0, 0, 0]], [[0, 0, 0], [0, 0, 0], [0, 0, 0]], [[0, 0, 0], [0, 0, 0], [0, 0, 0]]]\n",
      "[[[1, 0, 0], [1, 0, 0], [1, 0, 0]], [[1, 0, 0], [1, 0, 0], [1, 0, 0]], [[1, 0, 0], [1, 0, 0], [1, 0, 0]]]\n"
     ]
    }
   ],
   "source": [
    "for i in range(len(grid)):\n",
    "    for j in range(len(grid[0])):\n",
    "        for k in range(len(grid[0][0])):\n",
    "            #if grid[i][j][k] == 3:\n",
    "            if i == j == k == 0:\n",
    "                print(i,j,k)\n",
    "                print(marker_grid)\n",
    "                marker_grid[0][0][k] = 1 #literally doesn't care about i,j\n",
    "                print(marker_grid)"
   ]
  },
  {
   "cell_type": "code",
   "execution_count": 565,
   "id": "f241e174-b66b-46f3-b09c-bdd795c21417",
   "metadata": {},
   "outputs": [
    {
     "data": {
      "text/plain": [
       "[[[1, 2, 3], [4, 5, 6], [7, 8, 9]],\n",
       " [[10, 2, 30], [4, 5, 6], [7, 8, 9]],\n",
       " [[1, 2, 35], [4, 5, 6], [7, 8, 9]]]"
      ]
     },
     "execution_count": 565,
     "metadata": {},
     "output_type": "execute_result"
    }
   ],
   "source": [
    "grid"
   ]
  },
  {
   "cell_type": "markdown",
   "id": "f677926b-54d6-47fd-9e2d-9adb71a4a008",
   "metadata": {},
   "source": [
    "Why does it ignore what i,j are set to?"
   ]
  },
  {
   "cell_type": "code",
   "execution_count": 566,
   "id": "ef4ae887-91e5-43b0-8e2b-fbaadc569d14",
   "metadata": {},
   "outputs": [
    {
     "data": {
      "text/plain": [
       "[[[1, 0, 0], [1, 0, 0], [1, 0, 0]],\n",
       " [[1, 0, 0], [1, 0, 0], [1, 0, 0]],\n",
       " [[1, 0, 0], [1, 0, 0], [1, 0, 0]]]"
      ]
     },
     "execution_count": 566,
     "metadata": {},
     "output_type": "execute_result"
    }
   ],
   "source": [
    "marker_grid"
   ]
  },
  {
   "cell_type": "code",
   "execution_count": 550,
   "id": "a11a321c-1e5e-409e-9d9e-bc1c1c0abc6b",
   "metadata": {},
   "outputs": [
    {
     "name": "stdout",
     "output_type": "stream",
     "text": [
      "1\n"
     ]
    }
   ],
   "source": [
    "print(marker_grid[1][1][0])"
   ]
  },
  {
   "cell_type": "code",
   "execution_count": null,
   "id": "2767d506-89a9-4334-8379-2ecadc826c58",
   "metadata": {},
   "outputs": [],
   "source": []
  }
 ],
 "metadata": {
  "kernelspec": {
   "display_name": "Python 3 (ipykernel)",
   "language": "python",
   "name": "python3"
  },
  "language_info": {
   "codemirror_mode": {
    "name": "ipython",
    "version": 3
   },
   "file_extension": ".py",
   "mimetype": "text/x-python",
   "name": "python",
   "nbconvert_exporter": "python",
   "pygments_lexer": "ipython3",
   "version": "3.8.11"
  }
 },
 "nbformat": 4,
 "nbformat_minor": 5
}
