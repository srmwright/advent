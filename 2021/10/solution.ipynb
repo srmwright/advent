{
 "cells": [
  {
   "cell_type": "code",
   "execution_count": 66,
   "id": "41172522-ce17-4cd5-b18a-35f33457dd21",
   "metadata": {},
   "outputs": [],
   "source": [
    "import numpy as np\n",
    "with open('input.txt') as f:\n",
    "    input = f.read()\n",
    "\n",
    "init = input.strip().split('\\n')\n",
    "init = [list(map(str, i)) for i in init]"
   ]
  },
  {
   "cell_type": "code",
   "execution_count": 67,
   "id": "8a57bf62-aef7-4dad-ad3a-da4bff7203ca",
   "metadata": {},
   "outputs": [
    {
     "name": "stdout",
     "output_type": "stream",
     "text": [
      "[']', ')', ']', '>', ')', ']', ']', ')', '>', '}', '>', '>', ']', ']', ')', '}', '}', ']', ')', '>', ')', ']', ')', ')', ']', ']', '>', '>', '>', ']', '>', '}', ']', '>', '}', '>', ')', ')', '>', '>', ']', ')', '>', ')', ']']\n",
      "358737\n"
     ]
    }
   ],
   "source": [
    "broken_chars = []\n",
    "for i in init:\n",
    "    next_expected = []\n",
    "    for j in i:\n",
    "        if j == '(':\n",
    "            next_expected.append(')')\n",
    "        if j == '[':\n",
    "            next_expected.append(']')\n",
    "        if j == '{':\n",
    "            next_expected.append('}')\n",
    "        if j == '<':\n",
    "            next_expected.append('>')\n",
    "        if j in ('>','}',']',')'):\n",
    "            if j == next_expected[-1]:\n",
    "                next_expected = next_expected[:-1]\n",
    "            else:\n",
    "                broken_chars.append(j)\n",
    "                break\n",
    "print(broken_chars)\n",
    "score = 0\n",
    "score_dict = {')':3,']':57,'}':1197,'>':25137}\n",
    "for i in broken_chars:\n",
    "    score += score_dict[i]\n",
    "print(score)"
   ]
  },
  {
   "cell_type": "code",
   "execution_count": 68,
   "id": "67a1c262-28b4-4ff9-80a9-fdc4564b7cc3",
   "metadata": {},
   "outputs": [
    {
     "name": "stdout",
     "output_type": "stream",
     "text": [
      "[6590306, 7569589, 44492472, 114056072, 462448347, 682991808, 815910622, 914716449, 972488434, 1047937489, 1089397913, 1528227868, 1590538337, 1828849741, 2063827349, 2922494731, 3001171234, 3060489621, 3151461672, 3261602917, 3342544993, 3997527322, 4329504793, 4475496616, 4614182049, 5346631214, 5532229171, 5740199949, 5855068594, 6052264842, 9148160911, 10240139784, 11850522684, 14243948082, 17453793661, 17800758107, 20110291422, 21615930372, 23080054723, 23085386416, 23142442312, 24262996183, 26099167847, 30359257462, 30388019696]\n",
      "4329504793\n"
     ]
    }
   ],
   "source": [
    "broken_chars = []\n",
    "score_dict = {')':1,']':2,'}':3,'>':4}\n",
    "scores = []\n",
    "for i in init:\n",
    "    corrupt = 0\n",
    "    next_expected = []\n",
    "    score = 0\n",
    "    for j in i:\n",
    "        if j == '(':\n",
    "            next_expected.append(')')\n",
    "        if j == '[':\n",
    "            next_expected.append(']')\n",
    "        if j == '{':\n",
    "            next_expected.append('}')\n",
    "        if j == '<':\n",
    "            next_expected.append('>')\n",
    "        if j in ('>','}',']',')'):\n",
    "            if j == next_expected[-1]:\n",
    "                next_expected = next_expected[:-1]\n",
    "            else:\n",
    "                broken_chars.append(j)\n",
    "                corrupt = 1\n",
    "                break\n",
    "    if corrupt == 0:\n",
    "        next_expected.reverse()\n",
    "        for k in next_expected:\n",
    "            score += score*4 + score_dict[k]\n",
    "        scores.append(score)\n",
    "scores = sorted(scores)\n",
    "print(scores[int((len(scores)-1)/2)]) # Part 2\n",
    "\n",
    "## Part 1 scoring\n",
    "corrupt_score = 0\n",
    "corrupt_score_dict = {')':3,']':57,'}':1197,'>':25137}\n",
    "for i in broken_chars:\n",
    "    corrupt_score += corrupt_score_dict[i]\n",
    "print(corrupt_score)"
   ]
  },
  {
   "cell_type": "code",
   "execution_count": 65,
   "id": "13d97e2f-759d-4b7d-bf34-7df955ae2cb9",
   "metadata": {},
   "outputs": [
    {
     "data": {
      "text/plain": [
       "5"
      ]
     },
     "execution_count": 65,
     "metadata": {},
     "output_type": "execute_result"
    }
   ],
   "source": [
    "len(scores)"
   ]
  },
  {
   "cell_type": "code",
   "execution_count": 38,
   "id": "dbf47899-06f5-4882-bf4e-a7122d551a39",
   "metadata": {},
   "outputs": [],
   "source": [
    "b = a.reverse()"
   ]
  },
  {
   "cell_type": "code",
   "execution_count": 39,
   "id": "3fd480e7-6a76-4d8b-9489-107fef5855cc",
   "metadata": {},
   "outputs": [],
   "source": [
    "b"
   ]
  },
  {
   "cell_type": "code",
   "execution_count": null,
   "id": "5d78eeaa-b73d-4abd-88e2-1697129475e5",
   "metadata": {},
   "outputs": [],
   "source": []
  }
 ],
 "metadata": {
  "kernelspec": {
   "display_name": "Python 3 (ipykernel)",
   "language": "python",
   "name": "python3"
  },
  "language_info": {
   "codemirror_mode": {
    "name": "ipython",
    "version": 3
   },
   "file_extension": ".py",
   "mimetype": "text/x-python",
   "name": "python",
   "nbconvert_exporter": "python",
   "pygments_lexer": "ipython3",
   "version": "3.8.11"
  }
 },
 "nbformat": 4,
 "nbformat_minor": 5
}
