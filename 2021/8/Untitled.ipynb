{
 "cells": [
  {
   "cell_type": "code",
   "execution_count": 172,
   "id": "a51c3c2d-25be-4cf3-a5ab-d408b26e97a5",
   "metadata": {},
   "outputs": [],
   "source": [
    "import numpy as np\n",
    "with open('input.txt') as f:\n",
    "    input = f.read()\n",
    "\n",
    "lines = input.strip().split('\\n')\n",
    "output1 = [i.split(' | ', 1)[1] for i in lines]\n",
    "output2 = [i.split(' ') for i in output1]"
   ]
  },
  {
   "cell_type": "code",
   "execution_count": 173,
   "id": "542b9709-97c5-4a57-8fad-58e420afac7b",
   "metadata": {},
   "outputs": [
    {
     "name": "stdout",
     "output_type": "stream",
     "text": [
      "349\n"
     ]
    }
   ],
   "source": [
    "counter = 0\n",
    "for i in output2:\n",
    "    for j in i:\n",
    "        if len(j) in (2,3,4,7):\n",
    "            counter += 1\n",
    "print(counter)"
   ]
  },
  {
   "cell_type": "code",
   "execution_count": 175,
   "id": "94a4260b-c24d-4708-bf7b-ec950367d0ae",
   "metadata": {},
   "outputs": [],
   "source": [
    "### Part 2"
   ]
  },
  {
   "cell_type": "code",
   "execution_count": 176,
   "id": "bc847aa9-3397-4105-8eb7-d22c16ea0a62",
   "metadata": {},
   "outputs": [],
   "source": [
    "deduc = [i.split(' | ', 1)[0] for i in lines]\n",
    "deduc2 = [i.split(' ') for i in deduc]"
   ]
  },
  {
   "cell_type": "code",
   "execution_count": 177,
   "id": "93c46579-1aa6-4c77-891b-ec035b8ae3b4",
   "metadata": {},
   "outputs": [],
   "source": [
    "a = sorted(deduc2[0], key = len)\n",
    "a = [''.join(sorted(i)) for i in a]"
   ]
  },
  {
   "cell_type": "code",
   "execution_count": 179,
   "id": "96364879-7aa5-46e7-b611-35ccdace3d4c",
   "metadata": {},
   "outputs": [],
   "source": [
    "def extra_elements(a,b):\n",
    "    top = [i if i not in a else '' for i in b]\n",
    "    top = ''.join(top)\n",
    "    return top\n",
    "def matching_element(a,b):\n",
    "    top = [i if i in a else '' for i in b]\n",
    "    top = ''.join(top)\n",
    "    return(top)"
   ]
  },
  {
   "cell_type": "code",
   "execution_count": 180,
   "id": "0a5bc4d0-dd46-4a8d-b5c6-a9f3eeaeff17",
   "metadata": {},
   "outputs": [],
   "source": [
    "missing_elements = [extra_elements(i,a[9]) for i in a]"
   ]
  },
  {
   "cell_type": "code",
   "execution_count": 181,
   "id": "8b21185b-048b-4e1c-9efa-f266ad8237c3",
   "metadata": {},
   "outputs": [],
   "source": [
    "top = extra_elements(a[0],a[1])\n",
    "top_right = matching_element(a[0], missing_elements[6:9])\n",
    "bottom_right = extra_elements(top_right, a[0])\n",
    "bottom_left = matching_element(missing_elements[6:9], missing_elements[2])\n",
    "middle = extra_elements([top_right, bottom_left], missing_elements[6:9])\n",
    "top_left = extra_elements([top_right, bottom_right, middle],a[2])\n",
    "bottom = extra_elements([top, top_right, bottom_right, bottom_left, middle, top_left], a[9])"
   ]
  },
  {
   "cell_type": "code",
   "execution_count": 182,
   "id": "577ec155-f8e4-470d-94d9-550e1f8fc119",
   "metadata": {},
   "outputs": [
    {
     "data": {
      "text/plain": [
       "['b', 'c', 'e', 'a', 'f', 'd', 'g']"
      ]
     },
     "execution_count": 182,
     "metadata": {},
     "output_type": "execute_result"
    }
   ],
   "source": [
    "[top, top_right, bottom_right, bottom_left, middle, top_left, bottom]"
   ]
  },
  {
   "cell_type": "code",
   "execution_count": 183,
   "id": "34fa88c5-e343-4f47-b45d-9cbb14502b07",
   "metadata": {},
   "outputs": [],
   "source": [
    "zero_string = ''.join(sorted([top, top_right, bottom_right, bottom_left, top_left, bottom]))\n",
    "one_string = a[0]\n",
    "two_string = ''.join(sorted([top, top_right, middle, bottom_left, bottom]))\n",
    "three_string = ''.join(sorted([top, top_right, middle, bottom_right, bottom]))\n",
    "four_string = a[2]\n",
    "five_string = ''.join(sorted([top, top_left, middle, bottom_right, bottom]))\n",
    "six_string = ''.join(sorted([top, bottom_right, bottom_left, middle, top_left, bottom]))\n",
    "seven_string = a[1]\n",
    "eight_string = a[9]\n",
    "nine_string = ''.join(sorted([top, top_right, bottom_right, middle, top_left, bottom]))"
   ]
  },
  {
   "cell_type": "code",
   "execution_count": 184,
   "id": "8cc8bf4c-2d20-420d-9aa2-b59b6aaf23ac",
   "metadata": {},
   "outputs": [],
   "source": [
    "strings = [zero_string, one_string, two_string, three_string, four_string,\n",
    "           five_string, six_string, seven_string, eight_string, nine_string]"
   ]
  },
  {
   "cell_type": "code",
   "execution_count": 185,
   "id": "c30daec8-eb8d-44e5-94c6-cc1053c2cc95",
   "metadata": {},
   "outputs": [],
   "source": [
    "answers = []\n",
    "for line in range(len(deduc2)):\n",
    "    a = sorted(deduc2[line], key = len)\n",
    "    a = [''.join(sorted(i)) for i in a]\n",
    "    missing_elements = [extra_elements(i,a[9]) for i in a]\n",
    "    \n",
    "    top = extra_elements(a[0],a[1])\n",
    "    top_right = matching_element(a[0], missing_elements[6:9])\n",
    "    bottom_right = extra_elements(top_right, a[0])\n",
    "    bottom_left = matching_element(missing_elements[6:9], missing_elements[2])\n",
    "    middle = extra_elements([top_right, bottom_left], missing_elements[6:9])\n",
    "    top_left = extra_elements([top_right, bottom_right, middle],a[2])\n",
    "    bottom = extra_elements([top, top_right, bottom_right, bottom_left, middle, top_left], a[9])\n",
    "    \n",
    "    zero_string = ''.join(sorted([top, top_right, bottom_right, bottom_left, top_left, bottom]))\n",
    "    one_string = a[0]\n",
    "    two_string = ''.join(sorted([top, top_right, middle, bottom_left, bottom]))\n",
    "    three_string = ''.join(sorted([top, top_right, middle, bottom_right, bottom]))\n",
    "    four_string = a[2]\n",
    "    five_string = ''.join(sorted([top, top_left, middle, bottom_right, bottom]))\n",
    "    six_string = ''.join(sorted([top, bottom_right, bottom_left, middle, top_left, bottom]))\n",
    "    seven_string = a[1]\n",
    "    eight_string = a[9]\n",
    "    nine_string = ''.join(sorted([top, top_right, bottom_right, middle, top_left, bottom]))\n",
    "    strings = [zero_string, one_string, two_string, three_string, four_string,\n",
    "           five_string, six_string, seven_string, eight_string, nine_string]\n",
    "    \n",
    "    ans_string = ''\n",
    "    for ele in output2[line]:\n",
    "        ele = ''.join(sorted(ele))\n",
    "        for idx, ij in enumerate(strings):\n",
    "            if ij == ele:\n",
    "                ans_string += str(idx)\n",
    "    answers.append(int(ans_string))\n",
    "print(sum(answers))"
   ]
  },
  {
   "cell_type": "code",
   "execution_count": 186,
   "id": "b4c80665-acc1-439d-ba61-ccfaae570430",
   "metadata": {},
   "outputs": [
    {
     "data": {
      "text/plain": [
       "1070957"
      ]
     },
     "execution_count": 186,
     "metadata": {},
     "output_type": "execute_result"
    }
   ],
   "source": [
    "sum(answers)"
   ]
  },
  {
   "cell_type": "code",
   "execution_count": null,
   "id": "e7d942fb-c127-4332-9b7b-45897ca0c62b",
   "metadata": {},
   "outputs": [],
   "source": []
  }
 ],
 "metadata": {
  "kernelspec": {
   "display_name": "Python 3 (ipykernel)",
   "language": "python",
   "name": "python3"
  },
  "language_info": {
   "codemirror_mode": {
    "name": "ipython",
    "version": 3
   },
   "file_extension": ".py",
   "mimetype": "text/x-python",
   "name": "python",
   "nbconvert_exporter": "python",
   "pygments_lexer": "ipython3",
   "version": "3.8.11"
  }
 },
 "nbformat": 4,
 "nbformat_minor": 5
}
