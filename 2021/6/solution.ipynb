{
 "cells": [
  {
   "cell_type": "code",
   "execution_count": 28,
   "id": "4d4de226-6536-42cc-b52f-25d91ee3e2cb",
   "metadata": {},
   "outputs": [],
   "source": [
    "import numpy as np\n",
    "with open('input.txt') as f:\n",
    "    input = f.read()\n",
    "\n",
    "init = input.strip().split(',')"
   ]
  },
  {
   "cell_type": "code",
   "execution_count": 29,
   "id": "5ed8a119-7367-45bc-851a-083003425794",
   "metadata": {},
   "outputs": [],
   "source": [
    "init = [int(i) for i in init]"
   ]
  },
  {
   "cell_type": "code",
   "execution_count": 30,
   "id": "0351c5b8-1e7b-450f-a0ee-8ebcfc54f3ab",
   "metadata": {},
   "outputs": [
    {
     "data": {
      "text/plain": [
       "[0, 86, 58, 51, 56, 49, 0, 0, 0]"
      ]
     },
     "execution_count": 30,
     "metadata": {},
     "output_type": "execute_result"
    }
   ],
   "source": [
    "init_counts = [0]*9\n",
    "for i in init:\n",
    "    init_counts[i] += 1\n",
    "init_counts"
   ]
  },
  {
   "cell_type": "code",
   "execution_count": 31,
   "id": "ac5aa386-5ea5-41f4-bbb9-e675740b1e6f",
   "metadata": {},
   "outputs": [
    {
     "name": "stdout",
     "output_type": "stream",
     "text": [
      "[142314924795, 161696103037, 172664695649, 188351404845, 209923822686, 220241339601, 252637217270, 118975198597, 137556475669]\n"
     ]
    }
   ],
   "source": [
    "i = 0\n",
    "old_counts = init_counts\n",
    "while i < 256:\n",
    "    counts = [0]*9\n",
    "    counts[0:6] = old_counts[1:7]\n",
    "    counts[6] = old_counts[7] + old_counts[0]\n",
    "    counts[7] = old_counts[8]\n",
    "    counts[8] = old_counts[0]\n",
    "    old_counts = counts\n",
    "    i += 1\n",
    "print(sum(counts))"
   ]
  },
  {
   "cell_type": "code",
   "execution_count": 32,
   "id": "6e04e5b3-e479-4432-9f1f-03607e12e0b9",
   "metadata": {},
   "outputs": [
    {
     "data": {
      "text/plain": [
       "1604361182149"
      ]
     },
     "execution_count": 32,
     "metadata": {},
     "output_type": "execute_result"
    }
   ],
   "source": [
    "sum(counts)"
   ]
  },
  {
   "cell_type": "code",
   "execution_count": null,
   "id": "ae993ca7-5d0a-46cf-9a6d-74befc49bd91",
   "metadata": {},
   "outputs": [],
   "source": []
  }
 ],
 "metadata": {
  "kernelspec": {
   "display_name": "Python 3 (ipykernel)",
   "language": "python",
   "name": "python3"
  },
  "language_info": {
   "codemirror_mode": {
    "name": "ipython",
    "version": 3
   },
   "file_extension": ".py",
   "mimetype": "text/x-python",
   "name": "python",
   "nbconvert_exporter": "python",
   "pygments_lexer": "ipython3",
   "version": "3.8.11"
  }
 },
 "nbformat": 4,
 "nbformat_minor": 5
}
