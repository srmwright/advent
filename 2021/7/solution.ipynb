{
 "cells": [
  {
   "cell_type": "code",
   "execution_count": 52,
   "id": "4926c0fd-a4b3-40d9-843f-e23dd82e4a2b",
   "metadata": {},
   "outputs": [],
   "source": [
    "import numpy as np\n",
    "with open('input.txt') as f:\n",
    "    input = f.read()\n",
    "\n",
    "init = input.strip().split(',')\n",
    "init = [int(i) for i in init]"
   ]
  },
  {
   "cell_type": "code",
   "execution_count": 53,
   "id": "9e9abc22-5852-4e9d-914e-c7f5d7e7666f",
   "metadata": {},
   "outputs": [
    {
     "name": "stdout",
     "output_type": "stream",
     "text": [
      "349357 341\n"
     ]
    }
   ],
   "source": [
    "min_int = 1000000000000\n",
    "min_pos = 0\n",
    "for i in range(max(init)):\n",
    "    a = sum([abs(j - i) for j in init])\n",
    "    if a < min_int:\n",
    "        min_int = a\n",
    "        min_pos = i\n",
    "print(min_int, min_pos)"
   ]
  },
  {
   "cell_type": "code",
   "execution_count": 54,
   "id": "5ea6ddcf-77a6-49b4-9e7b-be1834c4cd69",
   "metadata": {},
   "outputs": [
    {
     "name": "stdout",
     "output_type": "stream",
     "text": [
      "96708205.0 480\n"
     ]
    }
   ],
   "source": [
    "min_int = 1000000000000\n",
    "min_pos = 0\n",
    "for i in range(max(init)):\n",
    "    a = sum([abs(j - i) for j in init]) #part 1\n",
    "    a = sum([abs(j - i)*(abs(j-i)+1)/2 for j in init]) #part 2\n",
    "    if a < min_int:\n",
    "        min_int = a\n",
    "        min_pos = i\n",
    "print(min_int, min_pos)"
   ]
  },
  {
   "cell_type": "markdown",
   "id": "dd6364bf-cc81-4c74-90f1-049500aea523",
   "metadata": {},
   "source": [
    "Look ma, no loops:"
   ]
  },
  {
   "cell_type": "code",
   "execution_count": 97,
   "id": "651a4e61-ce0a-43ae-9b31-e48ba5b98751",
   "metadata": {},
   "outputs": [],
   "source": [
    "x2 = [1/2 for j in init]\n",
    "x = [(2*j)/2 for j in init]\n",
    "k = [(j*(j))/2 for j in init]"
   ]
  },
  {
   "cell_type": "code",
   "execution_count": 98,
   "id": "3e778e09-4afb-43f9-9641-da2c09a85b87",
   "metadata": {},
   "outputs": [
    {
     "name": "stdout",
     "output_type": "stream",
     "text": [
      "480.0\n"
     ]
    }
   ],
   "source": [
    "min_x = np.floor(sum(x)/(sum(x2)*2))\n",
    "print(min_x)"
   ]
  },
  {
   "cell_type": "code",
   "execution_count": 99,
   "id": "f32303cd-236e-4ed8-8a87-091a53e8fdce",
   "metadata": {},
   "outputs": [],
   "source": [
    "x = [(2*j + 1)/2 if j >= min_x else (2*j - 1)/2 for j in init]\n",
    "k = [(j*(j+1))/2 if j >= min_x else (j*(j-1))/2 for j in init]"
   ]
  },
  {
   "cell_type": "code",
   "execution_count": 100,
   "id": "6fe1582d-e3b0-4f23-a158-73405c8d547c",
   "metadata": {},
   "outputs": [],
   "source": [
    "fuel = sum(x2)*min_x*min_x - sum(x)*min_x + sum(k)"
   ]
  },
  {
   "cell_type": "code",
   "execution_count": 101,
   "id": "2b4052a9-9651-4c31-a9b5-892eb1db12ba",
   "metadata": {},
   "outputs": [
    {
     "name": "stdout",
     "output_type": "stream",
     "text": [
      "96708205.0\n"
     ]
    }
   ],
   "source": [
    "print(fuel)"
   ]
  },
  {
   "cell_type": "code",
   "execution_count": null,
   "id": "5342eed8-74e4-4671-b55c-f8dbf0ca91a2",
   "metadata": {},
   "outputs": [],
   "source": []
  }
 ],
 "metadata": {
  "kernelspec": {
   "display_name": "Python 3 (ipykernel)",
   "language": "python",
   "name": "python3"
  },
  "language_info": {
   "codemirror_mode": {
    "name": "ipython",
    "version": 3
   },
   "file_extension": ".py",
   "mimetype": "text/x-python",
   "name": "python",
   "nbconvert_exporter": "python",
   "pygments_lexer": "ipython3",
   "version": "3.8.11"
  }
 },
 "nbformat": 4,
 "nbformat_minor": 5
}
