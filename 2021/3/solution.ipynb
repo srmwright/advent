{
 "cells": [
  {
   "cell_type": "code",
   "execution_count": 262,
   "id": "06fd553a-5b7e-4dc1-9ca0-108e770051f7",
   "metadata": {},
   "outputs": [],
   "source": [
    "import numpy as np\n",
    "### Input file into lines\n",
    "with open('input.txt') as f:\n",
    "    input = f.read()\n",
    "\n",
    "lines = input.strip().split('\\n')\n",
    "res = [[int(x) for x in str(i)] for i in lines]\n",
    "a = np.array(res)\n",
    "\n",
    "b = np.sum(a, axis = 0)\n",
    "gamma_array = np.floor(b/(len(lines)/2))\n",
    "gamma_array = [int(i) for i in gamma_array]\n",
    "epsilon_array = [(i+1)%2 for i in gamma_array]\n",
    "\n",
    "gamma_array_str = [str(i) for i in gamma_array]\n",
    "epsilon_array_str = [str(i) for i in epsilon_array]\n",
    "gamma = ''.join(gamma_array_str)\n",
    "epsilon = ''.join(epsilon_array_str)\n",
    "\n",
    "print(int(gamma,2)*int(epsilon,2))"
   ]
  },
  {
   "cell_type": "code",
   "execution_count": 263,
   "id": "01d55bc2-0809-42dc-b707-73da76cb9ca3",
   "metadata": {},
   "outputs": [],
   "source": []
  },
  {
   "cell_type": "code",
   "execution_count": 264,
   "id": "7f2abab8-8051-4271-abf3-b9a93e4564e1",
   "metadata": {},
   "outputs": [],
   "source": [
    "a = np.array(res)"
   ]
  },
  {
   "cell_type": "code",
   "execution_count": 265,
   "id": "4eda8d96-f6ea-4407-8891-41cccd088804",
   "metadata": {},
   "outputs": [],
   "source": [
    "b = np.sum(a, axis = 0)"
   ]
  },
  {
   "cell_type": "code",
   "execution_count": 266,
   "id": "4844c8bb-0cc7-42b8-b3fa-f25ecebe6a49",
   "metadata": {},
   "outputs": [],
   "source": [
    "gamma_array = np.floor(b/(len(lines)/2))"
   ]
  },
  {
   "cell_type": "code",
   "execution_count": 267,
   "id": "69e9f927-f4f7-49f2-ae0e-264e5f844b13",
   "metadata": {},
   "outputs": [],
   "source": [
    "gamma_array = [int(i) for i in gamma_array]\n",
    "epsilon_array = [(i+1)%2 for i in gamma_array]\n",
    "gamma_array_str = [str(i) for i in gamma_array]\n",
    "epsilon_array_str = [str(i) for i in epsilon_array]"
   ]
  },
  {
   "cell_type": "code",
   "execution_count": 268,
   "id": "8bc6ba9e-930b-453b-9cd6-8b8fab72a596",
   "metadata": {},
   "outputs": [],
   "source": [
    "gamma = ''.join(gamma_array_str)\n",
    "epsilon = ''.join(epsilon_array_str)"
   ]
  },
  {
   "cell_type": "code",
   "execution_count": 269,
   "id": "9aca6165-a59d-437e-ba64-911f674ac202",
   "metadata": {},
   "outputs": [
    {
     "data": {
      "text/plain": [
       "4006064"
      ]
     },
     "execution_count": 269,
     "metadata": {},
     "output_type": "execute_result"
    }
   ],
   "source": [
    "int(gamma,2)*int(epsilon,2)"
   ]
  },
  {
   "cell_type": "markdown",
   "id": "77eaf4be-0699-4e84-8103-0868537ccfe4",
   "metadata": {},
   "source": [
    "### Part 2"
   ]
  },
  {
   "cell_type": "code",
   "execution_count": 270,
   "id": "f91209ae-36c9-466c-a79a-7fcb8b7edd73",
   "metadata": {},
   "outputs": [
    {
     "name": "stdout",
     "output_type": "stream",
     "text": [
      "[484 501 519 496 493 504 485 504 487 499 490 494]\n",
      "1000\n",
      "[0, 1, 1, 0, 0, 1, 0, 1, 0, 0, 0, 0]\n",
      "[  0 263 261 261 255 266 255 264 250 255 241 254]\n",
      "516\n",
      "[0, 1, 1, 1, 0, 1, 0, 1, 0, 0, 0, 0]\n",
      "[  0 263 137 128 130 132 131 137 121 129 126 126]\n",
      "263\n",
      "[0, 1, 1, 0, 0, 1, 0, 1, 0, 0, 0, 0]\n",
      "[  0 137 137  67  65  67  71  71  58  72  61  61]\n",
      "137\n",
      "[0, 1, 1, 0, 0, 0, 1, 1, 0, 1, 0, 0]\n",
      "[ 0 70 70  0 33 36 41 37 24 35 33 27]\n",
      "70\n",
      "[0, 1, 1, 0, 0, 1, 1, 1, 0, 1, 0, 0]\n",
      "[ 0 37 37  0  0 18 21 19 10 22 20 15]\n",
      "37\n",
      "[0, 1, 1, 0, 0, 0, 1, 1, 0, 1, 1, 0]\n",
      "[ 0 19 19  0  0  0 11 12  6 10 12  9]\n",
      "19\n",
      "[0, 1, 1, 0, 0, 0, 1, 1, 0, 1, 1, 0]\n",
      "[ 0 11 11  0  0  0 11  6  4  4  6  5]\n",
      "11\n",
      "[0, 1, 1, 0, 0, 0, 1, 1, 0, 0, 1, 0]\n",
      "[0 6 6 0 0 0 6 6 3 3 5 3]\n",
      "6\n",
      "[0, 1, 1, 0, 0, 0, 1, 1, 1, 1, 1, 1]\n",
      "[0 3 3 0 0 0 3 3 3 2 2 2]\n",
      "3\n",
      "[0, 1, 1, 0, 0, 0, 1, 1, 1, 1, 1, 1]\n",
      "[0 2 2 0 0 0 2 2 2 2 2 1]\n",
      "2\n",
      "[0, 1, 1, 0, 0, 0, 1, 1, 1, 1, 1, 1]\n",
      "[0 2 2 0 0 0 2 2 2 2 2 1]\n",
      "2\n",
      "[0, 1, 1, 0, 0, 0, 1, 1, 1, 1, 1, 1]\n"
     ]
    }
   ],
   "source": [
    "place = 0\n",
    "c = a\n",
    "while len(c) > 1:\n",
    "    f = np.sum(c, axis = 0)\n",
    "    gamma_array = (np.floor(f/((len(c))/2)))\n",
    "    gamma_array = [int(i) for i in gamma_array]\n",
    "    gamma_array = [1 if i == 2 else i for i in gamma_array]\n",
    "    if(len(c) > 1):\n",
    "        c = [i for i in c if i[place] == gamma_array[place]]\n",
    "    place += 1"
   ]
  },
  {
   "cell_type": "code",
   "execution_count": 271,
   "id": "bc76668c-3454-445e-bf7b-941681055c96",
   "metadata": {},
   "outputs": [],
   "source": [
    "place = 0\n",
    "d = a\n",
    "while len(d) > 1:\n",
    "    f = np.sum(d, axis = 0)\n",
    "    gamma_array = (np.floor(f/((len(d))/2)))\n",
    "    gamma_array = [int(i) for i in gamma_array]\n",
    "    epsilon_array = [(i+1)%2 for i in gamma_array]\n",
    "    d = [i for i in d if i[place] == epsilon_array[place]]\n",
    "    place += 1"
   ]
  },
  {
   "cell_type": "code",
   "execution_count": 272,
   "id": "b3c23b7a-8305-4316-9c38-5bec279ae98a",
   "metadata": {},
   "outputs": [
    {
     "data": {
      "text/plain": [
       "[array([1, 1, 1, 0, 1, 0, 0, 0, 0, 1, 0, 0])]"
      ]
     },
     "execution_count": 272,
     "metadata": {},
     "output_type": "execute_result"
    }
   ],
   "source": [
    "d"
   ]
  },
  {
   "cell_type": "code",
   "execution_count": 273,
   "id": "50d73726-9522-43c6-ad8c-49cbf58b0460",
   "metadata": {},
   "outputs": [
    {
     "data": {
      "text/plain": [
       "[array([0, 1, 1, 0, 0, 0, 1, 1, 1, 1, 1, 1])]"
      ]
     },
     "execution_count": 273,
     "metadata": {},
     "output_type": "execute_result"
    }
   ],
   "source": [
    "c"
   ]
  },
  {
   "cell_type": "code",
   "execution_count": 274,
   "id": "8cd66797-d54e-4426-8003-5c748e27111b",
   "metadata": {},
   "outputs": [
    {
     "name": "stdout",
     "output_type": "stream",
     "text": [
      "011000111111 111010000100\n"
     ]
    }
   ],
   "source": [
    "c = [int(i) for i in c[0]]\n",
    "d = [int(i) for i in d[0]]\n",
    "ox_str = [str(i) for i in c]\n",
    "co2_str = [str(i) for i in d]\n",
    "ox = ''.join(ox_str)\n",
    "co2 = ''.join(co2_str)\n",
    "print(ox,co2,int(ox,2)*int(co2,2))"
   ]
  },
  {
   "cell_type": "code",
   "execution_count": 275,
   "id": "92802142-8634-418c-aac8-a8715dcf5fbd",
   "metadata": {},
   "outputs": [
    {
     "name": "stdout",
     "output_type": "stream",
     "text": [
      "011000111111 111010000100 5941884\n"
     ]
    }
   ],
   "source": [
    "print(ox,co2,int(ox,2)*int(co2,2))"
   ]
  },
  {
   "cell_type": "code",
   "execution_count": null,
   "id": "38afb6e4-ac70-4a33-9361-08843b2882e4",
   "metadata": {},
   "outputs": [],
   "source": []
  }
 ],
 "metadata": {
  "kernelspec": {
   "display_name": "Python 3 (ipykernel)",
   "language": "python",
   "name": "python3"
  },
  "language_info": {
   "codemirror_mode": {
    "name": "ipython",
    "version": 3
   },
   "file_extension": ".py",
   "mimetype": "text/x-python",
   "name": "python",
   "nbconvert_exporter": "python",
   "pygments_lexer": "ipython3",
   "version": "3.8.11"
  }
 },
 "nbformat": 4,
 "nbformat_minor": 5
}
