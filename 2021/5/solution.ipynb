{
 "cells": [
  {
   "cell_type": "code",
   "execution_count": 97,
   "id": "a1baff6f-1f8e-44d7-bd05-70d1638c4035",
   "metadata": {},
   "outputs": [],
   "source": [
    "import numpy as np\n",
    "import re\n",
    "### Input file into lines\n",
    "with open('input.txt') as f:\n",
    "    input = f.read()\n",
    "\n",
    "lines = input.strip().split('\\n')"
   ]
  },
  {
   "cell_type": "code",
   "execution_count": 98,
   "id": "71376a1c-37e2-4bc9-b75c-93609b4f437b",
   "metadata": {},
   "outputs": [],
   "source": [
    "tmp = [re.findall(r'\\d+', i) for i in lines]\n",
    "start_x = [int(i[0]) for i in tmp]\n",
    "start_y = [int(i[1]) for i in tmp]\n",
    "end_x = [int(i[2]) for i in tmp]\n",
    "end_y = [int(i[3]) for i in tmp]"
   ]
  },
  {
   "cell_type": "code",
   "execution_count": 82,
   "id": "023b568a-af84-42e9-99af-006390ba747a",
   "metadata": {},
   "outputs": [],
   "source": [
    "grid = np.array([[0]*(max((max(end_x),max(end_y)))+4)]*(max(max(end_x),max(end_y))+4))"
   ]
  },
  {
   "cell_type": "code",
   "execution_count": 83,
   "id": "b812ca76-8cbf-452e-85f2-7ac9984344f6",
   "metadata": {},
   "outputs": [],
   "source": [
    "#is line horizontal or vertical\n",
    "for i in range(len(tmp)):\n",
    "    #vert\n",
    "    if start_x[i] == end_x[i]:\n",
    "        a = min(start_y[i],end_y[i])\n",
    "        b = max(start_y[i],end_y[i])\n",
    "        for j in range(a, b+1):\n",
    "            grid[j][start_x[i]] += 1\n",
    "    #horiz\n",
    "    if start_y[i] == end_y[i]:\n",
    "        a = min(start_x[i],end_x[i])\n",
    "        b = max(start_x[i],end_x[i])\n",
    "        for j in range(a, b+1):\n",
    "            grid[start_y[i]][j] += 1"
   ]
  },
  {
   "cell_type": "code",
   "execution_count": 84,
   "id": "647a9333-2758-42b7-b5b2-32a03e240908",
   "metadata": {},
   "outputs": [
    {
     "data": {
      "text/plain": [
       "6710"
      ]
     },
     "execution_count": 84,
     "metadata": {},
     "output_type": "execute_result"
    }
   ],
   "source": [
    "sum(np.sum(grid>1,axis = 0))"
   ]
  },
  {
   "cell_type": "markdown",
   "id": "b9d962c0-a62b-430f-8cbb-c39d9fd965c7",
   "metadata": {},
   "source": [
    "### Part 2"
   ]
  },
  {
   "cell_type": "code",
   "execution_count": 99,
   "id": "41e37eea-0381-4e15-9ab3-bce431f61b65",
   "metadata": {},
   "outputs": [],
   "source": [
    "grid = np.array([[0]*(max((max(end_x),max(end_y)))+4)]*(max(max(end_x),max(end_y))+4))"
   ]
  },
  {
   "cell_type": "code",
   "execution_count": 100,
   "id": "e257ef40-f1cd-45de-84d0-fe8525666fa2",
   "metadata": {},
   "outputs": [],
   "source": [
    "#is line horizontal or vertical or at 45 degrees\n",
    "for i in range(len(tmp)):\n",
    "    #vert\n",
    "    if start_x[i] == end_x[i]:\n",
    "        a = min(start_y[i],end_y[i])\n",
    "        b = max(start_y[i],end_y[i])\n",
    "        for j in range(a, b+1):\n",
    "            grid[j][start_x[i]] += 1\n",
    "    #horiz\n",
    "    if start_y[i] == end_y[i]:\n",
    "        a = min(start_x[i],end_x[i])\n",
    "        b = max(start_x[i],end_x[i])\n",
    "        for j in range(a, b+1):\n",
    "            grid[start_y[i]][j] += 1\n",
    "    #diag\n",
    "    if abs(start_y[i] - end_y[i]) == abs(start_x[i] - end_x[i]):\n",
    "        steps = abs(start_y[i] - end_y[i]) + 1\n",
    "        # a = min(start_x[i],end_x[i])\n",
    "        # b = max(start_x[i],end_x[i])\n",
    "        for j in range(steps):\n",
    "            if start_y[i] > end_y[i] and start_x[i] > end_x[i]:\n",
    "                grid[start_y[i]- j][start_x[i] - j] += 1\n",
    "            if start_y[i] < end_y[i] and start_x[i] > end_x[i]:\n",
    "                grid[start_y[i] + j][start_x[i] - j] += 1\n",
    "            if start_y[i] < end_y[i] and start_x[i] < end_x[i]:\n",
    "                grid[start_y[i] + j][start_x[i] + j] += 1\n",
    "            if start_y[i] > end_y[i] and start_x[i] < end_x[i]:\n",
    "                grid[start_y[i] - j][start_x[i] + j] += 1"
   ]
  },
  {
   "cell_type": "code",
   "execution_count": 101,
   "id": "1c99708b-bec0-42ce-940f-01d33dd7d432",
   "metadata": {},
   "outputs": [
    {
     "data": {
      "text/plain": [
       "array([[0, 0, 0, ..., 0, 0, 0],\n",
       "       [0, 0, 0, ..., 0, 0, 0],\n",
       "       [0, 0, 0, ..., 0, 0, 0],\n",
       "       ...,\n",
       "       [0, 0, 0, ..., 0, 0, 0],\n",
       "       [0, 0, 0, ..., 0, 0, 0],\n",
       "       [0, 0, 0, ..., 0, 0, 0]])"
      ]
     },
     "execution_count": 101,
     "metadata": {},
     "output_type": "execute_result"
    }
   ],
   "source": [
    "grid"
   ]
  },
  {
   "cell_type": "code",
   "execution_count": 102,
   "id": "7b1d1ff4-371b-40f8-baf6-55b909b2fd7d",
   "metadata": {},
   "outputs": [
    {
     "data": {
      "text/plain": [
       "20121"
      ]
     },
     "execution_count": 102,
     "metadata": {},
     "output_type": "execute_result"
    }
   ],
   "source": [
    "sum(np.sum(grid>1,axis = 0))"
   ]
  },
  {
   "cell_type": "code",
   "execution_count": null,
   "id": "7aa53f81-55e9-4cfe-8237-18453fd7604e",
   "metadata": {},
   "outputs": [],
   "source": []
  }
 ],
 "metadata": {
  "kernelspec": {
   "display_name": "Python 3 (ipykernel)",
   "language": "python",
   "name": "python3"
  },
  "language_info": {
   "codemirror_mode": {
    "name": "ipython",
    "version": 3
   },
   "file_extension": ".py",
   "mimetype": "text/x-python",
   "name": "python",
   "nbconvert_exporter": "python",
   "pygments_lexer": "ipython3",
   "version": "3.8.11"
  }
 },
 "nbformat": 4,
 "nbformat_minor": 5
}
