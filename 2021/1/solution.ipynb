{
 "cells": [
  {
   "cell_type": "markdown",
   "id": "818bb1da-9652-43b4-af50-e8fea1a3f435",
   "metadata": {},
   "source": [
    "### Day 1"
   ]
  },
  {
   "cell_type": "code",
   "execution_count": 6,
   "id": "c4f6c5a3-8528-488b-942b-3cda18a815e4",
   "metadata": {},
   "outputs": [],
   "source": [
    "### Input file into lines\n",
    "with open('input.txt') as f:\n",
    "    input = f.read()\n",
    "\n",
    "lines = input.strip().split('\\n')"
   ]
  },
  {
   "cell_type": "code",
   "execution_count": 7,
   "id": "1d8233a4-b456-4641-9261-9f494911f34d",
   "metadata": {},
   "outputs": [],
   "source": [
    "depths = [int(i) for i in lines]"
   ]
  },
  {
   "cell_type": "code",
   "execution_count": 9,
   "id": "34ab65de-7305-4b1a-ada6-1fb5a531887f",
   "metadata": {},
   "outputs": [
    {
     "name": "stdout",
     "output_type": "stream",
     "text": [
      "1167\n"
     ]
    }
   ],
   "source": [
    "counter = 0\n",
    "i = 0\n",
    "while i < len(depths) - 1:\n",
    "    if depths[i] < depths[i+1]:\n",
    "        counter += 1\n",
    "    i += 1\n",
    "print(counter)"
   ]
  },
  {
   "cell_type": "code",
   "execution_count": 4,
   "id": "e9930c91-3607-4916-ab05-fd83d6d46276",
   "metadata": {},
   "outputs": [
    {
     "name": "stdout",
     "output_type": "stream",
     "text": [
      "1130\n"
     ]
    }
   ],
   "source": [
    "counter = 0\n",
    "i = 0\n",
    "while i < len(depths) - 3:\n",
    "    if sum(depths[i:i+3]) < sum(depths[i+1:i+4]):\n",
    "        counter += 1\n",
    "    i += 1\n",
    "print(counter)"
   ]
  },
  {
   "cell_type": "code",
   "execution_count": 12,
   "id": "dc75f524-84bf-4c64-a3c2-abf614f33b84",
   "metadata": {},
   "outputs": [],
   "source": [
    "lst = depths\n",
    "import numpy as np\n",
    "b = 0\n",
    "for i in np.arange(len(lst)):\n",
    "    b += int(sum(lst[i+1:i+4])>sum(lst[i:i+3]))"
   ]
  },
  {
   "cell_type": "code",
   "execution_count": null,
   "id": "362c63e0-1e94-47b9-a1de-57ab13b76f55",
   "metadata": {},
   "outputs": [],
   "source": []
  }
 ],
 "metadata": {
  "kernelspec": {
   "display_name": "Python 3 (ipykernel)",
   "language": "python",
   "name": "python3"
  },
  "language_info": {
   "codemirror_mode": {
    "name": "ipython",
    "version": 3
   },
   "file_extension": ".py",
   "mimetype": "text/x-python",
   "name": "python",
   "nbconvert_exporter": "python",
   "pygments_lexer": "ipython3",
   "version": "3.8.11"
  }
 },
 "nbformat": 4,
 "nbformat_minor": 5
}
