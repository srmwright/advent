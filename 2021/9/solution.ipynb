{
 "cells": [
  {
   "cell_type": "code",
   "execution_count": 115,
   "id": "f1dc8d49-a205-4384-8619-014a315d9cae",
   "metadata": {},
   "outputs": [],
   "source": [
    "import numpy as np\n",
    "with open('tom_input.txt') as f:\n",
    "    input = f.read()\n",
    "\n",
    "init = input.split('\\n')\n",
    "init = [str(i) for i in init]\n",
    "init = [list(map(int, i)) for i in init]"
   ]
  },
  {
   "cell_type": "code",
   "execution_count": 116,
   "id": "96f23a27-a5d7-4c76-8ea0-032b05dd82e8",
   "metadata": {},
   "outputs": [
    {
     "name": "stdout",
     "output_type": "stream",
     "text": [
      "100 100\n"
     ]
    }
   ],
   "source": [
    "print(len(init),len(init[0]))"
   ]
  },
  {
   "cell_type": "code",
   "execution_count": 117,
   "id": "659ea7bb-5cee-417f-84aa-8480e463b022",
   "metadata": {},
   "outputs": [
    {
     "name": "stdout",
     "output_type": "stream",
     "text": [
      "491\n"
     ]
    }
   ],
   "source": [
    "risk = 0\n",
    "counter = 0\n",
    "for i in range(len(init)):\n",
    "    for j in range(len(init[0])):\n",
    "        cell = init[i][j]\n",
    "        if i < len(init) - 1 and i > 0:\n",
    "            if j == 0:\n",
    "                if cell < init[i-1][j] and cell < init[i+1][j] and cell < init[i][j+1]:\n",
    "                    risk += cell\n",
    "                    counter += 1\n",
    "            if j == len(init[0]) - 1:\n",
    "                if cell < init[i-1][j] and cell < init[i+1][j] and cell < init[i][j-1]:\n",
    "                    risk += cell\n",
    "                    counter += 1\n",
    "            if j > 0 and j < len(init[0]) - 1:\n",
    "                if cell < init[i-1][j] and cell < init[i+1][j] and cell < init[i][j+1] and cell < init[i][j-1]:\n",
    "                    risk += cell\n",
    "                    counter += 1\n",
    "        if i == 0:\n",
    "            if j == 0:\n",
    "                if cell < init[i+1][j] and cell < init[i][j+1]:\n",
    "                    risk += cell\n",
    "                    counter += 1\n",
    "            if j == len(init[0]) - 1:\n",
    "                if cell < init[i+1][j] and cell < init[i][j-1]:\n",
    "                    risk += cell\n",
    "                    counter += 1\n",
    "            if j > 0 and j < len(init[0]) - 1:\n",
    "                if cell < init[i+1][j] and cell < init[i][j+1] and cell < init[i][j-1]:\n",
    "                    risk += cell\n",
    "                    counter += 1\n",
    "        if i == len(init) - 1:\n",
    "            if j == 0:\n",
    "                if cell < init[i-1][j] and cell < init[i][j+1]:\n",
    "                    risk += cell\n",
    "                    counter += 1\n",
    "            if j == len(init[0]) - 1:\n",
    "                if cell < init[i-1][j] and cell < init[i][j-1]:\n",
    "                    risk += cell\n",
    "                    counter += 1\n",
    "            if j > 0 and j < len(init[0]) - 1:\n",
    "                if cell < init[i-1][j] and cell < init[i][j+1] and cell < init[i][j-1]:\n",
    "                    risk += cell\n",
    "                    counter += 1\n",
    "                \n",
    "print(risk+counter)"
   ]
  },
  {
   "cell_type": "code",
   "execution_count": 118,
   "id": "763ecec2-3dde-4b42-a8fb-23a05535a745",
   "metadata": {},
   "outputs": [],
   "source": [
    "a = [0]\n",
    "b = []"
   ]
  },
  {
   "cell_type": "code",
   "execution_count": 119,
   "id": "dbfee74b-ec7f-478d-a210-e09021e8786b",
   "metadata": {},
   "outputs": [
    {
     "data": {
      "text/plain": [
       "True"
      ]
     },
     "execution_count": 119,
     "metadata": {},
     "output_type": "execute_result"
    }
   ],
   "source": [
    "a > b"
   ]
  },
  {
   "cell_type": "markdown",
   "id": "9f0dadd0-3ed2-4e39-8f71-ced9d968c4ed",
   "metadata": {},
   "source": [
    "### Part 2"
   ]
  },
  {
   "cell_type": "markdown",
   "id": "7238c144-a8f5-4ded-b1d1-87c03453ca72",
   "metadata": {},
   "source": [
    "My code isn't ready for this: pseudocode...\n",
    "\n",
    "- Start with the low points above\n",
    "- For each, in each direction, while i < \"current height\" then increment else stop (also while i, j < respective length)\n",
    "- Then run recursive with this point being the start of a new basin\n",
    "- Label each point in basin as 1"
   ]
  },
  {
   "cell_type": "code",
   "execution_count": 120,
   "id": "1b6f3602-ec54-4f78-a13c-6e68e03aadf7",
   "metadata": {},
   "outputs": [],
   "source": [
    "def basin_size(init,i,j,depth,basin_grid):\n",
    "    basin_grid[i][j] = 1\n",
    "    #go left\n",
    "    inc = 0\n",
    "    current_depth = depth\n",
    "    keep_going = 0\n",
    "    while j - inc > 0 and keep_going == 0 and current_depth < 9:\n",
    "        inc += 1\n",
    "        if init[i][j-inc] > current_depth and init[i][j-inc] < 9:\n",
    "            current_depth = init[i][j-inc]\n",
    "            basin_grid[i][j-inc] = 1\n",
    "            basin_grid = basin_size(init,i,j-inc,current_depth,basin_grid)\n",
    "        else:\n",
    "            keep_going = 1\n",
    "    #go right\n",
    "    inc = 0\n",
    "    current_depth = depth\n",
    "    keep_going = 0\n",
    "    while j + inc < len(init[0]) - 1 and keep_going == 0 and current_depth < 9:\n",
    "        inc += 1\n",
    "        if init[i][j+inc] > current_depth and init[i][j+inc] < 9:\n",
    "            current_depth = init[i][j+inc]\n",
    "            basin_grid[i][j+inc] = 1\n",
    "            basin_grid = basin_size(init,i,j+inc,current_depth,basin_grid)\n",
    "        else:\n",
    "            keep_going = 1\n",
    "    #go up\n",
    "    inc = 0\n",
    "    current_depth = depth\n",
    "    keep_going = 0\n",
    "    while i + inc < len(init) - 1 and keep_going == 0 and current_depth < 9:\n",
    "        inc += 1\n",
    "        if init[i+inc][j] > current_depth and init[i+inc][j] < 9:\n",
    "            current_depth = init[i+inc][j]\n",
    "            basin_grid[i+inc][j] = 1\n",
    "            basin_grid = basin_size(init,i+inc,j,current_depth,basin_grid)\n",
    "        else:\n",
    "            keep_going = 1\n",
    "    #go down\n",
    "    inc = 0\n",
    "    current_depth = depth\n",
    "    keep_going = 0\n",
    "    while i - inc > 0 and keep_going == 0 and current_depth < 9:\n",
    "        inc += 1\n",
    "        if init[i-inc][j] > current_depth and init[i-inc][j] < 9:\n",
    "            current_depth = init[i-inc][j]\n",
    "            basin_grid[i-inc][j] = 1\n",
    "            basin_grid = basin_size(init,i-inc,j,current_depth,basin_grid)\n",
    "        else:\n",
    "            keep_going = 1\n",
    "    return(basin_grid)"
   ]
  },
  {
   "cell_type": "code",
   "execution_count": 121,
   "id": "f69c9e28-dc56-47a3-9e2b-bd695f0dab15",
   "metadata": {},
   "outputs": [
    {
     "data": {
      "text/plain": [
       "8"
      ]
     },
     "execution_count": 121,
     "metadata": {},
     "output_type": "execute_result"
    }
   ],
   "source": [
    "sum(sum(basin_size(init,2,2,5,np.array([[0]*len(init[0])]*len(init)))))"
   ]
  },
  {
   "cell_type": "code",
   "execution_count": 122,
   "id": "0dc47869-e3cd-49b7-be3e-9fff0755a203",
   "metadata": {},
   "outputs": [
    {
     "name": "stdout",
     "output_type": "stream",
     "text": [
      "[21, 30, 20, 36, 11, 42, 4, 37, 48, 9, 88, 46, 10, 2, 32, 56, 52, 51, 16, 2, 21, 34, 52, 75, 27, 3, 19, 4, 2, 11, 54, 3, 6, 73, 12, 21, 4, 29, 32, 32, 30, 33, 54, 36, 11, 17, 12, 14, 54, 46, 18, 41, 26, 22, 69, 68, 46, 35, 76, 30, 44, 34, 54, 10, 41, 20, 39, 53, 17, 5, 3, 56, 21, 34, 12, 10, 10, 31, 30, 61, 112, 26, 27, 97, 36, 3, 33, 12, 10, 25, 48, 8, 27, 32, 4, 66, 93, 20, 5, 3, 6, 59, 89, 51, 37, 45, 40, 17, 34, 31, 89, 25, 44, 11, 63, 34, 15, 6, 17, 80, 37, 63, 44, 66, 4, 4, 3, 73, 11, 35, 11, 2, 20, 22, 24, 65, 5, 43, 52, 17, 50, 7, 15, 61, 50, 79, 73, 30, 31, 24, 20, 79, 66, 50, 6, 3, 9, 8, 34, 10, 46, 25, 22, 41, 45, 17, 23, 55, 60, 62, 64, 12, 6, 12, 4, 35, 20, 38, 66, 11, 57, 2, 37, 87, 15, 17, 48, 24, 37, 7, 79, 23, 29, 31, 3, 29, 6, 25, 8, 62, 58, 2, 5, 20, 5, 55, 83, 99, 6, 43, 38, 23, 37, 82, 12, 32, 3, 32, 3, 2, 4, 29, 2, 47, 6]\n"
     ]
    }
   ],
   "source": [
    "basin_sizes = []\n",
    "for i in range(len(init)):\n",
    "    for j in range(len(init[0])):\n",
    "        cell = init[i][j]\n",
    "        if i < len(init) - 1 and i > 0:\n",
    "            if j == 0:\n",
    "                if cell < init[i-1][j] and cell < init[i+1][j] and cell < init[i][j+1]:\n",
    "                    basin_sizes.append(sum(sum(basin_size(init,i,j,cell,np.array([[0]*len(init[0])]*len(init))))))\n",
    "            if j == len(init[0]) - 1:\n",
    "                if cell < init[i-1][j] and cell < init[i+1][j] and cell < init[i][j-1]:\n",
    "                    basin_sizes.append(sum(sum(basin_size(init,i,j,cell,np.array([[0]*len(init[0])]*len(init))))))\n",
    "            if j > 0 and j < len(init[0]) - 1:\n",
    "                if cell < init[i-1][j] and cell < init[i+1][j] and cell < init[i][j+1] and cell < init[i][j-1]:\n",
    "                    basin_sizes.append(sum(sum(basin_size(init,i,j,cell,np.array([[0]*len(init[0])]*len(init))))))\n",
    "        if i == 0:\n",
    "            if j == 0:\n",
    "                if cell < init[i+1][j] and cell < init[i][j+1]:\n",
    "                    basin_sizes.append(sum(sum(basin_size(init,i,j,cell,np.array([[0]*len(init[0])]*len(init))))))\n",
    "            if j == len(init[0]) - 1:\n",
    "                if cell < init[i+1][j] and cell < init[i][j-1]:\n",
    "                    basin_sizes.append(sum(sum(basin_size(init,i,j,cell,np.array([[0]*len(init[0])]*len(init))))))\n",
    "            if j > 0 and j < len(init[0]) - 1:\n",
    "                if cell < init[i+1][j] and cell < init[i][j+1] and cell < init[i][j-1]:\n",
    "                    basin_sizes.append(sum(sum(basin_size(init,i,j,cell,np.array([[0]*len(init[0])]*len(init))))))\n",
    "        if i == len(init) - 1:\n",
    "            if j == 0:\n",
    "                if cell < init[i-1][j] and cell < init[i][j+1]:\n",
    "                    basin_sizes.append(sum(sum(basin_size(init,i,j,cell,np.array([[0]*len(init[0])]*len(init))))))\n",
    "            if j == len(init[0]) - 1:\n",
    "                if cell < init[i-1][j] and cell < init[i][j-1]:\n",
    "                    basin_sizes.append(sum(sum(basin_size(init,i,j,cell,np.array([[0]*len(init[0])]*len(init))))))\n",
    "            if j > 0 and j < len(init[0]) - 1:\n",
    "                if cell < init[i-1][j] and cell < init[i][j+1] and cell < init[i][j-1]:\n",
    "                    basin_sizes.append(sum(sum(basin_size(init,i,j,cell,np.array([[0]*len(init[0])]*len(init))))))\n",
    "                \n",
    "print(basin_sizes)"
   ]
  },
  {
   "cell_type": "code",
   "execution_count": 123,
   "id": "2441f434-4718-4e57-a3c0-ef5f1b06a71c",
   "metadata": {},
   "outputs": [],
   "source": [
    "basins = sorted(basin_sizes, reverse = True)"
   ]
  },
  {
   "cell_type": "code",
   "execution_count": 124,
   "id": "11560c0e-33a0-4505-bd81-c8fc1a635ed8",
   "metadata": {},
   "outputs": [
    {
     "data": {
      "text/plain": [
       "1075536"
      ]
     },
     "execution_count": 124,
     "metadata": {},
     "output_type": "execute_result"
    }
   ],
   "source": [
    "basins[0]*basins[1]*basins[2]"
   ]
  },
  {
   "cell_type": "code",
   "execution_count": 125,
   "id": "50210b8a-0fe5-406d-b322-10a107ac40d3",
   "metadata": {},
   "outputs": [
    {
     "name": "stdout",
     "output_type": "stream",
     "text": [
      "225\n"
     ]
    }
   ],
   "source": [
    "print(len(basins))"
   ]
  },
  {
   "cell_type": "code",
   "execution_count": 126,
   "id": "567ef7f2-8f2f-4b1b-a144-63418822af1e",
   "metadata": {},
   "outputs": [
    {
     "name": "stdout",
     "output_type": "stream",
     "text": [
      "[112, 99, 97]\n"
     ]
    }
   ],
   "source": [
    "print(basins[0:3])"
   ]
  },
  {
   "cell_type": "code",
   "execution_count": null,
   "id": "919212c1-b0f1-47b4-bcd1-d1ec530adb21",
   "metadata": {},
   "outputs": [],
   "source": []
  }
 ],
 "metadata": {
  "kernelspec": {
   "display_name": "Python 3 (ipykernel)",
   "language": "python",
   "name": "python3"
  },
  "language_info": {
   "codemirror_mode": {
    "name": "ipython",
    "version": 3
   },
   "file_extension": ".py",
   "mimetype": "text/x-python",
   "name": "python",
   "nbconvert_exporter": "python",
   "pygments_lexer": "ipython3",
   "version": "3.8.11"
  }
 },
 "nbformat": 4,
 "nbformat_minor": 5
}
