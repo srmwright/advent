{
 "cells": [
  {
   "cell_type": "code",
   "execution_count": 10,
   "id": "7a1c5922-f0fd-401f-ad7a-42632ad6d897",
   "metadata": {},
   "outputs": [],
   "source": [
    "### Input file into lines\n",
    "with open('input.txt') as f:\n",
    "    input = f.read()\n",
    "\n",
    "lines = input.strip().split('\\n')"
   ]
  },
  {
   "cell_type": "code",
   "execution_count": 7,
   "id": "066edef4-7490-4b53-805d-77e1fd63f8f8",
   "metadata": {},
   "outputs": [
    {
     "name": "stdout",
     "output_type": "stream",
     "text": [
      "2162 1051 2272262\n"
     ]
    }
   ],
   "source": [
    "x,y = 0,0\n",
    "for i in lines:\n",
    "    command = i.split(' ')\n",
    "    if command[0] == 'forward':\n",
    "        x += int(command[1])\n",
    "    if command[0] == 'down':\n",
    "        y += int(command[1])\n",
    "    if command[0] == 'up':\n",
    "        y -= int(command[1])\n",
    "print(x,y,x*y)"
   ]
  },
  {
   "cell_type": "code",
   "execution_count": 11,
   "id": "e8300f3d-2727-4712-bd2b-45ad4c24ad56",
   "metadata": {},
   "outputs": [
    {
     "name": "stdout",
     "output_type": "stream",
     "text": [
      "2162 987457 2134882034\n"
     ]
    }
   ],
   "source": [
    "x,y,aim = 0,0,0\n",
    "for i in lines:\n",
    "    command = i.split(' ')\n",
    "    if command[0] == 'forward':\n",
    "        x += int(command[1])\n",
    "        y += int(command[1])*aim\n",
    "    if command[0] == 'down':\n",
    "        aim += int(command[1])\n",
    "    if command[0] == 'up':\n",
    "        aim -= int(command[1])\n",
    "print(x,y,x*y)"
   ]
  },
  {
   "cell_type": "code",
   "execution_count": null,
   "id": "cc4841a6-453d-4571-97b4-cf6c52247b39",
   "metadata": {},
   "outputs": [],
   "source": []
  }
 ],
 "metadata": {
  "kernelspec": {
   "display_name": "Python 3 (ipykernel)",
   "language": "python",
   "name": "python3"
  },
  "language_info": {
   "codemirror_mode": {
    "name": "ipython",
    "version": 3
   },
   "file_extension": ".py",
   "mimetype": "text/x-python",
   "name": "python",
   "nbconvert_exporter": "python",
   "pygments_lexer": "ipython3",
   "version": "3.8.11"
  }
 },
 "nbformat": 4,
 "nbformat_minor": 5
}
