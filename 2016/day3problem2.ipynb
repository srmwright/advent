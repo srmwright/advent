# which triangles are impossible?
# now when reading by column

import numpy as np

# a better way of doing what I wanted last time...
with open('input3.txt') as f:
    #w, h = [int(x) for x in next(f).split()]
    array = [[int(x) for x in line.split()] for line in f]

mat = np.matrix(array)

# with open('input3.txt') as f:
#     lines = f.readlines()

# def isProper(sides):
# 	sides = sorted(sides)
# 	if(sides[0]+sides[1] > sides[2]):
# 		return(1)
# 	else:
# 		return(0)

# counter = 0

# for i in range(0,len(lines)):
# 	lines[i] = map(str.strip, filter(None, lines[i].split("  ")))
# 	lines[i] = [int(k) for k in lines[i]]
# 	counter += isProper(lines[i])

# print(len(lines))
# print(counter)
