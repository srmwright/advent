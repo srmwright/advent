{
 "cells": [
  {
   "cell_type": "markdown",
   "metadata": {},
   "source": [
    "## Advent of Code Day 4"
   ]
  },
  {
   "cell_type": "markdown",
   "metadata": {},
   "source": [
    "### Part 1"
   ]
  },
  {
   "cell_type": "markdown",
   "metadata": {},
   "source": [
    "Lots of i/o stuff?"
   ]
  },
  {
   "cell_type": "code",
   "execution_count": 18,
   "metadata": {},
   "outputs": [],
   "source": [
    "import re"
   ]
  },
  {
   "cell_type": "code",
   "execution_count": 174,
   "metadata": {},
   "outputs": [],
   "source": [
    "### Input file into lines\n",
    "with open('input.txt') as f:\n",
    "    input = f.read()\n",
    "\n",
    "lines = input.strip().split('\\n')"
   ]
  },
  {
   "cell_type": "code",
   "execution_count": 175,
   "metadata": {},
   "outputs": [],
   "source": [
    "lines2 = ['']"
   ]
  },
  {
   "cell_type": "code",
   "execution_count": 176,
   "metadata": {},
   "outputs": [],
   "source": [
    "j = 0\n",
    "for i in lines:\n",
    "    lines2[j] = lines2[j] + i + ' '\n",
    "    if i == '':\n",
    "        lines2.append('')\n",
    "        j += 1"
   ]
  },
  {
   "cell_type": "code",
   "execution_count": 177,
   "metadata": {},
   "outputs": [],
   "source": [
    "nec_fields = [\"ecl:\",\"pid:\",\"eyr:\",\"hcl:\",\"byr:\",\"iyr:\",\"hgt:\"]"
   ]
  },
  {
   "cell_type": "code",
   "execution_count": 178,
   "metadata": {},
   "outputs": [
    {
     "name": "stdout",
     "output_type": "stream",
     "text": [
      "170\n"
     ]
    }
   ],
   "source": [
    "valid = 0\n",
    "for i in lines2:\n",
    "    fields = re.findall(\"[a-z]+:\",i)\n",
    "    check = all(item in fields for item in nec_fields)\n",
    "    if check:\n",
    "        valid += 1\n",
    "print(valid)"
   ]
  },
  {
   "cell_type": "markdown",
   "metadata": {},
   "source": [
    "### Part 2"
   ]
  },
  {
   "cell_type": "markdown",
   "metadata": {},
   "source": [
    "So much hard coding :("
   ]
  },
  {
   "cell_type": "code",
   "execution_count": 179,
   "metadata": {},
   "outputs": [],
   "source": [
    "def check_eyr(eyr):\n",
    "    return(eyr >= 2020 and eyr <= 2030)\n",
    "\n",
    "def check_byr(byr):\n",
    "    return(byr >= 1920 and byr <= 2002)\n",
    "\n",
    "def check_iyr(iyr):\n",
    "    return(iyr >= 2010 and iyr <= 2020)\n",
    "\n",
    "def check_hcl(hcl):\n",
    "    match = re.fullmatch(\"#[0-9a-f]{6}\",hcl)\n",
    "    return(match != None)\n",
    "\n",
    "def check_ecl(ecl):\n",
    "    ecls = ['amb', 'blu', 'brn', 'gry', 'grn', 'hzl', 'oth']\n",
    "    return(any(x == ecl for x in ecls))\n",
    "\n",
    "def check_pid(pid):\n",
    "    match = re.fullmatch(\"[0-9]{9}\",pid)\n",
    "    return(match != None)\n",
    "\n",
    "def check_hgt(hgt):\n",
    "    valid = False\n",
    "    dim = int(re.findall(\"[0-9]+\",hgt)[0]) if len(re.findall(\"[a-z]+\",hgt)) > 0 else 0\n",
    "    unit = re.findall(\"[a-z]+\",hgt)[0] if len(re.findall(\"[a-z]+\",hgt)) > 0 else ''\n",
    "    if(unit == 'in'):\n",
    "        if(dim >= 59 and dim <= 76):\n",
    "            valid = True\n",
    "    if(unit == 'cm'):\n",
    "        if(dim >= 150 and dim <= 193):\n",
    "            valid = True\n",
    "    return(valid)"
   ]
  },
  {
   "cell_type": "code",
   "execution_count": 180,
   "metadata": {},
   "outputs": [
    {
     "data": {
      "text/plain": [
       "'ecl:amb pid:690616023 byr:1994 iyr:2014 hgt:172cm hcl:#c0946f eyr:2022  '"
      ]
     },
     "execution_count": 180,
     "metadata": {},
     "output_type": "execute_result"
    }
   ],
   "source": [
    "lines2[0]"
   ]
  },
  {
   "cell_type": "code",
   "execution_count": 195,
   "metadata": {},
   "outputs": [
    {
     "name": "stdout",
     "output_type": "stream",
     "text": [
      "103\n"
     ]
    }
   ],
   "source": [
    "valid = 0\n",
    "n = 0\n",
    "for i in lines2:\n",
    "    fields = re.findall(\"[a-z]+:\",i)\n",
    "    hgt = re.findall(\"hgt:([0-9a-z]{4,5}) \",i)\n",
    "    pid = re.findall(\"pid:([0-9]{9}) \",i)\n",
    "    ecl = re.findall(\"ecl:([a-z]{3}) \",i)\n",
    "    hcl = re.findall(\"hcl:(#[0-9a-f]{6}) \",i)\n",
    "    iyr = re.findall(\"iyr:([0-9]{4}) \",i)\n",
    "    byr = re.findall(\"byr:([0-9]{4}) \",i)\n",
    "    eyr = re.findall(\"eyr:([0-9]{4}) \",i)\n",
    "    hgt_c = False\n",
    "    if len(hgt) > 0:\n",
    "        hgt_c = check_hgt(hgt[0])\n",
    "        \n",
    "    pid_c = False\n",
    "    if len(pid) > 0:\n",
    "        pid_c = check_pid(pid[0])\n",
    "\n",
    "    ecl_c = False\n",
    "    if len(ecl) > 0:\n",
    "        ecl_c = check_ecl(ecl[0])\n",
    "\n",
    "    hcl_c = False\n",
    "    if len(hcl) > 0:\n",
    "        hcl_c = check_hcl(hcl[0])\n",
    "        \n",
    "    iyr_c = False\n",
    "    if len(iyr) > 0:\n",
    "        iyr_c = check_iyr(int(iyr[0]))\n",
    "        \n",
    "    byr_c = False\n",
    "    if len(byr) > 0:\n",
    "        byr_c = check_byr(int(byr[0]))\n",
    "        \n",
    "    eyr_c = False\n",
    "    if len(eyr) > 0:\n",
    "        eyr_c = check_eyr(int(eyr[0]))\n",
    "        \n",
    "    # write code for pulling the variables\n",
    "    check = []\n",
    "    check.append(all(item in fields for item in nec_fields))\n",
    "    check.append(hgt_c)\n",
    "    check.append(pid_c)\n",
    "    check.append(ecl_c)\n",
    "    check.append(hcl_c)\n",
    "    check.append(iyr_c)\n",
    "    check.append(byr_c)\n",
    "    check.append(eyr_c)\n",
    "    n += 1\n",
    "    if all(x == True for x in check):\n",
    "        valid += 1\n",
    "        #print(i)\n",
    "#         print(hgt,pid,ecl,hcl,iyr,byr,eyr)\n",
    "#         print(check, valid, n)\n",
    "print(valid)"
   ]
  },
  {
   "cell_type": "code",
   "execution_count": 188,
   "metadata": {},
   "outputs": [
    {
     "data": {
      "text/plain": [
       "253"
      ]
     },
     "execution_count": 188,
     "metadata": {},
     "output_type": "execute_result"
    }
   ],
   "source": [
    "len(lines2)"
   ]
  },
  {
   "cell_type": "code",
   "execution_count": null,
   "metadata": {},
   "outputs": [],
   "source": []
  }
 ],
 "metadata": {
  "kernelspec": {
   "display_name": "Python 3",
   "language": "python",
   "name": "python3"
  },
  "language_info": {
   "codemirror_mode": {
    "name": "ipython",
    "version": 3
   },
   "file_extension": ".py",
   "mimetype": "text/x-python",
   "name": "python",
   "nbconvert_exporter": "python",
   "pygments_lexer": "ipython3",
   "version": "3.7.6"
  }
 },
 "nbformat": 4,
 "nbformat_minor": 4
}
