{
 "cells": [
  {
   "cell_type": "markdown",
   "metadata": {},
   "source": [
    "## Advent of code day 9"
   ]
  },
  {
   "cell_type": "markdown",
   "metadata": {},
   "source": [
    "### Part 1"
   ]
  },
  {
   "cell_type": "code",
   "execution_count": 7,
   "metadata": {},
   "outputs": [],
   "source": [
    "import itertools"
   ]
  },
  {
   "cell_type": "code",
   "execution_count": 46,
   "metadata": {},
   "outputs": [],
   "source": [
    "### Input file into lines\n",
    "with open('input.txt') as f:\n",
    "    input = f.read()\n",
    "\n",
    "lines = input.strip().split('\\n')"
   ]
  },
  {
   "cell_type": "code",
   "execution_count": 47,
   "metadata": {},
   "outputs": [],
   "source": [
    "preamble_length = 25"
   ]
  },
  {
   "cell_type": "code",
   "execution_count": 48,
   "metadata": {},
   "outputs": [
    {
     "name": "stdout",
     "output_type": "stream",
     "text": [
      "556543474\n"
     ]
    }
   ],
   "source": [
    "wrong_number = 0\n",
    "for i in range(preamble_length,len(lines)):\n",
    "    preamble = lines[i-preamble_length:i]\n",
    "    a = 0\n",
    "    for j,k in itertools.product(preamble,preamble):\n",
    "        if j != k:\n",
    "            if int(j) + int(k) == int(lines[i]):\n",
    "                a += 1\n",
    "    if a == 0:\n",
    "        wrong_number = int(lines[i])\n",
    "print(wrong_number)"
   ]
  },
  {
   "cell_type": "markdown",
   "metadata": {},
   "source": [
    "### Part 2"
   ]
  },
  {
   "cell_type": "code",
   "execution_count": 53,
   "metadata": {},
   "outputs": [
    {
     "name": "stdout",
     "output_type": "stream",
     "text": [
      "76096372\n"
     ]
    }
   ],
   "source": [
    "a = 0\n",
    "for i in range(0,len(lines)-1):\n",
    "    j = i+1\n",
    "    while j > i and j < len(lines):\n",
    "        array = [int(k) for k in lines[i:j]]\n",
    "        j += 1\n",
    "        #print(array)\n",
    "        if sum(array) == wrong_number:\n",
    "            print(max(array)+min(array))\n",
    "            a +=1\n",
    "        if sum(array) > wrong_number:\n",
    "            j == len(lines)\n",
    "    if a == 1:\n",
    "        break"
   ]
  },
  {
   "cell_type": "code",
   "execution_count": 37,
   "metadata": {},
   "outputs": [
    {
     "data": {
      "text/plain": [
       "[0, 1, 2]"
      ]
     },
     "execution_count": 37,
     "metadata": {},
     "output_type": "execute_result"
    }
   ],
   "source": []
  },
  {
   "cell_type": "code",
   "execution_count": null,
   "metadata": {},
   "outputs": [],
   "source": []
  }
 ],
 "metadata": {
  "kernelspec": {
   "display_name": "Python 3",
   "language": "python",
   "name": "python3"
  },
  "language_info": {
   "codemirror_mode": {
    "name": "ipython",
    "version": 3
   },
   "file_extension": ".py",
   "mimetype": "text/x-python",
   "name": "python",
   "nbconvert_exporter": "python",
   "pygments_lexer": "ipython3",
   "version": "3.7.6"
  }
 },
 "nbformat": 4,
 "nbformat_minor": 4
}
