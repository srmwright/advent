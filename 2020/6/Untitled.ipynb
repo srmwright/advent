{
 "cells": [
  {
   "cell_type": "markdown",
   "metadata": {},
   "source": [
    "## Advent of code day 6"
   ]
  },
  {
   "cell_type": "markdown",
   "metadata": {},
   "source": [
    "### Part 1"
   ]
  },
  {
   "cell_type": "code",
   "execution_count": 16,
   "metadata": {},
   "outputs": [],
   "source": [
    "import collections"
   ]
  },
  {
   "cell_type": "code",
   "execution_count": 44,
   "metadata": {},
   "outputs": [],
   "source": [
    "### Input file into lines\n",
    "with open('input.txt') as f:\n",
    "    input = f.read()\n",
    "\n",
    "lines = input.strip().split('\\n')"
   ]
  },
  {
   "cell_type": "code",
   "execution_count": 45,
   "metadata": {},
   "outputs": [],
   "source": [
    "lines2 = ['']"
   ]
  },
  {
   "cell_type": "code",
   "execution_count": 13,
   "metadata": {},
   "outputs": [],
   "source": [
    "j = 0\n",
    "for i in lines:\n",
    "    lines2[j] = lines2[j] + i\n",
    "    if i == '':\n",
    "        lines2.append('')\n",
    "        j += 1"
   ]
  },
  {
   "cell_type": "code",
   "execution_count": 14,
   "metadata": {},
   "outputs": [
    {
     "name": "stdout",
     "output_type": "stream",
     "text": [
      "6714\n"
     ]
    }
   ],
   "source": [
    "qs = 0\n",
    "for i in lines2:\n",
    "    qs += len(set(i))\n",
    "print(qs)"
   ]
  },
  {
   "cell_type": "markdown",
   "metadata": {},
   "source": [
    "### Part 2"
   ]
  },
  {
   "cell_type": "markdown",
   "metadata": {},
   "source": [
    "Need a different input method here..."
   ]
  },
  {
   "cell_type": "code",
   "execution_count": 47,
   "metadata": {},
   "outputs": [
    {
     "name": "stdout",
     "output_type": "stream",
     "text": [
      "3435\n"
     ]
    }
   ],
   "source": [
    "answers = []\n",
    "npers = 0\n",
    "all_ans = 0\n",
    "qs = ''\n",
    "for i in range(0,len(lines)):\n",
    "    if lines[i] != '':\n",
    "        npers +=1 \n",
    "        qs = qs + lines[i]\n",
    "    if lines[i] == '' or i == len(lines) - 1:\n",
    "        counter = collections.Counter(qs)\n",
    "        #print(counter,npers)\n",
    "        for (key,val) in counter.items():\n",
    "            if (val == npers): \n",
    "                all_ans += 1\n",
    "        answers.append(all_ans)\n",
    "        npers = 0\n",
    "        all_ans = 0\n",
    "        qs = ''\n",
    "print(sum(answers))"
   ]
  },
  {
   "cell_type": "code",
   "execution_count": null,
   "metadata": {},
   "outputs": [],
   "source": []
  }
 ],
 "metadata": {
  "kernelspec": {
   "display_name": "Python 3",
   "language": "python",
   "name": "python3"
  },
  "language_info": {
   "codemirror_mode": {
    "name": "ipython",
    "version": 3
   },
   "file_extension": ".py",
   "mimetype": "text/x-python",
   "name": "python",
   "nbconvert_exporter": "python",
   "pygments_lexer": "ipython3",
   "version": "3.7.6"
  }
 },
 "nbformat": 4,
 "nbformat_minor": 4
}
