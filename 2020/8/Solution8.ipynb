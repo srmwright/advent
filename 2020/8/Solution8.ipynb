{
 "cells": [
  {
   "cell_type": "markdown",
   "metadata": {},
   "source": [
    "## Advent of code day 8"
   ]
  },
  {
   "cell_type": "markdown",
   "metadata": {},
   "source": [
    "### Part 1"
   ]
  },
  {
   "cell_type": "code",
   "execution_count": 4,
   "metadata": {},
   "outputs": [],
   "source": [
    "import re"
   ]
  },
  {
   "cell_type": "code",
   "execution_count": 29,
   "metadata": {},
   "outputs": [],
   "source": [
    "### Input file into lines\n",
    "with open('input.txt') as f:\n",
    "    input = f.read()\n",
    "\n",
    "lines = input.strip().split('\\n')"
   ]
  },
  {
   "cell_type": "code",
   "execution_count": 18,
   "metadata": {},
   "outputs": [
    {
     "name": "stdout",
     "output_type": "stream",
     "text": [
      "1584\n"
     ]
    }
   ],
   "source": [
    "acc = 0\n",
    "pos = 0\n",
    "pos_list = [0]\n",
    "while pos < len(lines):\n",
    "    func = re.findall(\"[a-z]+\",lines[pos])[0]\n",
    "    amount = int(re.findall(\"-?[0-9]+\",lines[pos])[0])\n",
    "    #print(func, amount)\n",
    "    if func == 'nop':\n",
    "        pos += 1\n",
    "    if func == 'acc':\n",
    "        acc += amount\n",
    "        pos += 1\n",
    "    if func == 'jmp':\n",
    "        pos += amount\n",
    "    if pos in pos_list:\n",
    "        break\n",
    "    pos_list.append(pos)\n",
    "print(acc)"
   ]
  },
  {
   "cell_type": "markdown",
   "metadata": {},
   "source": [
    "### Part 2"
   ]
  },
  {
   "cell_type": "code",
   "execution_count": 30,
   "metadata": {},
   "outputs": [
    {
     "name": "stdout",
     "output_type": "stream",
     "text": [
      "[0, 1, 2, 3, 4, 122, 123, 124, 125, 572, 573, 347, 348, 269, 532, 151, 152, 153, 154, 155, 300, 301, 302, 303, 387, 388, 353, 354, 398, 318, 36, 37, 38, 196, 197, 198, 328, 456, 457, 458, 459, 250, 251, 252, 253, 219, 220, 221, 203, 204, 16, 17, 18, 19, 476, 477, 478, 92, 93, 94, 95, 96, 115, 116, 117, 118, 119, 525, 41, 42, 43, 44, 74, 75, 587, 588, 589, 590, 591, 145, 180, 46, 47, 59, 60, 61, 424, 425, 426, 278, 279, 280, 281, 282, 283, 284, 285, 286, 343, 158, 159, 160, 161, 162, 575, 576, 8, 9, 10, 11, 556, 557, 558, 559, 560, 305, 306, 307, 308, 612, 471, 616, 617, 618, 619, 620, 621] 920\n"
     ]
    }
   ],
   "source": [
    "for i in range(0,len(lines)):\n",
    "    acc = 0\n",
    "    pos = 0\n",
    "    pos_list = [0]\n",
    "    while pos < len(lines):\n",
    "        func = re.findall(\"[a-z]+\",lines[pos])[0]\n",
    "        amount = int(re.findall(\"-?[0-9]+\",lines[pos])[0])\n",
    "        if(pos == i):\n",
    "            if(func == 'nop'):\n",
    "                func = 'jmp'\n",
    "            elif(func == 'jmp'):\n",
    "                func = 'nop'\n",
    "        #print(func, amount)\n",
    "        if func == 'nop':\n",
    "            pos += 1\n",
    "        if func == 'acc':\n",
    "            acc += amount\n",
    "            pos += 1\n",
    "        if func == 'jmp':\n",
    "            pos += amount\n",
    "        if pos in pos_list:\n",
    "            break\n",
    "        pos_list.append(pos)\n",
    "    if(len(lines) in pos_list):\n",
    "        print(pos_list, acc)"
   ]
  },
  {
   "cell_type": "code",
   "execution_count": null,
   "metadata": {},
   "outputs": [],
   "source": []
  }
 ],
 "metadata": {
  "kernelspec": {
   "display_name": "Python 3",
   "language": "python",
   "name": "python3"
  },
  "language_info": {
   "codemirror_mode": {
    "name": "ipython",
    "version": 3
   },
   "file_extension": ".py",
   "mimetype": "text/x-python",
   "name": "python",
   "nbconvert_exporter": "python",
   "pygments_lexer": "ipython3",
   "version": "3.7.6"
  }
 },
 "nbformat": 4,
 "nbformat_minor": 4
}
