{
 "cells": [
  {
   "cell_type": "markdown",
   "metadata": {},
   "source": [
    "## Advent of code day 15"
   ]
  },
  {
   "cell_type": "markdown",
   "metadata": {},
   "source": [
    "### Part 1"
   ]
  },
  {
   "cell_type": "code",
   "execution_count": 83,
   "metadata": {},
   "outputs": [],
   "source": [
    "import numpy as np"
   ]
  },
  {
   "cell_type": "code",
   "execution_count": 3,
   "metadata": {},
   "outputs": [
    {
     "name": "stdout",
     "output_type": "stream",
     "text": [
      "[0, 3, 6, 0, 3, 3, 1, 0, 4, 0, 2, 0, 2, 2, 1, 8, 0, 5, 0, 2, 6, 18, 0, 4, 15, 0, 3, 21, 0, 3, 3, 1, 17, 0, 5, 17, 3, 6, 17, 3, 3, 1, 10, 0, 10, 2, 26, 0, 4, 25, 0, 3, 11, 0, 3, 3, 1, 15, 33, 0, 6, 23, 0, 3, 8, 49, 0, 4, 19, 0, 3, 7, 0, 3, 3, 1, 19, 8, 13, 0, 7, 9, 0, 3, 9, 3, 2, 41, 0, 6, 29, 0, 3, 7, 13, 16, 0, 5, 63, 0, 3, 8, 24, 0, 4, 37, 0, 3, 7, 15, 52, 0, 5, 15, 4, 10, 71, 0, 6, 29]\n"
     ]
    }
   ],
   "source": [
    "x = [0,3,6]\n",
    "while len(x) < 120:\n",
    "    pos = len(x)\n",
    "    ans = 0\n",
    "    spoken_before = []\n",
    "    for i in range(0,len(x)):\n",
    "        if x[i] == x[pos-1]:\n",
    "            spoken_before.append(i)\n",
    "    if len(spoken_before) > 1:\n",
    "        ans = spoken_before[-1] - spoken_before[-2]\n",
    "    x.append(ans)\n",
    "print(x)"
   ]
  },
  {
   "cell_type": "markdown",
   "metadata": {},
   "source": [
    "### Part 2"
   ]
  },
  {
   "cell_type": "code",
   "execution_count": 10,
   "metadata": {},
   "outputs": [],
   "source": [
    "import timeit"
   ]
  },
  {
   "cell_type": "code",
   "execution_count": 86,
   "metadata": {},
   "outputs": [
    {
     "name": "stdout",
     "output_type": "stream",
     "text": [
      "1000000\n",
      "2000000\n"
     ]
    },
    {
     "ename": "KeyboardInterrupt",
     "evalue": "",
     "output_type": "error",
     "traceback": [
      "\u001b[0;31m---------------------------------------------------------------------------\u001b[0m",
      "\u001b[0;31mKeyboardInterrupt\u001b[0m                         Traceback (most recent call last)",
      "\u001b[0;32m<ipython-input-86-e43d3cf400df>\u001b[0m in \u001b[0;36m<module>\u001b[0;34m\u001b[0m\n\u001b[1;32m     14\u001b[0m         \u001b[0mcurrent\u001b[0m \u001b[0;34m=\u001b[0m \u001b[0mi\u001b[0m \u001b[0;34m-\u001b[0m \u001b[0mpos\u001b[0m\u001b[0;34m[\u001b[0m\u001b[0mold_pos\u001b[0m\u001b[0;34m]\u001b[0m\u001b[0;34m\u001b[0m\u001b[0;34m\u001b[0m\u001b[0m\n\u001b[1;32m     15\u001b[0m         \u001b[0;32mif\u001b[0m \u001b[0mcurrent\u001b[0m \u001b[0;32mnot\u001b[0m \u001b[0;32min\u001b[0m \u001b[0mnum_set\u001b[0m\u001b[0;34m:\u001b[0m\u001b[0;34m\u001b[0m\u001b[0;34m\u001b[0m\u001b[0m\n\u001b[0;32m---> 16\u001b[0;31m             \u001b[0;32mif\u001b[0m \u001b[0mcurrent\u001b[0m \u001b[0;32mnot\u001b[0m \u001b[0;32min\u001b[0m \u001b[0mx\u001b[0m\u001b[0;34m:\u001b[0m\u001b[0;34m\u001b[0m\u001b[0;34m\u001b[0m\u001b[0m\n\u001b[0m\u001b[1;32m     17\u001b[0m                 \u001b[0mx\u001b[0m\u001b[0;34m.\u001b[0m\u001b[0mappend\u001b[0m\u001b[0;34m(\u001b[0m\u001b[0mcurrent\u001b[0m\u001b[0;34m)\u001b[0m\u001b[0;34m\u001b[0m\u001b[0;34m\u001b[0m\u001b[0m\n\u001b[1;32m     18\u001b[0m                 \u001b[0mpos\u001b[0m\u001b[0;34m.\u001b[0m\u001b[0mappend\u001b[0m\u001b[0;34m(\u001b[0m\u001b[0mi\u001b[0m\u001b[0;34m+\u001b[0m\u001b[0;36m1\u001b[0m\u001b[0;34m)\u001b[0m\u001b[0;34m\u001b[0m\u001b[0;34m\u001b[0m\u001b[0m\n",
      "\u001b[0;31mKeyboardInterrupt\u001b[0m: "
     ]
    }
   ],
   "source": [
    "x = [2,20,0,4,1,17]\n",
    "pos = [1,2,3,4,5,6]\n",
    "num_set = set()\n",
    "current = x[-1]\n",
    "i = len(x)\n",
    "start = timeit.timeit()\n",
    "while i < 30000000:\n",
    "#     if current not in x:\n",
    "#         print('a')\n",
    "#         x.append(current)\n",
    "    if current in num_set:\n",
    "        #print('b')\n",
    "        old_pos = x.index(current)\n",
    "        current = i - pos[old_pos]\n",
    "        if current not in num_set:\n",
    "            if current not in x:\n",
    "                x.append(current)\n",
    "                pos.append(i+1)\n",
    "            else:\n",
    "                num_set.add(current)\n",
    "        pos[old_pos] = i\n",
    "    else:\n",
    "        #print('c')\n",
    "        current = 0\n",
    "        if current not in num_set:\n",
    "            if current not in x:\n",
    "                x.append(current)\n",
    "                pos.append(i+1)\n",
    "            else:\n",
    "                num_set.add(current)\n",
    "    i += 1\n",
    "    if np.mod(i,1000000) == 0:\n",
    "        print(i)\n",
    "    #print(x, pos)\n",
    "    #print(current)\n",
    "print(current)"
   ]
  },
  {
   "cell_type": "code",
   "execution_count": 14,
   "metadata": {},
   "outputs": [
    {
     "data": {
      "text/plain": [
       "2"
      ]
     },
     "execution_count": 14,
     "metadata": {},
     "output_type": "execute_result"
    }
   ],
   "source": [
    "[0,3,6].index(6)"
   ]
  },
  {
   "cell_type": "code",
   "execution_count": null,
   "metadata": {},
   "outputs": [],
   "source": []
  }
 ],
 "metadata": {
  "kernelspec": {
   "display_name": "Python 3",
   "language": "python",
   "name": "python3"
  },
  "language_info": {
   "codemirror_mode": {
    "name": "ipython",
    "version": 3
   },
   "file_extension": ".py",
   "mimetype": "text/x-python",
   "name": "python",
   "nbconvert_exporter": "python",
   "pygments_lexer": "ipython3",
   "version": "3.7.6"
  }
 },
 "nbformat": 4,
 "nbformat_minor": 4
}
