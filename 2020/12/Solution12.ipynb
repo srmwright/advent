{
 "cells": [
  {
   "cell_type": "markdown",
   "metadata": {},
   "source": [
    "## Advent of code day 12"
   ]
  },
  {
   "cell_type": "markdown",
   "metadata": {},
   "source": [
    "### Part 1"
   ]
  },
  {
   "cell_type": "code",
   "execution_count": 10,
   "metadata": {},
   "outputs": [],
   "source": [
    "import re\n",
    "import numpy as np"
   ]
  },
  {
   "cell_type": "code",
   "execution_count": 26,
   "metadata": {},
   "outputs": [],
   "source": [
    "### Input file into lines\n",
    "with open('input.txt') as f:\n",
    "    input = f.read()\n",
    "\n",
    "lines = input.strip().split('\\n')"
   ]
  },
  {
   "cell_type": "code",
   "execution_count": 21,
   "metadata": {},
   "outputs": [
    {
     "name": "stdout",
     "output_type": "stream",
     "text": [
      "1645\n"
     ]
    }
   ],
   "source": [
    "x = 0\n",
    "y = 0\n",
    "orient = 0\n",
    "for i in lines:\n",
    "    direction = re.findall(\"[A-Z]\",i)[0]\n",
    "    mag = int(re.findall(\"[0-9]+\",i)[0])\n",
    "    if direction == 'N':\n",
    "        y = y + mag\n",
    "    if direction == 'S':\n",
    "        y = y - mag\n",
    "    if direction == 'E':\n",
    "        x = x + mag\n",
    "    if direction == 'W':\n",
    "        x = x - mag\n",
    "    if direction == 'L':\n",
    "        orient -= int(mag/90)\n",
    "    if direction == 'R':\n",
    "        orient += int(mag/90)\n",
    "    if direction == 'F':\n",
    "        if np.mod(orient,4) == 0:\n",
    "            x = x + mag  \n",
    "        if np.mod(orient,4) == 1:\n",
    "            y = y - mag    \n",
    "        if np.mod(orient,4) == 2:\n",
    "            x = x - mag    \n",
    "        if np.mod(orient,4) == 3:\n",
    "            y = y + mag\n",
    "print(abs(x)+abs(y))"
   ]
  },
  {
   "cell_type": "markdown",
   "metadata": {},
   "source": [
    "### Part 2"
   ]
  },
  {
   "cell_type": "code",
   "execution_count": 23,
   "metadata": {},
   "outputs": [],
   "source": [
    "def orientation(wx,wy,turns):\n",
    "    if turns == 0:\n",
    "        return(wx,wy)\n",
    "    if turns == 1:\n",
    "        return(wy, -wx)\n",
    "    if turns == 2:\n",
    "        return(-wx, -wy)\n",
    "    if turns == 3:\n",
    "        return(-wy,wx)"
   ]
  },
  {
   "cell_type": "code",
   "execution_count": 27,
   "metadata": {},
   "outputs": [
    {
     "name": "stdout",
     "output_type": "stream",
     "text": [
      "35292\n"
     ]
    }
   ],
   "source": [
    "x = 0\n",
    "y = 0\n",
    "wx = 10\n",
    "wy = 1\n",
    "for i in lines:\n",
    "    direction = re.findall(\"[A-Z]\",i)[0]\n",
    "    mag = int(re.findall(\"[0-9]+\",i)[0])\n",
    "    if direction == 'N':\n",
    "        wy = wy + mag\n",
    "    if direction == 'S':\n",
    "        wy = wy - mag\n",
    "    if direction == 'E':\n",
    "        wx = wx + mag\n",
    "    if direction == 'W':\n",
    "        wx = wx - mag\n",
    "    if direction == 'L':\n",
    "        turns = np.mod(int(-mag/90),4)\n",
    "        wx,wy = orientation(wx,wy,turns)\n",
    "    if direction == 'R':\n",
    "        turns = np.mod(int(mag/90),4)\n",
    "        wx,wy = orientation(wx,wy,turns)\n",
    "    if direction == 'F':\n",
    "        x = x + mag*wx\n",
    "        y = y + mag*wy\n",
    "    #print(x,y,wx,wy)\n",
    "print(abs(x)+abs(y))"
   ]
  },
  {
   "cell_type": "code",
   "execution_count": null,
   "metadata": {},
   "outputs": [],
   "source": []
  }
 ],
 "metadata": {
  "kernelspec": {
   "display_name": "Python 3",
   "language": "python",
   "name": "python3"
  },
  "language_info": {
   "codemirror_mode": {
    "name": "ipython",
    "version": 3
   },
   "file_extension": ".py",
   "mimetype": "text/x-python",
   "name": "python",
   "nbconvert_exporter": "python",
   "pygments_lexer": "ipython3",
   "version": "3.7.6"
  }
 },
 "nbformat": 4,
 "nbformat_minor": 4
}
