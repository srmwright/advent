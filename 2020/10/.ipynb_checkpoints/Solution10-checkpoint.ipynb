{
 "cells": [
  {
   "cell_type": "markdown",
   "metadata": {},
   "source": [
    "## Advent of code day 10"
   ]
  },
  {
   "cell_type": "markdown",
   "metadata": {},
   "source": [
    "### Part 1"
   ]
  },
  {
   "cell_type": "code",
   "execution_count": 1,
   "metadata": {},
   "outputs": [],
   "source": [
    "import numpy as np"
   ]
  },
  {
   "cell_type": "code",
   "execution_count": 82,
   "metadata": {},
   "outputs": [],
   "source": [
    "### Input file into lines\n",
    "with open('input.txt') as f:\n",
    "    input = f.read()\n",
    "\n",
    "lines = input.strip().split('\\n')"
   ]
  },
  {
   "cell_type": "code",
   "execution_count": 83,
   "metadata": {},
   "outputs": [],
   "source": [
    "inp = [int(i) for i in lines]"
   ]
  },
  {
   "cell_type": "code",
   "execution_count": 84,
   "metadata": {},
   "outputs": [],
   "source": [
    "inp.sort()"
   ]
  },
  {
   "cell_type": "code",
   "execution_count": 73,
   "metadata": {},
   "outputs": [
    {
     "name": "stdout",
     "output_type": "stream",
     "text": [
      "0\n"
     ]
    }
   ],
   "source": [
    "j = 0\n",
    "i = 0\n",
    "ones = 0\n",
    "threes = 0\n",
    "while j < max(inp):\n",
    "    if j < inp[i]:\n",
    "        if inp[i] - j == 1:\n",
    "            ones += 1\n",
    "        if inp[i] - j == 3:\n",
    "            threes += 1\n",
    "        j = inp[i]\n",
    "        i += 1\n",
    "    else:\n",
    "        break\n",
    "threes += 1\n",
    "print(ones*threes)"
   ]
  },
  {
   "cell_type": "markdown",
   "metadata": {},
   "source": [
    "### Part 2"
   ]
  },
  {
   "cell_type": "code",
   "execution_count": 45,
   "metadata": {},
   "outputs": [
    {
     "data": {
      "text/plain": [
       "0"
      ]
     },
     "execution_count": 45,
     "metadata": {},
     "output_type": "execute_result"
    }
   ],
   "source": [
    "def consec_counter(nums, pos):\n",
    "    i = 0\n",
    "    count = 0\n",
    "    while i == 0 and pos < len(nums) - 1:\n",
    "        if nums[pos + 1] == nums[pos] + 1:\n",
    "            count += 1\n",
    "            pos += 1\n",
    "        else:\n",
    "            i = 1\n",
    "    return(count)\n",
    "consec_counter(inp,0)"
   ]
  },
  {
   "cell_type": "code",
   "execution_count": 85,
   "metadata": {},
   "outputs": [],
   "source": [
    "inp.insert(0,0)"
   ]
  },
  {
   "cell_type": "code",
   "execution_count": 86,
   "metadata": {},
   "outputs": [
    {
     "name": "stdout",
     "output_type": "stream",
     "text": [
      "3\n",
      "2\n",
      "3\n",
      "4\n",
      "3\n",
      "1\n",
      "4\n",
      "2\n",
      "0\n",
      "1\n",
      "4\n",
      "0\n",
      "3\n",
      "4\n",
      "3\n",
      "3\n",
      "0\n",
      "3\n",
      "3\n",
      "0\n",
      "0\n",
      "4\n",
      "1\n",
      "4\n",
      "4\n",
      "3\n",
      "0\n",
      "3\n",
      "3454189699072\n"
     ]
    }
   ],
   "source": [
    "i = 0\n",
    "comb = 1\n",
    "while i < len(inp):\n",
    "    a = consec_counter(inp,i)\n",
    "    i += a\n",
    "    i += 1\n",
    "    print(a)\n",
    "    if a == 2:\n",
    "        comb *= 2\n",
    "    if a == 3:\n",
    "        comb *= 4\n",
    "    if a == 4:\n",
    "        comb *= 7\n",
    "    if a == 5:\n",
    "        comb *= 11\n",
    "    if a > 5:\n",
    "        break\n",
    "print(comb)"
   ]
  },
  {
   "cell_type": "code",
   "execution_count": 59,
   "metadata": {},
   "outputs": [
    {
     "data": {
      "text/plain": [
       "[1,\n",
       " 2,\n",
       " 3,\n",
       " 4,\n",
       " 7,\n",
       " 8,\n",
       " 9,\n",
       " 10,\n",
       " 11,\n",
       " 14,\n",
       " 17,\n",
       " 18,\n",
       " 19,\n",
       " 20,\n",
       " 23,\n",
       " 24,\n",
       " 25,\n",
       " 28,\n",
       " 31,\n",
       " 32,\n",
       " 33,\n",
       " 34,\n",
       " 35,\n",
       " 38,\n",
       " 39,\n",
       " 42,\n",
       " 45,\n",
       " 46,\n",
       " 47,\n",
       " 48,\n",
       " 49]"
      ]
     },
     "execution_count": 59,
     "metadata": {},
     "output_type": "execute_result"
    }
   ],
   "source": [
    "inp"
   ]
  },
  {
   "cell_type": "code",
   "execution_count": null,
   "metadata": {},
   "outputs": [],
   "source": []
  }
 ],
 "metadata": {
  "kernelspec": {
   "display_name": "Python 3",
   "language": "python",
   "name": "python3"
  },
  "language_info": {
   "codemirror_mode": {
    "name": "ipython",
    "version": 3
   },
   "file_extension": ".py",
   "mimetype": "text/x-python",
   "name": "python",
   "nbconvert_exporter": "python",
   "pygments_lexer": "ipython3",
   "version": "3.7.6"
  }
 },
 "nbformat": 4,
 "nbformat_minor": 4
}
