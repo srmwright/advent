{
 "cells": [
  {
   "cell_type": "markdown",
   "metadata": {},
   "source": [
    "## Advent of code day 7"
   ]
  },
  {
   "cell_type": "markdown",
   "metadata": {},
   "source": [
    "### Part 1"
   ]
  },
  {
   "cell_type": "code",
   "execution_count": 2,
   "metadata": {},
   "outputs": [],
   "source": [
    "import re"
   ]
  },
  {
   "cell_type": "code",
   "execution_count": 23,
   "metadata": {},
   "outputs": [],
   "source": [
    "### Input file into lines\n",
    "with open('input.txt') as f:\n",
    "    input = f.read()\n",
    "\n",
    "lines = input.strip().split('\\n')"
   ]
  },
  {
   "cell_type": "code",
   "execution_count": 54,
   "metadata": {},
   "outputs": [],
   "source": [
    "out_bags = []\n",
    "in_bags = []\n",
    "for i in range(0,len(lines)):\n",
    "    bags = re.findall(\"([a-z]+ [a-z]+) bag\",lines[i])\n",
    "    out_bags.append(bags[0])\n",
    "    if(len(bags) > 0):\n",
    "        in_bag = bags[1:]\n",
    "    in_bags.append(in_bag)"
   ]
  },
  {
   "cell_type": "code",
   "execution_count": 58,
   "metadata": {},
   "outputs": [],
   "source": [
    "#bags = 0\n",
    "int_bags = ['shiny gold']\n",
    "n_int_bags = 1\n",
    "int_bags_set = {'shiny gold'}\n",
    "j = 0\n",
    "while (j < n_int_bags):\n",
    "    for i in range(0, len(in_bags)):\n",
    "        if(any(x == int_bags[j] for x in in_bags[i])):\n",
    "            int_bags_set.add(out_bags[i])\n",
    "            if out_bags[i] not in int_bags:\n",
    "                int_bags.append(out_bags[i])\n",
    "    j += 1\n",
    "    n_int_bags = len(int_bags)"
   ]
  },
  {
   "cell_type": "code",
   "execution_count": 60,
   "metadata": {},
   "outputs": [
    {
     "data": {
      "text/plain": [
       "112"
      ]
     },
     "execution_count": 60,
     "metadata": {},
     "output_type": "execute_result"
    }
   ],
   "source": [
    "len(int_bags_set) - 1"
   ]
  },
  {
   "cell_type": "markdown",
   "metadata": {},
   "source": [
    "### Part 2"
   ]
  },
  {
   "cell_type": "code",
   "execution_count": 24,
   "metadata": {},
   "outputs": [],
   "source": [
    "out_bags = []\n",
    "in_bags = []\n",
    "for i in range(0,len(lines)):\n",
    "    bags = re.findall(\"([0-9]+ [a-z]+ [a-z]+) bag\",lines[i])\n",
    "    out_bags.append(re.findall(\"([a-z]+ [a-z]+) bag\",lines[i])[0])\n",
    "    if(len(bags) > 0):\n",
    "        in_bag = bags\n",
    "        in_bags.append(in_bag)\n",
    "    else:\n",
    "        in_bags.append(['0'])"
   ]
  },
  {
   "cell_type": "code",
   "execution_count": 28,
   "metadata": {},
   "outputs": [
    {
     "data": {
      "text/plain": [
       "6260"
      ]
     },
     "execution_count": 28,
     "metadata": {},
     "output_type": "execute_result"
    }
   ],
   "source": [
    "n = 0\n",
    "def digger(color, amount, n):\n",
    "    for i in range(0,len(lines)):\n",
    "        if out_bags[i] == color and in_bags[i] != ['0']:\n",
    "            for b in in_bags[i]:\n",
    "                num = re.findall(\"[0-9]\",b)[0]\n",
    "                bag = re.findall(\"[a-z]+ [a-z]+\",b)[0]\n",
    "                n += int(num) * amount\n",
    "                n = digger(bag, int(num) * amount, n)\n",
    "    return n\n",
    "digger(\"shiny gold\",1,0)"
   ]
  }
 ],
 "metadata": {
  "kernelspec": {
   "display_name": "Python 3",
   "language": "python",
   "name": "python3"
  },
  "language_info": {
   "codemirror_mode": {
    "name": "ipython",
    "version": 3
   },
   "file_extension": ".py",
   "mimetype": "text/x-python",
   "name": "python",
   "nbconvert_exporter": "python",
   "pygments_lexer": "ipython3",
   "version": "3.7.6"
  }
 },
 "nbformat": 4,
 "nbformat_minor": 4
}
