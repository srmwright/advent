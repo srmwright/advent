{
 "cells": [
  {
   "cell_type": "markdown",
   "metadata": {},
   "source": [
    "## Advent of Code 2020 day 2"
   ]
  },
  {
   "cell_type": "markdown",
   "metadata": {},
   "source": [
    "### Part 1"
   ]
  },
  {
   "cell_type": "markdown",
   "metadata": {},
   "source": [
    "I think it's time for a refresher in regex!"
   ]
  },
  {
   "cell_type": "code",
   "execution_count": 32,
   "metadata": {},
   "outputs": [],
   "source": [
    "import re\n",
    "import collections"
   ]
  },
  {
   "cell_type": "code",
   "execution_count": 47,
   "metadata": {},
   "outputs": [],
   "source": [
    "### Input file into lines\n",
    "with open('input.txt') as f:\n",
    "    input = f.read()\n",
    "\n",
    "lines = input.strip().split('\\n')"
   ]
  },
  {
   "cell_type": "code",
   "execution_count": 40,
   "metadata": {},
   "outputs": [
    {
     "name": "stdout",
     "output_type": "stream",
     "text": [
      "500\n"
     ]
    }
   ],
   "source": [
    "correct_pass = 0\n",
    "for i in lines:\n",
    "    limits = re.findall(\"[0-9]+\",i) #Find limits\n",
    "    min_no, max_no = int(limits[0]), int(limits[1]) #Extract into list\n",
    "    target_character = re.findall(\"([a-z]):\",i)[0] #Find password character\n",
    "    password = re.findall(\": ([a-z]+)\", i)[0] #Extract password\n",
    "    counter = collections.Counter(password) #Count number of character in password\n",
    "    #If number within limits, password is successful\n",
    "    if(counter[target_character] >= min_no and counter[target_character] <= max_no):\n",
    "        correct_pass = correct_pass + 1\n",
    "print(correct_pass)"
   ]
  },
  {
   "cell_type": "markdown",
   "metadata": {},
   "source": [
    "### Part 2"
   ]
  },
  {
   "cell_type": "code",
   "execution_count": 48,
   "metadata": {},
   "outputs": [
    {
     "name": "stdout",
     "output_type": "stream",
     "text": [
      "313\n"
     ]
    }
   ],
   "source": [
    "correct_pass = 0\n",
    "for i in lines:\n",
    "    positions = re.findall(\"[0-9]+\",i)\n",
    "    pos1, pos2 = int(positions[0]), int(positions[1])\n",
    "    target_character = re.findall(\"([a-z]):\",i)[0]\n",
    "    password = re.findall(\": ([a-z]+)\", i)[0]\n",
    "    # If exactly one character matches, password is successful\n",
    "    if(bool(password[pos1-1]==target_character) != bool(password[pos2-1]==target_character)):\n",
    "        correct_pass = correct_pass + 1\n",
    "print(correct_pass)"
   ]
  }
 ],
 "metadata": {
  "kernelspec": {
   "display_name": "Python 3",
   "language": "python",
   "name": "python3"
  },
  "language_info": {
   "codemirror_mode": {
    "name": "ipython",
    "version": 3
   },
   "file_extension": ".py",
   "mimetype": "text/x-python",
   "name": "python",
   "nbconvert_exporter": "python",
   "pygments_lexer": "ipython3",
   "version": "3.7.6"
  }
 },
 "nbformat": 4,
 "nbformat_minor": 4
}
