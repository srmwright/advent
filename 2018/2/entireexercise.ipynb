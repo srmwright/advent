{
 "cells": [
  {
   "cell_type": "code",
   "execution_count": 2,
   "metadata": {},
   "outputs": [
    {
     "name": "stdout",
     "output_type": "stream",
     "text": [
      "Answer is 8892\n"
     ]
    }
   ],
   "source": [
    "import collections\n",
    "\n",
    "## Read file\n",
    "with open('input.txt') as f:\n",
    "    input = f.read()\n",
    "\n",
    "lines = input.strip().split('\\n')\n",
    "twos = 0\n",
    "threes = 0\n",
    "\n",
    "for i in range(0, len(lines)):\n",
    "\ta = collections.Counter(str(lines[i])).values()\n",
    "\t#print(a)\n",
    "\ttwo = sum(x == 2 for x in a) #count number of tuples\n",
    "\tthree = sum(x == 3 for x in a) #count number of triples\n",
    "\tif two > 0: #iterate\n",
    "\t\ttwos += 1\n",
    "\tif three > 0:\n",
    "\t\tthrees += 1\n",
    "\n",
    "print(\"Answer is\", twos*threes) #print answer"
   ]
  },
  {
   "cell_type": "code",
   "execution_count": 3,
   "metadata": {},
   "outputs": [
    {
     "name": "stdout",
     "output_type": "stream",
     "text": [
      "zihwtxagifpbsnwleydukjmqv\n"
     ]
    }
   ],
   "source": [
    "import collections\n",
    "\n",
    "## Read file\n",
    "with open('input.txt') as f:\n",
    "    input = f.read()\n",
    "\n",
    "lines = input.strip().split('\\n')\n",
    "\n",
    "## Read over all pairs of lines\n",
    "for i in range(0, len(lines)):\n",
    "\tfor j in range(i, len(lines)):\n",
    "\n",
    "\t\t# Return true/false for every pairwise character comparison\n",
    "\t\ta = [x==y for (x,y) in zip(list(lines[i]),list(lines[j]))]\n",
    "\t\tdiff = len(a) - sum(a) #Count number of differences\n",
    "\t\tif(diff == 1): #If 1\n",
    "\t\t\t#Find position of the same indices\n",
    "\t\t\tsame_indices = [k for k, x in enumerate(a) if x]\n",
    "\t\t\t#Find the characters\n",
    "\t\t\tindices = list(list(lines[i])[q] for q in same_indices)\n",
    "\t\t\t#Turn back into a string\n",
    "\t\t\tprint(''.join(indices))\n",
    "\t\t\t#list(lines[i])[k for k, x in enumerate(a) if x]"
   ]
  },
  {
   "cell_type": "code",
   "execution_count": 5,
   "metadata": {},
   "outputs": [],
   "source": [
    "import pandas"
   ]
  }
 ],
 "metadata": {
  "kernelspec": {
   "display_name": "Python 3",
   "language": "python",
   "name": "python3"
  },
  "language_info": {
   "codemirror_mode": {
    "name": "ipython",
    "version": 3
   },
   "file_extension": ".py",
   "mimetype": "text/x-python",
   "name": "python",
   "nbconvert_exporter": "python",
   "pygments_lexer": "ipython3",
   "version": "3.7.4"
  }
 },
 "nbformat": 4,
 "nbformat_minor": 4
}
