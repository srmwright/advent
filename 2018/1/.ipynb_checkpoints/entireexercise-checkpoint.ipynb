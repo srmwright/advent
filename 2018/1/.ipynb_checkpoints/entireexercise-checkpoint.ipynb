{
 "cells": [
  {
   "cell_type": "code",
   "execution_count": 1,
   "metadata": {},
   "outputs": [
    {
     "name": "stdout",
     "output_type": "stream",
     "text": [
      "518\n"
     ]
    }
   ],
   "source": [
    "### Input file into lines\n",
    "with open('input.txt') as f:\n",
    "    input = f.read()\n",
    "\n",
    "lines = input.strip().split('\\n')\n",
    "\n",
    "answer = 0 #starting frequency\n",
    "\n",
    "#loop over the list, adding as appropriate\n",
    "for i in range(0, len(lines)):\n",
    "\tanswer += int(lines[i])\n",
    "\n",
    "print(answer)"
   ]
  },
  {
   "cell_type": "code",
   "execution_count": 2,
   "metadata": {},
   "outputs": [
    {
     "name": "stdout",
     "output_type": "stream",
     "text": [
      "72889\n"
     ]
    }
   ],
   "source": [
    "### Idea - calculate differences between all cumulative frequncies in the list\n",
    "### Look for gaps that are multiples of the sums\n",
    "### Use this fact to find the first recurrence\n",
    "\n",
    "import numpy as np\n",
    "import math\n",
    "\n",
    "### Input file into lines\n",
    "with open('input.txt') as f:\n",
    "    input = f.read()\n",
    "\n",
    "lines = input.strip().split('\\n')\n",
    "theSum = 0\n",
    "start = 0\n",
    "frequencies = list([])\n",
    "#loop over the list, build the cumulative frequencies\n",
    "for i in range(0, len(lines)):\n",
    "\t\tstart += int(lines[i])\n",
    "\t\tif(start in frequencies):\n",
    "\t\t\tanswer.append(start)\n",
    "\t\t\tbreak\n",
    "\t\tfrequencies.append(start)\n",
    "theSum = start\n",
    "\n",
    "freq_np = np.array(frequencies) #feed cum. frequencies in numpy array\n",
    "\n",
    "freq_mat = freq_np[:,np.newaxis] - freq_np #create a difference matrix between the vector and itself\n",
    "#print(freq_mat%theSum==0*freq_mat)\n",
    "i, j = np.where(freq_mat%theSum==0) #find all pairs where the gaps are multiples of the sum of the list\n",
    "\n",
    "#input parameters for loops - this would all be unnecessary if I could do vectors\n",
    "i_vals = []\n",
    "j_vals = []\n",
    "floors = []\n",
    "for i1 in range(0,len(i)):\n",
    "\t\tif i[i1] > j[i1]:\n",
    "\t\t\ti_vals.append(i[i1]) #keep track of second value\n",
    "\t\t\tj_vals.append(j[i1]) #keep track of first value THIS IS THE ONE WE WANT\n",
    "\t\t\tfloors.append(math.floor(freq_mat[i[i1], j[i1]]/theSum)) #calculate number of loops required\n",
    "\n",
    "index = 0\n",
    "abs_floor = 0\n",
    "loops = 0\n",
    "for i in range(0,len(floors)):\n",
    "\tif floors[i]==min(np.abs(floors)):\n",
    "\t\tabs_floor = floors[i]\n",
    "\t\tindex = j_vals[i] - 1\n",
    "\t\tloops = i\n",
    "\t\tbreak\n",
    "answer = frequencies[index] + abs_floor*theSum #calculate the actual frequency at the loop point\n",
    "print(answer)\n",
    "\n",
    "# test = np.tril(freq_mat%theSum==0,1,0)\n",
    "# print(test)\n",
    "#print(np.floor(freq_mat,theSum) if freq_mat%theSum==0 else 0)\n",
    "\n",
    "#print(np.floor(np.tril(freq_mat)/theSum))\n"
   ]
  }
 ],
 "metadata": {
  "kernelspec": {
   "display_name": "Python 3",
   "language": "python",
   "name": "python3"
  },
  "language_info": {
   "codemirror_mode": {
    "name": "ipython",
    "version": 3
   },
   "file_extension": ".py",
   "mimetype": "text/x-python",
   "name": "python",
   "nbconvert_exporter": "python",
   "pygments_lexer": "ipython3",
   "version": "3.7.4"
  }
 },
 "nbformat": 4,
 "nbformat_minor": 4
}
