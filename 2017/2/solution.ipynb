{
 "cells": [
  {
   "cell_type": "markdown",
   "id": "d48acb08-2bd7-4123-9914-3bd0f0327b7c",
   "metadata": {},
   "source": [
    "### Day 2"
   ]
  },
  {
   "cell_type": "code",
   "execution_count": 6,
   "id": "a933d321-bf54-4386-b705-c272e42364bb",
   "metadata": {},
   "outputs": [],
   "source": [
    "### Input file into lines\n",
    "with open('input.txt') as f:\n",
    "    input = f.read()\n",
    "\n",
    "lines = input.strip().split('\\n')"
   ]
  },
  {
   "cell_type": "code",
   "execution_count": 19,
   "id": "07c50ab6-31b5-4d32-8457-95861cf4a216",
   "metadata": {},
   "outputs": [
    {
     "name": "stdout",
     "output_type": "stream",
     "text": [
      "44887\n"
     ]
    }
   ],
   "source": [
    "answer = 0\n",
    "for i in lines:\n",
    "    arr = [int(i) for i in i.split('\\t')]\n",
    "    answer += (int(max(arr)) - int(min(arr)))\n",
    "print(answer)"
   ]
  },
  {
   "cell_type": "code",
   "execution_count": 23,
   "id": "3c9b8621-2012-46a9-b6ee-4c2fa6b1d2db",
   "metadata": {},
   "outputs": [],
   "source": [
    "answer = 0\n",
    "for i in lines:\n",
    "    arr = [int(i) for i in i.split('\\t')]\n",
    "    for j in arr:\n",
    "        for k in arr:\n",
    "            if j%k == 0 and j != k:\n",
    "                answer += j/k"
   ]
  },
  {
   "cell_type": "code",
   "execution_count": 24,
   "id": "f3e9e61c-bdaf-4f6c-9c06-0d5ab93650f5",
   "metadata": {},
   "outputs": [
    {
     "data": {
      "text/plain": [
       "242.0"
      ]
     },
     "execution_count": 24,
     "metadata": {},
     "output_type": "execute_result"
    }
   ],
   "source": [
    "answer"
   ]
  },
  {
   "cell_type": "code",
   "execution_count": null,
   "id": "4c05efb6-d552-4eb7-9e70-c347164cc816",
   "metadata": {},
   "outputs": [],
   "source": []
  }
 ],
 "metadata": {
  "kernelspec": {
   "display_name": "Python 3",
   "language": "python",
   "name": "python3"
  },
  "language_info": {
   "codemirror_mode": {
    "name": "ipython",
    "version": 3
   },
   "file_extension": ".py",
   "mimetype": "text/x-python",
   "name": "python",
   "nbconvert_exporter": "python",
   "pygments_lexer": "ipython3",
   "version": "3.8.8"
  }
 },
 "nbformat": 4,
 "nbformat_minor": 5
}
