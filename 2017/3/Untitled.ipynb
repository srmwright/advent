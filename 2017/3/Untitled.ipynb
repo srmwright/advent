{
 "cells": [
  {
   "cell_type": "markdown",
   "id": "b577b972-51df-4f86-94f9-b2bdab25f083",
   "metadata": {},
   "source": [
    "### Day 3"
   ]
  },
  {
   "cell_type": "markdown",
   "id": "2902f49a-2141-4350-a5f0-0e20e1116613",
   "metadata": {},
   "source": [
    "Creating the spiral may not be the best way..."
   ]
  },
  {
   "cell_type": "code",
   "execution_count": 9,
   "id": "088c3463-86da-40b7-830f-9691af70254f",
   "metadata": {},
   "outputs": [],
   "source": [
    "import numpy as np"
   ]
  },
  {
   "cell_type": "code",
   "execution_count": 5,
   "id": "4f2e5f87-01d3-44df-8f81-32cf12e13e33",
   "metadata": {},
   "outputs": [],
   "source": [
    "dist = 0\n",
    "x,y = 0,0\n",
    "max_x, max_y = 0,0"
   ]
  },
  {
   "cell_type": "code",
   "execution_count": 6,
   "id": "b5446ef9-94f7-4899-ba8e-ad1e9a296356",
   "metadata": {},
   "outputs": [],
   "source": [
    "counter = 1"
   ]
  },
  {
   "cell_type": "code",
   "execution_count": 63,
   "id": "0ad15a22-d9f3-478c-bdfd-66a09ba4bc1e",
   "metadata": {},
   "outputs": [],
   "source": [
    "def move(x,y,max_x,max_y):\n",
    "    if x == max_x and y == max_y and max_x = max_y:\n",
    "        return(x+1,y,max_x+1,max_y)\n",
    "    if max_x > max_y:\n",
    "        return(x,y+1,max_x,max_y+1)\n",
    "    "
   ]
  },
  {
   "cell_type": "code",
   "execution_count": 64,
   "id": "e7b8f40a-980d-41f4-961a-aefab6b8c483",
   "metadata": {},
   "outputs": [
    {
     "data": {
      "text/plain": [
       "(1, 0, 1, 0)"
      ]
     },
     "execution_count": 64,
     "metadata": {},
     "output_type": "execute_result"
    }
   ],
   "source": [
    "move(0,0,0,0)"
   ]
  },
  {
   "cell_type": "markdown",
   "id": "b01e342b-1ae6-43a4-bf20-72d7085677c6",
   "metadata": {},
   "source": [
    "Maybe only make the outer ring?"
   ]
  },
  {
   "cell_type": "code",
   "execution_count": 113,
   "id": "97e88ea2-b882-4c3a-b0d5-43741cbe53fe",
   "metadata": {},
   "outputs": [],
   "source": [
    "input = 289326"
   ]
  },
  {
   "cell_type": "code",
   "execution_count": 114,
   "id": "b9b7a141-94f5-4c25-8724-0abe144cf0d2",
   "metadata": {},
   "outputs": [],
   "source": [
    "sq_size = np.floor(np.sqrt(input))"
   ]
  },
  {
   "cell_type": "code",
   "execution_count": 115,
   "id": "10898383-2be4-48cf-95fa-c25a86378dcb",
   "metadata": {},
   "outputs": [
    {
     "data": {
      "text/plain": [
       "537.0"
      ]
     },
     "execution_count": 115,
     "metadata": {},
     "output_type": "execute_result"
    }
   ],
   "source": [
    "sq_size"
   ]
  },
  {
   "cell_type": "code",
   "execution_count": 116,
   "id": "cc763096-9a67-4da4-9a15-205298dc955f",
   "metadata": {},
   "outputs": [],
   "source": [
    "x_in, y_in = 0,0"
   ]
  },
  {
   "cell_type": "code",
   "execution_count": 117,
   "id": "37d8bd49-5c20-43b1-a026-0f530f9230ba",
   "metadata": {},
   "outputs": [],
   "source": [
    "# if sq_size%2 == 0:\n",
    "x_in = -np.ceil(sq_size/2)\n",
    "y_in = np.ceil(sq_size/2)\n",
    "# elif sq_size%2 == 1:\n",
    "#     y_in = -sq_size/2\n",
    "#     x_in = sq_size/2"
   ]
  },
  {
   "cell_type": "code",
   "execution_count": 118,
   "id": "19c2222c-ee4e-46be-83b3-90d4a284f32e",
   "metadata": {},
   "outputs": [
    {
     "name": "stdout",
     "output_type": "stream",
     "text": [
      "-269.0 269.0\n"
     ]
    }
   ],
   "source": [
    "print(x_in,y_in)"
   ]
  },
  {
   "cell_type": "code",
   "execution_count": 119,
   "id": "e0f431a1-dc8b-477d-80a3-336b3e7ac658",
   "metadata": {},
   "outputs": [],
   "source": [
    "steps = input - sq_size**2 if sq_size%2 == 1 else input - sq_size**2 - 1"
   ]
  },
  {
   "cell_type": "code",
   "execution_count": 120,
   "id": "27d6853b-1313-4af7-a463-49cee32d0537",
   "metadata": {},
   "outputs": [
    {
     "name": "stdout",
     "output_type": "stream",
     "text": [
      "150.0 -269.0\n"
     ]
    }
   ],
   "source": [
    "i = 0\n",
    "x, y = x_in, y_in\n",
    "while i < steps:\n",
    "    if y > -y_in:\n",
    "        y -= 1\n",
    "        i += 1\n",
    "    else:\n",
    "        x += 1\n",
    "        i += 1\n",
    "print(x,y)"
   ]
  },
  {
   "cell_type": "code",
   "execution_count": 121,
   "id": "b33289d2-9eef-4c56-a7e4-c27dda6211f0",
   "metadata": {},
   "outputs": [],
   "source": [
    "ans = abs(x) + abs(y)"
   ]
  },
  {
   "cell_type": "code",
   "execution_count": 122,
   "id": "e71cce96-6c1f-45c4-b154-682200cd6ff3",
   "metadata": {},
   "outputs": [
    {
     "data": {
      "text/plain": [
       "419.0"
      ]
     },
     "execution_count": 122,
     "metadata": {},
     "output_type": "execute_result"
    }
   ],
   "source": [
    "ans"
   ]
  },
  {
   "cell_type": "markdown",
   "id": "f43ed8a6-549a-4faa-b353-8a7eba1ecfe4",
   "metadata": {},
   "source": [
    "### Part 2"
   ]
  },
  {
   "cell_type": "markdown",
   "id": "3e3b7e39-2038-4e1f-a773-946d7210e64b",
   "metadata": {},
   "source": [
    "Gonna have to write this out properly...think I'll need something that says how big the square writer has to be, and another to do the summing..."
   ]
  },
  {
   "cell_type": "code",
   "execution_count": 129,
   "id": "32c19a57-5543-4091-b375-6701fc6b480b",
   "metadata": {},
   "outputs": [],
   "source": [
    "def set_dir(dir):\n",
    "    if dir == 'u':\n",
    "        x_inc, y_inc = 0,1\n",
    "    elif dir == 'd':\n",
    "        x_inc, y_inc = 0,-1\n",
    "    elif dir == 'r':\n",
    "        x_inc, y_inc = 1,0\n",
    "    elif dir == 'l':\n",
    "        x_inc, y_inc = -1,0\n",
    "    return(x_inc, y_inc)"
   ]
  },
  {
   "cell_type": "code",
   "execution_count": 136,
   "id": "a1a39ca0-0171-4114-94fc-67bc3efdcd3d",
   "metadata": {},
   "outputs": [],
   "source": [
    "def is_corner(x,y,sq_size):\n",
    "    if abs(x) == y == sq_size - 1:\n",
    "        return True\n",
    "    if -x == -y == sq_size - 1:\n",
    "        return True\n",
    "    if x == -y+1\n",
    "    return False"
   ]
  },
  {
   "cell_type": "code",
   "execution_count": 139,
   "id": "d324a2f8-2dff-4d53-b166-edb373dfbce8",
   "metadata": {},
   "outputs": [],
   "source": [
    "dirs = ['r','u','l','d']"
   ]
  },
  {
   "cell_type": "code",
   "execution_count": 138,
   "id": "66e1b03f-1512-405c-b4c2-f7088bf88f89",
   "metadata": {},
   "outputs": [
    {
     "data": {
      "text/plain": [
       "True"
      ]
     },
     "execution_count": 138,
     "metadata": {},
     "output_type": "execute_result"
    }
   ],
   "source": [
    "is_corner(1,-1,2)"
   ]
  },
  {
   "cell_type": "code",
   "execution_count": 132,
   "id": "48abc72e-12e3-4752-bd53-3d465c1f66b8",
   "metadata": {},
   "outputs": [],
   "source": [
    "sq_size = 0\n",
    "step = 1\n",
    "dir = 'r'\n",
    "x,y = 0,0\n",
    "while step < 100:\n",
    "    x += set_dir(dir)[0]\n",
    "    y += set_dir(dir)[1]\n",
    "    if int(np.sqrt(step)) == np.sqrt(step) and int(np.sqrt(step))%2 == 1:\n",
    "        sq_size += 1\n",
    "    if is_corner(x,y,sq_size)\n",
    "    step += 1"
   ]
  },
  {
   "cell_type": "code",
   "execution_count": null,
   "id": "2b8534c0-b49f-4f37-9ff3-44689e962e52",
   "metadata": {},
   "outputs": [],
   "source": []
  }
 ],
 "metadata": {
  "kernelspec": {
   "display_name": "Python 3 (ipykernel)",
   "language": "python",
   "name": "python3"
  },
  "language_info": {
   "codemirror_mode": {
    "name": "ipython",
    "version": 3
   },
   "file_extension": ".py",
   "mimetype": "text/x-python",
   "name": "python",
   "nbconvert_exporter": "python",
   "pygments_lexer": "ipython3",
   "version": "3.8.11"
  }
 },
 "nbformat": 4,
 "nbformat_minor": 5
}
