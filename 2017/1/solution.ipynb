{
 "cells": [
  {
   "cell_type": "markdown",
   "id": "53a57964-8f3c-4e5d-9ac4-cb97d07c7acd",
   "metadata": {},
   "source": [
    "### Part 1"
   ]
  },
  {
   "cell_type": "code",
   "execution_count": 20,
   "id": "e4bb8df0-757c-4b4e-839d-ee73c01ec361",
   "metadata": {},
   "outputs": [
    {
     "name": "stdout",
     "output_type": "stream",
     "text": [
      "1158\n"
     ]
    }
   ],
   "source": [
    "### Input file into lines\n",
    "with open('input.txt') as f:\n",
    "    input = f.read()\n",
    "\n",
    "input2 = input + str(input[0]) #Add first digit to end of string\n",
    "\n",
    "answer = 0\n",
    "for i in range(0,len(input)):\n",
    "    if input2[i] == input2[i+1]:\n",
    "        answer += int(input2[i])\n",
    "print(answer)"
   ]
  },
  {
   "cell_type": "code",
   "execution_count": 21,
   "id": "d1ced91f-0672-44f3-ad0d-e2d1c486bc6b",
   "metadata": {},
   "outputs": [
    {
     "name": "stdout",
     "output_type": "stream",
     "text": [
      "1132\n"
     ]
    }
   ],
   "source": [
    "answer = 0\n",
    "for i in range(0,len(input)):\n",
    "    if input[i] == input[int((i + len(input)/2)%(len(input)))]:\n",
    "        answer += int(input[i])\n",
    "print(answer)"
   ]
  },
  {
   "cell_type": "code",
   "execution_count": 11,
   "id": "cba113b4-b08f-4d7d-b633-bcf13ab52439",
   "metadata": {},
   "outputs": [
    {
     "data": {
      "text/plain": [
       "2"
      ]
     },
     "execution_count": 11,
     "metadata": {},
     "output_type": "execute_result"
    }
   ],
   "source": [
    "6%4"
   ]
  },
  {
   "cell_type": "code",
   "execution_count": null,
   "id": "d44d83ca-f38d-45b1-87da-8814c6cd2dbf",
   "metadata": {},
   "outputs": [],
   "source": []
  }
 ],
 "metadata": {
  "kernelspec": {
   "display_name": "Python 3",
   "language": "python",
   "name": "python3"
  },
  "language_info": {
   "codemirror_mode": {
    "name": "ipython",
    "version": 3
   },
   "file_extension": ".py",
   "mimetype": "text/x-python",
   "name": "python",
   "nbconvert_exporter": "python",
   "pygments_lexer": "ipython3",
   "version": "3.8.8"
  }
 },
 "nbformat": 4,
 "nbformat_minor": 5
}
